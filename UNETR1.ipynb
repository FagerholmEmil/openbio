{
  "nbformat": 4,
  "nbformat_minor": 0,
  "metadata": {
    "colab": {
      "provenance": [],
      "collapsed_sections": [
        "iy3nIUS8PdPB",
        "duDXbhyyNO3j",
        "e_bOVlt4z_om"
      ],
      "authorship_tag": "ABX9TyMq7fjRvCRhAFgNv9n7Jh6o",
      "include_colab_link": true
    },
    "kernelspec": {
      "name": "python3",
      "display_name": "Python 3"
    },
    "language_info": {
      "name": "python"
    },
    "gpuClass": "standard",
    "accelerator": "GPU"
  },
  "cells": [
    {
      "cell_type": "markdown",
      "metadata": {
        "id": "view-in-github",
        "colab_type": "text"
      },
      "source": [
        "<a href=\"https://colab.research.google.com/github/FagerholmEmil/openbio/blob/main/UNETR1.ipynb\" target=\"_parent\"><img src=\"https://colab.research.google.com/assets/colab-badge.svg\" alt=\"Open In Colab\"/></a>"
      ]
    },
    {
      "cell_type": "code",
      "execution_count": null,
      "metadata": {
        "id": "PXe7jRdoVsUh"
      },
      "outputs": [],
      "source": [
        "import torch \n",
        "import torch.nn as nn\n",
        "from torch.nn import functional as F\n",
        "from torch.utils.data import Dataset, DataLoader\n",
        "from torch.optim.lr_scheduler import StepLR, MultiplicativeLR\n",
        "from torchvision import transforms\n",
        "import torch.optim as optim\n",
        "\n",
        "import copy\n",
        "import math\n",
        "import matplotlib as plt\n",
        "\n",
        "import numpy as np\n",
        "import pandas as pd\n",
        "\n",
        "try:\n",
        "    from torchinfo import summary\n",
        "except:\n",
        "    print(\"[INFO] Couldn't find torchinfo... installing it.\")\n",
        "    !pip install -q torchinfo\n",
        "    from torchinfo import summary\n",
        "\n",
        "import os\n",
        "for dirname, _, filenames in os.walk('/kaggle/input'):\n",
        "    for filename in filenames:\n",
        "        print(os.path.join(dirname, filename))\n",
        "\n",
        "from sklearn.model_selection import train_test_split\n",
        "\n",
        "import glob\n",
        "\n",
        "from PIL import Image\n",
        "\n",
        "import random\n",
        "\n",
        "import cv2\n",
        "\n",
        "from tqdm import tqdm\n",
        "\n",
        "from time import sleep\n",
        "\n",
        "from collections import OrderedDict, defaultdict \n",
        "\n",
        "import warnings\n",
        "warnings.filterwarnings('ignore')"
      ]
    },
    {
      "cell_type": "code",
      "source": [
        "GPU = True\n",
        "device = \"cuda\" if GPU and torch.cuda.is_available() else \"cpu\"\n",
        "\n",
        "print(f'Using device {device}')"
      ],
      "metadata": {
        "colab": {
          "base_uri": "https://localhost:8080/"
        },
        "id": "w7Lb9e4vJIa_",
        "outputId": "d039201c-f188-46e5-cd44-620e6f49c160"
      },
      "execution_count": null,
      "outputs": [
        {
          "output_type": "stream",
          "name": "stdout",
          "text": [
            "Using device cpu\n"
          ]
        }
      ]
    },
    {
      "cell_type": "markdown",
      "source": [
        "# Final"
      ],
      "metadata": {
        "id": "e_ZNNztk_7oG"
      }
    },
    {
      "cell_type": "code",
      "source": [
        "!git clone https://github.com/FagerholmEmil/openbio.git\n",
        "!mv openbio/unetr.py . # get the helper_functions.py script\n",
        "!rm -rf openbio"
      ],
      "metadata": {
        "colab": {
          "base_uri": "https://localhost:8080/"
        },
        "id": "1FeLkwvJ_-Jg",
        "outputId": "944e3bc2-5247-4675-da85-a162ceeacb9d"
      },
      "execution_count": null,
      "outputs": [
        {
          "output_type": "stream",
          "name": "stdout",
          "text": [
            "Cloning into 'openbio'...\n",
            "remote: Enumerating objects: 34, done.\u001b[K\n",
            "remote: Counting objects: 100% (34/34), done.\u001b[K\n",
            "remote: Compressing objects: 100% (27/27), done.\u001b[K\n",
            "remote: Total 34 (delta 7), reused 0 (delta 0), pack-reused 0\u001b[K\n",
            "Unpacking objects: 100% (34/34), 457.52 KiB | 8.97 MiB/s, done.\n"
          ]
        }
      ]
    },
    {
      "cell_type": "code",
      "source": [
        "from unetr import UNETR\n",
        "demo_img = torch.randn(1, 3, 224, 224).to(device)\n",
        "\n",
        "unetr = UNETR(img_shape=(224, 224),\n",
        "              input_dim=3,\n",
        "              output_dim=1,\n",
        "              embed_dim=768,\n",
        "              patch_size=16,\n",
        "              num_heads=12,\n",
        "              dropout=0.1\n",
        "              ).to(device)\n",
        "\n",
        "summary(model=UNETR(),\n",
        "        input_size=(1, 3, 224, 224),\n",
        "        col_names=[\"input_size\", \"output_size\", \"num_params\", \"trainable\"],\n",
        "        col_width=20,\n",
        "        row_settings=[\"var_names\"])"
      ],
      "metadata": {
        "colab": {
          "base_uri": "https://localhost:8080/"
        },
        "id": "rgFDfv4iIgxz",
        "outputId": "50bf6cea-27f8-48db-def3-586f2db150d9"
      },
      "execution_count": null,
      "outputs": [
        {
          "output_type": "execute_result",
          "data": {
            "text/plain": [
              "==================================================================================================================================\n",
              "Layer (type (var_name))                            Input Shape          Output Shape         Param #              Trainable\n",
              "==================================================================================================================================\n",
              "UNETR (UNETR)                                      [1, 3, 224, 224]     [1, 1, 224, 224]     --                   True\n",
              "├─Transformer (transformer)                        [1, 3, 224, 224]     [1, 196, 768]        1,536                True\n",
              "│    └─Embeddings (embeddings)                     [1, 3, 224, 224]     [1, 196, 768]        150,528              True\n",
              "│    │    └─Conv2d (patch_embeddings)              [1, 3, 224, 224]     [1, 768, 14, 14]     590,592              True\n",
              "│    │    └─Dropout (dropout)                      [1, 196, 768]        [1, 196, 768]        --                   --\n",
              "│    └─ModuleList (layer)                          --                   --                   --                   True\n",
              "│    │    └─TransformerBlock (0)                   [1, 196, 768]        [1, 196, 768]        5,513,984            True\n",
              "│    │    └─TransformerBlock (1)                   [1, 196, 768]        [1, 196, 768]        5,513,984            True\n",
              "│    │    └─TransformerBlock (2)                   [1, 196, 768]        [1, 196, 768]        5,513,984            True\n",
              "│    │    └─TransformerBlock (3)                   [1, 196, 768]        [1, 196, 768]        5,513,984            True\n",
              "│    │    └─TransformerBlock (4)                   [1, 196, 768]        [1, 196, 768]        5,513,984            True\n",
              "│    │    └─TransformerBlock (5)                   [1, 196, 768]        [1, 196, 768]        5,513,984            True\n",
              "│    │    └─TransformerBlock (6)                   [1, 196, 768]        [1, 196, 768]        5,513,984            True\n",
              "│    │    └─TransformerBlock (7)                   [1, 196, 768]        [1, 196, 768]        5,513,984            True\n",
              "│    │    └─TransformerBlock (8)                   [1, 196, 768]        [1, 196, 768]        5,513,984            True\n",
              "│    │    └─TransformerBlock (9)                   [1, 196, 768]        [1, 196, 768]        5,513,984            True\n",
              "│    │    └─TransformerBlock (10)                  [1, 196, 768]        [1, 196, 768]        5,513,984            True\n",
              "│    │    └─TransformerBlock (11)                  [1, 196, 768]        [1, 196, 768]        5,513,984            True\n",
              "├─SingleDeconv2DBlock (decoder12_upsampler)        [1, 768, 14, 14]     [1, 512, 28, 28]     --                   True\n",
              "│    └─ConvTranspose2d (block)                     [1, 768, 14, 14]     [1, 512, 28, 28]     1,573,376            True\n",
              "├─Deconv2DBlock (decoder9)                         [1, 768, 14, 14]     [1, 512, 28, 28]     --                   True\n",
              "│    └─Sequential (block)                          [1, 768, 14, 14]     [1, 512, 28, 28]     --                   True\n",
              "│    │    └─SingleDeconv2DBlock (0)                [1, 768, 14, 14]     [1, 512, 28, 28]     1,573,376            True\n",
              "│    │    └─SingleConv2DBlock (1)                  [1, 512, 28, 28]     [1, 512, 28, 28]     2,359,808            True\n",
              "│    │    └─BatchNorm2d (2)                        [1, 512, 28, 28]     [1, 512, 28, 28]     1,024                True\n",
              "│    │    └─ReLU (3)                               [1, 512, 28, 28]     [1, 512, 28, 28]     --                   --\n",
              "├─Sequential (decoder9_upsampler)                  [1, 1024, 28, 28]    [1, 256, 56, 56]     --                   True\n",
              "│    └─Conv2DBlock (0)                             [1, 1024, 28, 28]    [1, 512, 28, 28]     --                   True\n",
              "│    │    └─Sequential (block)                     [1, 1024, 28, 28]    [1, 512, 28, 28]     4,720,128            True\n",
              "│    └─Conv2DBlock (1)                             [1, 512, 28, 28]     [1, 512, 28, 28]     --                   True\n",
              "│    │    └─Sequential (block)                     [1, 512, 28, 28]     [1, 512, 28, 28]     2,360,832            True\n",
              "│    └─Conv2DBlock (2)                             [1, 512, 28, 28]     [1, 512, 28, 28]     --                   True\n",
              "│    │    └─Sequential (block)                     [1, 512, 28, 28]     [1, 512, 28, 28]     2,360,832            True\n",
              "│    └─SingleDeconv2DBlock (3)                     [1, 512, 28, 28]     [1, 256, 56, 56]     --                   True\n",
              "│    │    └─ConvTranspose2d (block)                [1, 512, 28, 28]     [1, 256, 56, 56]     524,544              True\n",
              "├─Sequential (decoder6)                            [1, 768, 14, 14]     [1, 256, 56, 56]     --                   True\n",
              "│    └─Deconv2DBlock (0)                           [1, 768, 14, 14]     [1, 512, 28, 28]     --                   True\n",
              "│    │    └─Sequential (block)                     [1, 768, 14, 14]     [1, 512, 28, 28]     3,934,208            True\n",
              "│    └─Deconv2DBlock (1)                           [1, 512, 28, 28]     [1, 256, 56, 56]     --                   True\n",
              "│    │    └─Sequential (block)                     [1, 512, 28, 28]     [1, 256, 56, 56]     1,115,136            True\n",
              "├─Sequential (decoder6_upsampler)                  [1, 512, 56, 56]     [1, 128, 112, 112]   --                   True\n",
              "│    └─Conv2DBlock (0)                             [1, 512, 56, 56]     [1, 256, 56, 56]     --                   True\n",
              "│    │    └─Sequential (block)                     [1, 512, 56, 56]     [1, 256, 56, 56]     1,180,416            True\n",
              "│    └─Conv2DBlock (1)                             [1, 256, 56, 56]     [1, 256, 56, 56]     --                   True\n",
              "│    │    └─Sequential (block)                     [1, 256, 56, 56]     [1, 256, 56, 56]     590,592              True\n",
              "│    └─SingleDeconv2DBlock (2)                     [1, 256, 56, 56]     [1, 128, 112, 112]   --                   True\n",
              "│    │    └─ConvTranspose2d (block)                [1, 256, 56, 56]     [1, 128, 112, 112]   131,200              True\n",
              "├─Sequential (decoder3)                            [1, 768, 14, 14]     [1, 128, 112, 112]   --                   True\n",
              "│    └─Deconv2DBlock (0)                           [1, 768, 14, 14]     [1, 512, 28, 28]     --                   True\n",
              "│    │    └─Sequential (block)                     [1, 768, 14, 14]     [1, 512, 28, 28]     3,934,208            True\n",
              "│    └─Deconv2DBlock (1)                           [1, 512, 28, 28]     [1, 256, 56, 56]     --                   True\n",
              "│    │    └─Sequential (block)                     [1, 512, 28, 28]     [1, 256, 56, 56]     1,115,136            True\n",
              "│    └─Deconv2DBlock (2)                           [1, 256, 56, 56]     [1, 128, 112, 112]   --                   True\n",
              "│    │    └─Sequential (block)                     [1, 256, 56, 56]     [1, 128, 112, 112]   279,040              True\n",
              "├─Sequential (decoder3_upsampler)                  [1, 256, 112, 112]   [1, 64, 224, 224]    --                   True\n",
              "│    └─Conv2DBlock (0)                             [1, 256, 112, 112]   [1, 128, 112, 112]   --                   True\n",
              "│    │    └─Sequential (block)                     [1, 256, 112, 112]   [1, 128, 112, 112]   295,296              True\n",
              "│    └─Conv2DBlock (1)                             [1, 128, 112, 112]   [1, 128, 112, 112]   --                   True\n",
              "│    │    └─Sequential (block)                     [1, 128, 112, 112]   [1, 128, 112, 112]   147,840              True\n",
              "│    └─SingleDeconv2DBlock (2)                     [1, 128, 112, 112]   [1, 64, 224, 224]    --                   True\n",
              "│    │    └─ConvTranspose2d (block)                [1, 128, 112, 112]   [1, 64, 224, 224]    32,832               True\n",
              "├─Sequential (decoder0)                            [1, 3, 224, 224]     [1, 64, 224, 224]    --                   True\n",
              "│    └─Conv2DBlock (0)                             [1, 3, 224, 224]     [1, 32, 224, 224]    --                   True\n",
              "│    │    └─Sequential (block)                     [1, 3, 224, 224]     [1, 32, 224, 224]    960                  True\n",
              "│    └─Conv2DBlock (1)                             [1, 32, 224, 224]    [1, 64, 224, 224]    --                   True\n",
              "│    │    └─Sequential (block)                     [1, 32, 224, 224]    [1, 64, 224, 224]    18,624               True\n",
              "├─Sequential (decoder0_header)                     [1, 128, 224, 224]   [1, 1, 224, 224]     --                   True\n",
              "│    └─Conv2DBlock (0)                             [1, 128, 224, 224]   [1, 64, 224, 224]    --                   True\n",
              "│    │    └─Sequential (block)                     [1, 128, 224, 224]   [1, 64, 224, 224]    73,920               True\n",
              "│    └─Conv2DBlock (1)                             [1, 64, 224, 224]    [1, 64, 224, 224]    --                   True\n",
              "│    │    └─Sequential (block)                     [1, 64, 224, 224]    [1, 64, 224, 224]    37,056               True\n",
              "│    └─SingleConv2DBlock (2)                       [1, 64, 224, 224]    [1, 1, 224, 224]     --                   True\n",
              "│    │    └─Conv2d (block)                         [1, 64, 224, 224]    [1, 1, 224, 224]     65                   True\n",
              "==================================================================================================================================\n",
              "Total params: 95,270,913\n",
              "Trainable params: 95,270,913\n",
              "Non-trainable params: 0\n",
              "Total mult-adds (G): 51.13\n",
              "==================================================================================================================================\n",
              "Input size (MB): 0.60\n",
              "Forward/backward pass size (MB): 571.60\n",
              "Params size (MB): 380.48\n",
              "Estimated Total Size (MB): 952.68\n",
              "=================================================================================================================================="
            ]
          },
          "metadata": {},
          "execution_count": 4
        }
      ]
    },
    {
      "cell_type": "markdown",
      "source": [
        "# UNETR\n"
      ],
      "metadata": {
        "id": "X0vEtuiWtCFR"
      }
    },
    {
      "cell_type": "markdown",
      "source": [
        "## Transformer (Encoder)"
      ],
      "metadata": {
        "id": "SC06DnCnZBXG"
      }
    },
    {
      "cell_type": "markdown",
      "source": [
        "Turn data into patches with convolutional layers with stride=patch and kernel=patch \\\n",
        "PyTorch uses the order `(batch_size, channels, height, width)` \n",
        "\n",
        "\n",
        "\n"
      ],
      "metadata": {
        "id": "acFkx9kNaH5H"
      }
    },
    {
      "cell_type": "code",
      "source": [
        "class Embeddings(nn.Module):\n",
        "    # Initialize the class with appropriate variables\n",
        "    def __init__(self,\n",
        "                 input_dim=3, \n",
        "                 embed_dim=768,\n",
        "                 image_size=(224,224),\n",
        "                 patch_size=16,\n",
        "                 dropout=0.2\n",
        "                 ):\n",
        "        super().__init__()\n",
        "        self.n_patches = int((image_size[0] * image_size[1]) / (patch_size * patch_size)) # 196\n",
        "        self.patch_size = patch_size # 16\n",
        "        self.embed_dim = embed_dim # 768\n",
        "        #  Create a layer to turn an image into patches\n",
        "        self.patch_embeddings = nn.Conv2d(in_channels=input_dim, # 3\n",
        "                                          out_channels=embed_dim, # 768\n",
        "                                          kernel_size=patch_size, # 16\n",
        "                                          stride=patch_size) # 16\n",
        "        self.position_embeddings = nn.Parameter(torch.randn(1, self.n_patches, embed_dim)) # 1, 196, 768 || could alse be torch.zeros || n_patches+1\n",
        "        self.dropout = nn.Dropout(dropout) \n",
        "        \n",
        "    def forward(self, x):\n",
        "        image_resolution = x.shape[-1]\n",
        "        assert image_resolution % self.patch_size == 0, f\"Input image size must be divisble by patch size, image shape: {image_resolution}, patch size: {self.patch_size}\"\n",
        "        x = self.patch_embeddings(x) # (32,768,14,14)\n",
        "        x = x.flatten(2) # Flatten last two dimensions (32,768,196)\n",
        "        x = x.transpose(-1, -2) # change order of the last and the penultimate dimension (32,196,768)\n",
        "        embeddings = x + self.position_embeddings # sum over the columns dim=1\n",
        "        embeddings = self.dropout(embeddings)\n",
        "        return embeddings # (32,196,768)"
      ],
      "metadata": {
        "id": "jqS4poIrk6eh"
      },
      "execution_count": null,
      "outputs": []
    },
    {
      "cell_type": "code",
      "source": [
        "class SelfAttention(nn.Module):\n",
        "    def __init__(self, num_heads, embed_dim, dropout):\n",
        "        super().__init__()\n",
        "        self.num_attention_heads = num_heads\n",
        "        self.attention_head_size = int(embed_dim / num_heads)\n",
        "        self.all_head_size = self.num_attention_heads * self.attention_head_size\n",
        "\n",
        "        self.query = nn.Linear(embed_dim, self.all_head_size)\n",
        "        self.key = nn.Linear(embed_dim, self.all_head_size)\n",
        "        self.value = nn.Linear(embed_dim, self.all_head_size)\n",
        "\n",
        "        self.out = nn.Linear(embed_dim, embed_dim)\n",
        "        self.attn_dropout = nn.Dropout(dropout)\n",
        "        self.proj_dropout = nn.Dropout(dropout)\n",
        "\n",
        "        self.softmax = nn.Softmax(dim=-1)\n",
        "\n",
        "        self.vis = False\n",
        "\n",
        "    def transpose_for_scores(self, x):\n",
        "        new_x_shape = x.size()[:-1] + (self.num_attention_heads, self.attention_head_size)\n",
        "        x = x.view(*new_x_shape)\n",
        "        return x.permute(0, 2, 1, 3)\n",
        "\n",
        "    def forward(self, hidden_states):\n",
        "        mixed_query_layer = self.query(hidden_states)\n",
        "        mixed_key_layer = self.key(hidden_states)\n",
        "        mixed_value_layer = self.value(hidden_states)\n",
        "\n",
        "        query_layer = self.transpose_for_scores(mixed_query_layer)\n",
        "        key_layer = self.transpose_for_scores(mixed_key_layer)\n",
        "        value_layer = self.transpose_for_scores(mixed_value_layer)\n",
        "\n",
        "        attention_scores = torch.matmul(query_layer, key_layer.transpose(-1, -2))\n",
        "        attention_scores = attention_scores / math.sqrt(self.attention_head_size)\n",
        "        attention_probs = self.softmax(attention_scores)\n",
        "        weights = attention_probs if self.vis else None\n",
        "        attention_probs = self.attn_dropout(attention_probs)\n",
        "\n",
        "        context_layer = torch.matmul(attention_probs, value_layer)\n",
        "        context_layer = context_layer.permute(0, 2, 1, 3).contiguous()\n",
        "        new_context_layer_shape = context_layer.size()[:-2] + (self.all_head_size,)\n",
        "        context_layer = context_layer.view(*new_context_layer_shape)\n",
        "        attention_output = self.out(context_layer)\n",
        "        attention_output = self.proj_dropout(attention_output)\n",
        "        return attention_output, weights\n"
      ],
      "metadata": {
        "id": "aQTG-bqyZDzt"
      },
      "execution_count": null,
      "outputs": []
    },
    {
      "cell_type": "code",
      "source": [
        "class Mlp(nn.Module):\n",
        "    def __init__(self, in_features, act_layer=nn.GELU, drop=0.):\n",
        "        super().__init__()\n",
        "        self.fc1 = nn.Linear(in_features, in_features)\n",
        "        self.act = act_layer()\n",
        "        self.drop = nn.Dropout(drop)\n",
        "\n",
        "    def forward(self, x):\n",
        "        x = self.fc1()\n",
        "        x = self.act(x)\n",
        "        x = self.drop(x)\n",
        "        return x"
      ],
      "metadata": {
        "id": "78jVpO4yd7nw"
      },
      "execution_count": null,
      "outputs": []
    },
    {
      "cell_type": "code",
      "source": [
        "class PositionwiseFeedForward(nn.Module):\n",
        "    def __init__(self, d_model=786, d_ff=2048, dropout=0.1):\n",
        "        super().__init__()\n",
        "        # Torch linears have a `b` by default.\n",
        "        self.w_1 = nn.Linear(d_model, d_ff)\n",
        "        self.w_2 = nn.Linear(d_ff, d_model)\n",
        "        self.dropout = nn.Dropout(dropout)\n",
        "\n",
        "    def forward(self, x):\n",
        "        return self.w_2(self.dropout(F.relu(self.w_1(x)))) # gelu"
      ],
      "metadata": {
        "id": "DldtKbkdZY2t"
      },
      "execution_count": null,
      "outputs": []
    },
    {
      "cell_type": "code",
      "source": [
        "class TransformerBlock(nn.Module):\n",
        "    def __init__(self, embed_dim, num_heads, dropout, image_size, patch_size):\n",
        "        super().__init__()\n",
        "        self.attention_norm = nn.LayerNorm(embed_dim, eps=1e-6)\n",
        "        self.mlp_norm = nn.LayerNorm(embed_dim, eps=1e-6)\n",
        "        self.mlp_dim = int((image_size[0] * image_size[1]) / (patch_size * patch_size))\n",
        "        self.mlp = PositionwiseFeedForward(embed_dim, 2048)\n",
        "        self.attn = SelfAttention(num_heads, embed_dim, dropout)\n",
        "\n",
        "    def forward(self, x):\n",
        "        h = x\n",
        "        x = self.attention_norm(x)\n",
        "        x, weights = self.attn(x)\n",
        "        x = x + h\n",
        "        h = x\n",
        "\n",
        "        x = self.mlp_norm(x)\n",
        "        x = self.mlp(x)\n",
        "\n",
        "        x = x + h\n",
        "        return x, weights"
      ],
      "metadata": {
        "id": "eHnxqHBFYxId"
      },
      "execution_count": null,
      "outputs": []
    },
    {
      "cell_type": "code",
      "source": [
        "class Transformer(nn.Module):\n",
        "    def __init__(self, input_dim, embed_dim, image_size, patch_size, num_heads, num_layers, dropout, extract_layers):\n",
        "        super().__init__()\n",
        "        self.embeddings = Embeddings(input_dim, embed_dim, image_size, patch_size, dropout)\n",
        "        self.layer = nn.ModuleList()\n",
        "        self.encoder_norm = nn.LayerNorm(embed_dim, eps=1e-6)\n",
        "        self.extract_layers = extract_layers\n",
        "        for _ in range(num_layers):\n",
        "            layer = TransformerBlock(embed_dim, num_heads, dropout, image_size, patch_size)\n",
        "            self.layer.append(copy.deepcopy(layer))\n",
        "\n",
        "    def forward(self, x):\n",
        "        extract_layers = []\n",
        "        hidden_states = self.embeddings(x)\n",
        "\n",
        "        for depth, layer_block in enumerate(self.layer):\n",
        "            hidden_states, _ = layer_block(hidden_states)\n",
        "            if depth + 1 in self.extract_layers:\n",
        "                extract_layers.append(hidden_states)\n",
        "\n",
        "        return extract_layers\n"
      ],
      "metadata": {
        "id": "iCLfnxcwj58u"
      },
      "execution_count": null,
      "outputs": []
    },
    {
      "cell_type": "markdown",
      "source": [
        "### Check Transformer"
      ],
      "metadata": {
        "id": "iy3nIUS8PdPB"
      }
    },
    {
      "cell_type": "code",
      "source": [
        "# x = torch.randn(32, 3, 224, 224) # batch_size, color_channels, height, width"
      ],
      "metadata": {
        "id": "dZewLTaCGvbm"
      },
      "execution_count": null,
      "outputs": []
    },
    {
      "cell_type": "code",
      "source": [
        "'''\n",
        "transformer= Transformer(input_dim=3,\n",
        "               embed_dim=768,\n",
        "               image_size=(224,224),\n",
        "               patch_size=16,\n",
        "               num_heads=8,\n",
        "               num_layers=12,\n",
        "               dropout=0.2,\n",
        "               extract_layers=[3,6,9,12]\n",
        "               )\n",
        "transformer = transformer(x)\n",
        "print(transformer[0].shape)\n",
        "print(transformer[1].shape)\n",
        "print(transformer[2].shape)\n",
        "print(transformer[3].shape)\n",
        "'''"
      ],
      "metadata": {
        "colab": {
          "base_uri": "https://localhost:8080/",
          "height": 53
        },
        "id": "ElL-gLL6t-Na",
        "outputId": "124bd5c9-789e-4d4c-cebe-30caa31d59b4"
      },
      "execution_count": null,
      "outputs": [
        {
          "output_type": "execute_result",
          "data": {
            "text/plain": [
              "'\\ntransformer= Transformer(input_dim=3,\\n               embed_dim=768,\\n               image_size=(224,224),\\n               patch_size=16,\\n               num_heads=8,\\n               num_layers=12,\\n               dropout=0.2,\\n               extract_layers=[3,6,9,12]\\n               )\\ntransformer = transformer(x)\\nprint(transformer[0].shape)\\nprint(transformer[1].shape)\\nprint(transformer[2].shape)\\nprint(transformer[3].shape)\\n'"
            ],
            "application/vnd.google.colaboratory.intrinsic+json": {
              "type": "string"
            }
          },
          "metadata": {},
          "execution_count": 33
        }
      ]
    },
    {
      "cell_type": "markdown",
      "source": [
        "## U-Net (Decoder)"
      ],
      "metadata": {
        "id": "rp4_f2r8Zx5w"
      }
    },
    {
      "cell_type": "code",
      "source": [
        "class SingleDeconv2DBlock(nn.Module):\n",
        "    def __init__(self, in_planes, out_planes):\n",
        "        super().__init__()\n",
        "        self.block = nn.ConvTranspose2d(in_planes, out_planes, kernel_size=2, stride=2, padding=0, output_padding=0)\n",
        "\n",
        "    def forward(self, x):\n",
        "        return self.block(x)"
      ],
      "metadata": {
        "id": "Wqf9eLooYNWp"
      },
      "execution_count": null,
      "outputs": []
    },
    {
      "cell_type": "code",
      "source": [
        "class SingleConv2DBlock(nn.Module):\n",
        "    def __init__(self, in_planes, out_planes, kernel_size):\n",
        "        super().__init__()\n",
        "        self.block = nn.Conv2d(in_planes, out_planes, kernel_size=kernel_size, stride=1,\n",
        "                               padding=((kernel_size - 1) // 2))\n",
        "\n",
        "    def forward(self, x):\n",
        "        return self.block(x)"
      ],
      "metadata": {
        "id": "05TQKQ3cYczF"
      },
      "execution_count": null,
      "outputs": []
    },
    {
      "cell_type": "code",
      "source": [
        "class Conv2DBlock(nn.Module):\n",
        "    def __init__(self, in_planes, out_planes, kernel_size=3):\n",
        "        super().__init__()\n",
        "        self.block = nn.Sequential(\n",
        "            SingleConv2DBlock(in_planes, out_planes, kernel_size),\n",
        "            nn.BatchNorm2d(out_planes),\n",
        "            nn.ReLU(True)\n",
        "        )\n",
        "\n",
        "    def forward(self, x):\n",
        "        return self.block(x)"
      ],
      "metadata": {
        "id": "PU5FcbKrX-13"
      },
      "execution_count": null,
      "outputs": []
    },
    {
      "cell_type": "code",
      "source": [
        "class Deconv2DBlock(nn.Module):\n",
        "    def __init__(self, in_planes, out_planes, kernel_size=3):\n",
        "        super().__init__()\n",
        "        self.block = nn.Sequential(\n",
        "            SingleDeconv2DBlock(in_planes, out_planes),\n",
        "            SingleConv2DBlock(out_planes, out_planes, kernel_size),\n",
        "            nn.BatchNorm2d(out_planes),\n",
        "            nn.ReLU(True)\n",
        "        )\n",
        "\n",
        "    def forward(self, x):\n",
        "        return self.block(x)"
      ],
      "metadata": {
        "id": "URxG-lTYYm0E"
      },
      "execution_count": null,
      "outputs": []
    },
    {
      "cell_type": "markdown",
      "source": [
        "## UNETR"
      ],
      "metadata": {
        "id": "o26_SRL-Z3mt"
      }
    },
    {
      "cell_type": "code",
      "source": [
        "#(3,224,224)\n",
        "class Deconv2DBlock(nn.Module):\n",
        "    def __init__(self, in_planes, out_planes, kernel_size=3):\n",
        "        super().__init__()\n",
        "        self.block = nn.Sequential(\n",
        "            SingleDeconv2DBlock(in_planes, out_planes),  # does not change dimensions only channels\n",
        "            SingleConv2DBlock(out_planes, out_planes, kernel_size), \n",
        "            nn.BatchNorm2d(out_planes),\n",
        "            nn.ReLU(True)\n",
        "        )\n",
        "\n",
        "    def forward(self, x):\n",
        "        return self.block(x)\n",
        "\n",
        "class Conv2DBlock(nn.Module):\n",
        "    def __init__(self, in_planes, out_planes, kernel_size=3):\n",
        "        super().__init__()\n",
        "        self.block = nn.Sequential(\n",
        "            SingleConv2DBlock(in_planes, out_planes, kernel_size), # does not change dimensions only channels\n",
        "            nn.BatchNorm2d(out_planes),\n",
        "            nn.ReLU(True)\n",
        "        )\n",
        "\n",
        "    def forward(self, x):\n",
        "        return self.block(x)\n",
        "\n",
        "\n",
        "class SingleConv2DBlock(nn.Module): # does not change output size if kernel_size=3\n",
        "    def __init__(self, in_planes, out_planes, kernel_size):\n",
        "        super().__init__()\n",
        "        self.block = nn.Conv2d(in_planes, out_planes, kernel_size=kernel_size, stride=1,\n",
        "                               padding=((kernel_size - 1) // 2))\n",
        "\n",
        "    def forward(self, x):\n",
        "        return self.block(x)\n",
        "\n",
        "\n",
        "# ([i-k] + 2P)/S+1 || i=input, k=kernel, P=padding, S=stride || [i/2 if k = S and P = 0 == True]\n",
        "class SingleDeconv2DBlock(nn.Module): # 224 => 112 || 112 => 56 || 56 => 28 || 28 => 14\n",
        "    def __init__(self, in_planes, out_planes):\n",
        "        super().__init__()\n",
        "        self.block = nn.ConvTranspose2d(in_planes, out_planes, kernel_size=2, stride=2, padding=0, output_padding=0)\n",
        "\n",
        "    def forward(self, x):\n",
        "        return self.block(x)\n",
        "\n",
        "\n",
        "\n",
        "class Embeddings(nn.Module):\n",
        "    # Initialize the class with appropriate variables\n",
        "    def __init__(self,\n",
        "                 input_dim=3, \n",
        "                 embed_dim=768,\n",
        "                 image_size=(224,224),\n",
        "                 patch_size=16,\n",
        "                 dropout=0.2\n",
        "                 ):\n",
        "        super().__init__()\n",
        "        self.n_patches = int((image_size[0] * image_size[1]) / (patch_size * patch_size)) # 196\n",
        "        self.patch_size = patch_size # 16\n",
        "        self.embed_dim = embed_dim # 768\n",
        "        #  Create a layer to turn an image into patches\n",
        "        self.patch_embeddings = nn.Conv2d(in_channels=input_dim, # 3\n",
        "                                          out_channels=embed_dim, # 768\n",
        "                                          kernel_size=patch_size, # 16\n",
        "                                          stride=patch_size) # 16\n",
        "        self.position_embeddings = nn.Parameter(torch.randn(1, self.n_patches, embed_dim)) # 1, 196, 768 || could alse be torch.zeros || n_patches+1\n",
        "        self.dropout = nn.Dropout(dropout) \n",
        "        \n",
        "    def forward(self, x):\n",
        "        image_resolution = x.shape[-1] # 224\n",
        "        #print(f'imageres {image_resolution}')\n",
        "        assert image_resolution % self.patch_size == 0, f\"Input image size must be divisble by patch size, image shape: {image_resolution}, patch size: {self.patch_size}\"\n",
        "        x = self.patch_embeddings(x) # (32,768,14,14)\n",
        "        #print(f'patch_embeddings {x.shape}')\n",
        "        x = x.flatten(2) # Flatten last two dimensions (32,768,196)\n",
        "        #print(f'flatten {x.shape}')\n",
        "        x = x.transpose(-1, -2) # change order of the last and the penultimate dimension (32,196,768)\n",
        "        #print(f'transpose{x.shape}')\n",
        "        embeddings = x + self.position_embeddings # sum over the columns dim=1\n",
        "        #print(f'emeddings {embeddings.shape}') # 1,196,768\n",
        "        embeddings = self.dropout(embeddings)\n",
        "        return embeddings # (32,196,768)\n",
        "\n",
        "# (32,196,768)\n",
        "class SelfAttention(nn.Module):\n",
        "    def __init__(self, num_heads, embed_dim, dropout):\n",
        "        super().__init__()\n",
        "        self.num_attention_heads = num_heads #12\n",
        "        self.attention_head_size = int(embed_dim / num_heads) # 64\n",
        "        self.all_head_size = self.num_attention_heads * self.attention_head_size # 768\n",
        "\n",
        "        self.query = nn.Linear(embed_dim, self.all_head_size)\n",
        "        self.key = nn.Linear(embed_dim, self.all_head_size)\n",
        "        self.value = nn.Linear(embed_dim, self.all_head_size) #768,768\n",
        "\n",
        "        self.out = nn.Linear(embed_dim, embed_dim) # 768,768\n",
        "        self.attn_dropout = nn.Dropout(dropout)\n",
        "        self.proj_dropout = nn.Dropout(dropout)\n",
        "\n",
        "        self.softmax = nn.Softmax(dim=-1)\n",
        "\n",
        "        self.vis = False\n",
        "\n",
        "    def transpose_for_scores(self, x):\n",
        "        new_x_shape = x.size()[:-1] + (self.num_attention_heads, self.attention_head_size) # 32,196,768 => 32,196,12,64\n",
        "        x = x.view(*new_x_shape) # 32,196,12,64\n",
        "        return x.permute(0, 2, 1, 3) # 32, 12, 196, 64\n",
        "\n",
        "    def forward(self, hidden_states):\n",
        "        mixed_query_layer = self.query(hidden_states) # 32, 196, 768 \n",
        "        #print(f'mixed_query_layer: {mixed_query_layer.shape}')\n",
        "        mixed_key_layer = self.key(hidden_states) # 32, 196, 768 \n",
        "        mixed_value_layer = self.value(hidden_states) # 32, 196, 768 \n",
        "\n",
        "        query_layer = self.transpose_for_scores(mixed_query_layer) # 32, 12, 196, 64\n",
        "        # print(f'querylayer {query_layer.shape}')\n",
        "        key_layer = self.transpose_for_scores(mixed_key_layer) # 32, 12, 196, 64\n",
        "        value_layer = self.transpose_for_scores(mixed_value_layer) # 32, 12, 196, 64\n",
        "\n",
        "        attention_scores = torch.matmul(query_layer, key_layer.transpose(-1, -2)) # 32, 12, 196, 64 @  32, 12, 64, 196 => 32, 12, 196, 196\n",
        "        #print(f'attention_scores: {attention_scores.shape}') # 1, 12, 196, 196\n",
        "        attention_scores = attention_scores / math.sqrt(self.attention_head_size) # scale down\n",
        "        #print(f'attention_scores1: {attention_scores.shape}')  # 1, 12, 196, 196\n",
        "        attention_probs = self.softmax(attention_scores) # normalize\n",
        "        #print(f'attention_scores2: {attention_scores.shape}') # 1, 12, 196, 196\n",
        "        weights = attention_probs if self.vis else None # ?\n",
        "        #print(f'attention_scores3: {attention_scores.shape}') # 1, 12, 196, 196\n",
        "        attention_probs = self.attn_dropout(attention_probs) # dropout, necassary?\n",
        "        #print(f'attention_scores4: {attention_scores.shape}') # 1, 12, 196, 196\n",
        "\n",
        "        context_layer = torch.matmul(attention_probs, value_layer) # 32, 12, 196, 196 @ 32, 196, 768\n",
        "        #print(f'context_layer: {context_layer.shape}') # 1, 12, 196, 64\n",
        "        context_layer = context_layer.permute(0, 2, 1, 3).contiguous()\n",
        "        #print(f'context_layer1: {context_layer.shape}') # 1, 196, 12, 64\n",
        "        new_context_layer_shape = context_layer.size()[:-2] + (self.all_head_size,) \n",
        "        #print(f'newcontextlayer: {new_context_layer_shape}') # 1, 196, 768\n",
        "        context_layer = context_layer.view(*new_context_layer_shape)\n",
        "        attention_output = self.out(context_layer)\n",
        "        #print(f'attention_out: {attention_output.shape}') # 1, 196, 768\n",
        "        attention_output = self.proj_dropout(attention_output)\n",
        "        #print(f'attention_out2: {attention_output.shape}') # 1, 196, 768\n",
        "        return attention_output, weights\n",
        "\n",
        "\n",
        "\n",
        "class Mlp(nn.Module):\n",
        "    def __init__(self, in_features, act_layer=nn.GELU, drop=0.):\n",
        "        super().__init__()\n",
        "        self.fc1 = nn.Linear(in_features, in_features)\n",
        "        self.act = act_layer()\n",
        "        self.drop = nn.Dropout(drop)\n",
        "\n",
        "    def forward(self, x):\n",
        "        x = self.fc1()\n",
        "        x = self.act(x)\n",
        "        x = self.drop(x)\n",
        "        return x\n",
        "\n",
        "\n",
        "\n",
        "class PositionwiseFeedForward(nn.Module):\n",
        "    def __init__(self, d_model=786, d_ff=2048, dropout=0.1): # best d_ff? > maybe?\n",
        "        super().__init__()\n",
        "        # Torch linears have a `b` by default.\n",
        "        self.w_1 = nn.Linear(d_model, d_ff)\n",
        "        self.w_2 = nn.Linear(d_ff, d_model)\n",
        "        self.dropout = nn.Dropout(dropout)\n",
        "\n",
        "    def forward(self, x):\n",
        "        #print(f'PFF: {self.w_2(self.dropout(F.relu(self.w_1(x)))).shape}') # 1,196,768\n",
        "        return self.w_2(self.dropout(F.relu(self.w_1(x)))) # gelu\n",
        "\n",
        "class TransformerBlock(nn.Module):\n",
        "    def __init__(self, embed_dim, num_heads, dropout, image_size, patch_size):\n",
        "        super().__init__()\n",
        "        self.attention_norm = nn.LayerNorm(embed_dim, eps=1e-6)\n",
        "        self.mlp_norm = nn.LayerNorm(embed_dim, eps=1e-6)\n",
        "        self.mlp_dim = int((image_size[0] * image_size[1]) / (patch_size * patch_size))\n",
        "        self.mlp = PositionwiseFeedForward(embed_dim, 2048)\n",
        "        self.attn = SelfAttention(num_heads, embed_dim, dropout)\n",
        "\n",
        "    def forward(self, x):\n",
        "        h = x\n",
        "        #print(f'input {h.shape}') # 1, 196, 768\n",
        "        x = self.attention_norm(x)\n",
        "        #print(f'attentionnorm {x.shape}') # 1, 196, 768\n",
        "        x, weights = self.attn(x)\n",
        "        x = x + h\n",
        "        h = x\n",
        "\n",
        "        x = self.mlp_norm(x)\n",
        "        x = self.mlp(x)\n",
        "\n",
        "        x = x + h\n",
        "        return x, weights\n",
        "\n",
        "\n",
        "class Transformer(nn.Module):\n",
        "    def __init__(self, input_dim, embed_dim, image_size, patch_size, num_heads, num_layers, dropout, extract_layers):\n",
        "        super().__init__()\n",
        "        self.embeddings = Embeddings(input_dim, embed_dim, image_size, patch_size, dropout)\n",
        "        self.layer = nn.ModuleList()\n",
        "        self.encoder_norm = nn.LayerNorm(embed_dim, eps=1e-6)\n",
        "        self.extract_layers = extract_layers\n",
        "        for _ in range(num_layers):\n",
        "            layer = TransformerBlock(embed_dim, num_heads, dropout, image_size, patch_size)\n",
        "            self.layer.append(copy.deepcopy(layer))\n",
        "\n",
        "    def forward(self, x):\n",
        "        extract_layers = []\n",
        "        hidden_states = self.embeddings(x)\n",
        "        #print(f'hidden {hidden_states.shape}') # 1, 196, 768\n",
        "\n",
        "        for depth, layer_block in enumerate(self.layer):\n",
        "            hidden_states, _ = layer_block(hidden_states)\n",
        "            if depth + 1 in self.extract_layers:\n",
        "                extract_layers.append(hidden_states)\n",
        "        #print(extract_layers[0].shape) 1, 196, 768\n",
        "        return extract_layers\n",
        "\n",
        "\n",
        "class UNETR(nn.Module):\n",
        "    def __init__(self, img_shape=(224, 224), input_dim=3, output_dim=1, embed_dim=768, patch_size=16, num_heads=12, dropout=0.1):\n",
        "        super().__init__()\n",
        "        self.input_dim = input_dim\n",
        "        self.output_dim = output_dim\n",
        "        self.embed_dim = embed_dim\n",
        "        self.img_shape = img_shape\n",
        "        self.patch_size = patch_size\n",
        "        self.num_heads = num_heads\n",
        "        self.dropout = dropout\n",
        "        self.num_layers = 12\n",
        "        self.ext_layers = [3, 6, 9, 12]\n",
        "\n",
        "        self.patch_dim = [int(y / patch_size) for y in img_shape] # [14,14]\n",
        "\n",
        "        # Transformer Encoder\n",
        "        self.transformer = \\\n",
        "            Transformer(\n",
        "                input_dim,\n",
        "                embed_dim,\n",
        "                img_shape,\n",
        "                patch_size,\n",
        "                num_heads,\n",
        "                self.num_layers,\n",
        "                dropout,\n",
        "                self.ext_layers\n",
        "            )\n",
        "\n",
        "        # U-Net Decoder\n",
        "        self.decoder0 = \\\n",
        "            nn.Sequential(\n",
        "                Conv2DBlock(input_dim, 32, 3),\n",
        "                Conv2DBlock(32, 64, 3)\n",
        "            )\n",
        "\n",
        "        self.decoder3 = \\\n",
        "            nn.Sequential(\n",
        "                Deconv2DBlock(embed_dim, 512),\n",
        "                Deconv2DBlock(512, 256),\n",
        "                Deconv2DBlock(256, 128)\n",
        "            )\n",
        "\n",
        "        self.decoder6 = \\\n",
        "            nn.Sequential(\n",
        "                Deconv2DBlock(embed_dim, 512),\n",
        "                Deconv2DBlock(512, 256),\n",
        "            )\n",
        "\n",
        "        self.decoder9 = \\\n",
        "            Deconv2DBlock(embed_dim, 512)\n",
        "\n",
        "        self.decoder12_upsampler = \\\n",
        "            SingleDeconv2DBlock(embed_dim, 512)\n",
        "\n",
        "        self.decoder9_upsampler = \\\n",
        "            nn.Sequential(\n",
        "                Conv2DBlock(1024, 512),\n",
        "                Conv2DBlock(512, 512),\n",
        "                Conv2DBlock(512, 512),\n",
        "                SingleDeconv2DBlock(512, 256)\n",
        "            )\n",
        "\n",
        "        self.decoder6_upsampler = \\\n",
        "            nn.Sequential(\n",
        "                Conv2DBlock(512, 256),\n",
        "                Conv2DBlock(256, 256),\n",
        "                SingleDeconv2DBlock(256, 128)\n",
        "            )\n",
        "\n",
        "        self.decoder3_upsampler = \\\n",
        "            nn.Sequential(\n",
        "                Conv2DBlock(256, 128),\n",
        "                Conv2DBlock(128, 128),\n",
        "                SingleDeconv2DBlock(128, 64)\n",
        "            )\n",
        "\n",
        "        self.decoder0_header = \\\n",
        "            nn.Sequential(\n",
        "                Conv2DBlock(128, 64),\n",
        "                Conv2DBlock(64, 64),\n",
        "                SingleConv2DBlock(64, output_dim, 1)\n",
        "            )\n",
        "\n",
        "# x = (1, 3, 224, 224)\n",
        "\n",
        "\n",
        "    def forward(self, x):\n",
        "        z = self.transformer(x) \n",
        "        #print(f'z {z[0].shape}') # 1, 196, 768\n",
        "        z0, z3, z6, z9, z12 = x, *z \n",
        "        #print(f'z0 {z0.shape}') # 1, 3, 224, 224\n",
        "        #print(f'z3 {z3.shape}') # 1, 196, 768\n",
        "        #print(f'z6 {z6.shape}') # 1, 196, 768\n",
        "        #print(f'z9 {z9.shape}') # 1, 196, 768\n",
        "        #print(f'z12 {z12.shape}') # 1, 196, 768\n",
        "        z3 = z3.transpose(-1, -2).view(-1, self.embed_dim, *self.patch_dim) # embed_dim=768, patch_dim=14,14\n",
        "        #print(f'z3 {z3.shape}') # 1, 768, 14, 14\n",
        "        z6 = z6.transpose(-1, -2).view(-1, self.embed_dim, *self.patch_dim)\n",
        "        #print(f'z6 {z6.shape}') # 1, 768, 14, 14\n",
        "        z9 = z9.transpose(-1, -2).view(-1, self.embed_dim, *self.patch_dim)\n",
        "        #print(f'z9 {z9.shape}') # 1, 768, 14, 14\n",
        "        z12 = z12.transpose(-1, -2).view(-1, self.embed_dim, *self.patch_dim)\n",
        "        #print(f'z12a {z12.shape}') # 1, 768, 14, 14\n",
        "\n",
        "        z12 = self.decoder12_upsampler(z12)\n",
        "        #print(f'z12b {z12.shape}') # 1, 512, 28, 28\n",
        "        \n",
        "        z9 = self.decoder9(z9)\n",
        "        #print(f'z9a {z9.shape}') # 1, 512, 28, 28\n",
        "\n",
        "        z9 = self.decoder9_upsampler(torch.cat([z9, z12], dim=1))\n",
        "        #print(f'z9b {z9.shape}') # 1, 256, 56, 56\n",
        "\n",
        "        z6 = self.decoder6(z6)\n",
        "        #print(f'z6a {z6.shape}') # 1, 256, 56, 56\n",
        "\n",
        "        z6 = self.decoder6_upsampler(torch.cat([z6, z9], dim=1))\n",
        "        #print(f'z6b {z6.shape}') # 1, 128, 112, 112\n",
        "\n",
        "        z3 = self.decoder3(z3)\n",
        "        #print(f'z3a {z3.shape}') # 1, 128, 112, 112\n",
        "\n",
        "        z3 = self.decoder3_upsampler(torch.cat([z3, z6], dim=1))\n",
        "        #print(f'z3b {z3.shape}') # 1, 64, 224, 224\n",
        "\n",
        "        z0 = self.decoder0(z0)\n",
        "        #print(f'z0 {z0.shape}') # 1, 64, 224, 224\n",
        "\n",
        "        output = self.decoder0_header(torch.cat([z0, z3], dim=1))\n",
        "        #print(f'output {output.shape}') # 1, 2, 224, 224\n",
        "        return output"
      ],
      "metadata": {
        "id": "ZIG7E2-v4bcB"
      },
      "execution_count": null,
      "outputs": []
    },
    {
      "cell_type": "code",
      "source": [
        "device = \"cuda\" if torch.cuda.is_available() else \"cpu\"\n",
        "device"
      ],
      "metadata": {
        "colab": {
          "base_uri": "https://localhost:8080/",
          "height": 36
        },
        "id": "tGaBPVu5DjlS",
        "outputId": "7a844859-7d6d-4572-953a-f7ee981d0b06"
      },
      "execution_count": null,
      "outputs": [
        {
          "output_type": "execute_result",
          "data": {
            "text/plain": [
              "'cpu'"
            ],
            "application/vnd.google.colaboratory.intrinsic+json": {
              "type": "string"
            }
          },
          "metadata": {},
          "execution_count": 13
        }
      ]
    },
    {
      "cell_type": "code",
      "source": [
        "demo_img = torch.randn(1, 3, 224, 224).to(device)"
      ],
      "metadata": {
        "id": "R2s_02iZD12p"
      },
      "execution_count": null,
      "outputs": []
    },
    {
      "cell_type": "code",
      "source": [
        "unetr = UNETR(img_shape=(224, 224),\n",
        "              input_dim=3,\n",
        "              output_dim=1,\n",
        "              embed_dim=768,\n",
        "              patch_size=16,\n",
        "              num_heads=12,\n",
        "              dropout=0.1\n",
        "              ).to(device)\n",
        "b = unetr(demo_img)\n",
        "b.shape"
      ],
      "metadata": {
        "colab": {
          "base_uri": "https://localhost:8080/"
        },
        "id": "CCKIh73aDHi0",
        "outputId": "cd72e338-63bc-4ac0-f6e5-b2fda017cf74"
      },
      "execution_count": null,
      "outputs": [
        {
          "output_type": "execute_result",
          "data": {
            "text/plain": [
              "torch.Size([1, 1, 224, 224])"
            ]
          },
          "metadata": {},
          "execution_count": 15
        }
      ]
    },
    {
      "cell_type": "code",
      "source": [
        "summary(model=UNETR(),\n",
        "        input_size=(1, 3, 224, 224),\n",
        "        col_names=[\"input_size\", \"output_size\", \"num_params\", \"trainable\"],\n",
        "        col_width=20,\n",
        "        row_settings=[\"var_names\"])"
      ],
      "metadata": {
        "colab": {
          "base_uri": "https://localhost:8080/"
        },
        "id": "zfVd2xhw5V1Y",
        "outputId": "bd9d0a8c-740d-416a-dbc2-9cc27ee6cc72"
      },
      "execution_count": null,
      "outputs": [
        {
          "output_type": "execute_result",
          "data": {
            "text/plain": [
              "==================================================================================================================================\n",
              "Layer (type (var_name))                            Input Shape          Output Shape         Param #              Trainable\n",
              "==================================================================================================================================\n",
              "UNETR (UNETR)                                      [1, 3, 224, 224]     [1, 1, 224, 224]     --                   True\n",
              "├─Transformer (transformer)                        [1, 3, 224, 224]     [1, 196, 768]        1,536                True\n",
              "│    └─Embeddings (embeddings)                     [1, 3, 224, 224]     [1, 196, 768]        150,528              True\n",
              "│    │    └─Conv2d (patch_embeddings)              [1, 3, 224, 224]     [1, 768, 14, 14]     590,592              True\n",
              "│    │    └─Dropout (dropout)                      [1, 196, 768]        [1, 196, 768]        --                   --\n",
              "│    └─ModuleList (layer)                          --                   --                   --                   True\n",
              "│    │    └─TransformerBlock (0)                   [1, 196, 768]        [1, 196, 768]        5,513,984            True\n",
              "│    │    └─TransformerBlock (1)                   [1, 196, 768]        [1, 196, 768]        5,513,984            True\n",
              "│    │    └─TransformerBlock (2)                   [1, 196, 768]        [1, 196, 768]        5,513,984            True\n",
              "│    │    └─TransformerBlock (3)                   [1, 196, 768]        [1, 196, 768]        5,513,984            True\n",
              "│    │    └─TransformerBlock (4)                   [1, 196, 768]        [1, 196, 768]        5,513,984            True\n",
              "│    │    └─TransformerBlock (5)                   [1, 196, 768]        [1, 196, 768]        5,513,984            True\n",
              "│    │    └─TransformerBlock (6)                   [1, 196, 768]        [1, 196, 768]        5,513,984            True\n",
              "│    │    └─TransformerBlock (7)                   [1, 196, 768]        [1, 196, 768]        5,513,984            True\n",
              "│    │    └─TransformerBlock (8)                   [1, 196, 768]        [1, 196, 768]        5,513,984            True\n",
              "│    │    └─TransformerBlock (9)                   [1, 196, 768]        [1, 196, 768]        5,513,984            True\n",
              "│    │    └─TransformerBlock (10)                  [1, 196, 768]        [1, 196, 768]        5,513,984            True\n",
              "│    │    └─TransformerBlock (11)                  [1, 196, 768]        [1, 196, 768]        5,513,984            True\n",
              "├─SingleDeconv2DBlock (decoder12_upsampler)        [1, 768, 14, 14]     [1, 512, 28, 28]     --                   True\n",
              "│    └─ConvTranspose2d (block)                     [1, 768, 14, 14]     [1, 512, 28, 28]     1,573,376            True\n",
              "├─Deconv2DBlock (decoder9)                         [1, 768, 14, 14]     [1, 512, 28, 28]     --                   True\n",
              "│    └─Sequential (block)                          [1, 768, 14, 14]     [1, 512, 28, 28]     --                   True\n",
              "│    │    └─SingleDeconv2DBlock (0)                [1, 768, 14, 14]     [1, 512, 28, 28]     1,573,376            True\n",
              "│    │    └─SingleConv2DBlock (1)                  [1, 512, 28, 28]     [1, 512, 28, 28]     2,359,808            True\n",
              "│    │    └─BatchNorm2d (2)                        [1, 512, 28, 28]     [1, 512, 28, 28]     1,024                True\n",
              "│    │    └─ReLU (3)                               [1, 512, 28, 28]     [1, 512, 28, 28]     --                   --\n",
              "├─Sequential (decoder9_upsampler)                  [1, 1024, 28, 28]    [1, 256, 56, 56]     --                   True\n",
              "│    └─Conv2DBlock (0)                             [1, 1024, 28, 28]    [1, 512, 28, 28]     --                   True\n",
              "│    │    └─Sequential (block)                     [1, 1024, 28, 28]    [1, 512, 28, 28]     4,720,128            True\n",
              "│    └─Conv2DBlock (1)                             [1, 512, 28, 28]     [1, 512, 28, 28]     --                   True\n",
              "│    │    └─Sequential (block)                     [1, 512, 28, 28]     [1, 512, 28, 28]     2,360,832            True\n",
              "│    └─Conv2DBlock (2)                             [1, 512, 28, 28]     [1, 512, 28, 28]     --                   True\n",
              "│    │    └─Sequential (block)                     [1, 512, 28, 28]     [1, 512, 28, 28]     2,360,832            True\n",
              "│    └─SingleDeconv2DBlock (3)                     [1, 512, 28, 28]     [1, 256, 56, 56]     --                   True\n",
              "│    │    └─ConvTranspose2d (block)                [1, 512, 28, 28]     [1, 256, 56, 56]     524,544              True\n",
              "├─Sequential (decoder6)                            [1, 768, 14, 14]     [1, 256, 56, 56]     --                   True\n",
              "│    └─Deconv2DBlock (0)                           [1, 768, 14, 14]     [1, 512, 28, 28]     --                   True\n",
              "│    │    └─Sequential (block)                     [1, 768, 14, 14]     [1, 512, 28, 28]     3,934,208            True\n",
              "│    └─Deconv2DBlock (1)                           [1, 512, 28, 28]     [1, 256, 56, 56]     --                   True\n",
              "│    │    └─Sequential (block)                     [1, 512, 28, 28]     [1, 256, 56, 56]     1,115,136            True\n",
              "├─Sequential (decoder6_upsampler)                  [1, 512, 56, 56]     [1, 128, 112, 112]   --                   True\n",
              "│    └─Conv2DBlock (0)                             [1, 512, 56, 56]     [1, 256, 56, 56]     --                   True\n",
              "│    │    └─Sequential (block)                     [1, 512, 56, 56]     [1, 256, 56, 56]     1,180,416            True\n",
              "│    └─Conv2DBlock (1)                             [1, 256, 56, 56]     [1, 256, 56, 56]     --                   True\n",
              "│    │    └─Sequential (block)                     [1, 256, 56, 56]     [1, 256, 56, 56]     590,592              True\n",
              "│    └─SingleDeconv2DBlock (2)                     [1, 256, 56, 56]     [1, 128, 112, 112]   --                   True\n",
              "│    │    └─ConvTranspose2d (block)                [1, 256, 56, 56]     [1, 128, 112, 112]   131,200              True\n",
              "├─Sequential (decoder3)                            [1, 768, 14, 14]     [1, 128, 112, 112]   --                   True\n",
              "│    └─Deconv2DBlock (0)                           [1, 768, 14, 14]     [1, 512, 28, 28]     --                   True\n",
              "│    │    └─Sequential (block)                     [1, 768, 14, 14]     [1, 512, 28, 28]     3,934,208            True\n",
              "│    └─Deconv2DBlock (1)                           [1, 512, 28, 28]     [1, 256, 56, 56]     --                   True\n",
              "│    │    └─Sequential (block)                     [1, 512, 28, 28]     [1, 256, 56, 56]     1,115,136            True\n",
              "│    └─Deconv2DBlock (2)                           [1, 256, 56, 56]     [1, 128, 112, 112]   --                   True\n",
              "│    │    └─Sequential (block)                     [1, 256, 56, 56]     [1, 128, 112, 112]   279,040              True\n",
              "├─Sequential (decoder3_upsampler)                  [1, 256, 112, 112]   [1, 64, 224, 224]    --                   True\n",
              "│    └─Conv2DBlock (0)                             [1, 256, 112, 112]   [1, 128, 112, 112]   --                   True\n",
              "│    │    └─Sequential (block)                     [1, 256, 112, 112]   [1, 128, 112, 112]   295,296              True\n",
              "│    └─Conv2DBlock (1)                             [1, 128, 112, 112]   [1, 128, 112, 112]   --                   True\n",
              "│    │    └─Sequential (block)                     [1, 128, 112, 112]   [1, 128, 112, 112]   147,840              True\n",
              "│    └─SingleDeconv2DBlock (2)                     [1, 128, 112, 112]   [1, 64, 224, 224]    --                   True\n",
              "│    │    └─ConvTranspose2d (block)                [1, 128, 112, 112]   [1, 64, 224, 224]    32,832               True\n",
              "├─Sequential (decoder0)                            [1, 3, 224, 224]     [1, 64, 224, 224]    --                   True\n",
              "│    └─Conv2DBlock (0)                             [1, 3, 224, 224]     [1, 32, 224, 224]    --                   True\n",
              "│    │    └─Sequential (block)                     [1, 3, 224, 224]     [1, 32, 224, 224]    960                  True\n",
              "│    └─Conv2DBlock (1)                             [1, 32, 224, 224]    [1, 64, 224, 224]    --                   True\n",
              "│    │    └─Sequential (block)                     [1, 32, 224, 224]    [1, 64, 224, 224]    18,624               True\n",
              "├─Sequential (decoder0_header)                     [1, 128, 224, 224]   [1, 1, 224, 224]     --                   True\n",
              "│    └─Conv2DBlock (0)                             [1, 128, 224, 224]   [1, 64, 224, 224]    --                   True\n",
              "│    │    └─Sequential (block)                     [1, 128, 224, 224]   [1, 64, 224, 224]    73,920               True\n",
              "│    └─Conv2DBlock (1)                             [1, 64, 224, 224]    [1, 64, 224, 224]    --                   True\n",
              "│    │    └─Sequential (block)                     [1, 64, 224, 224]    [1, 64, 224, 224]    37,056               True\n",
              "│    └─SingleConv2DBlock (2)                       [1, 64, 224, 224]    [1, 1, 224, 224]     --                   True\n",
              "│    │    └─Conv2d (block)                         [1, 64, 224, 224]    [1, 1, 224, 224]     65                   True\n",
              "==================================================================================================================================\n",
              "Total params: 95,270,913\n",
              "Trainable params: 95,270,913\n",
              "Non-trainable params: 0\n",
              "Total mult-adds (G): 51.13\n",
              "==================================================================================================================================\n",
              "Input size (MB): 0.60\n",
              "Forward/backward pass size (MB): 571.60\n",
              "Params size (MB): 380.48\n",
              "Estimated Total Size (MB): 952.68\n",
              "=================================================================================================================================="
            ]
          },
          "metadata": {},
          "execution_count": 7
        }
      ]
    },
    {
      "cell_type": "code",
      "source": [],
      "metadata": {
        "colab": {
          "base_uri": "https://localhost:8080/"
        },
        "id": "Q_gBs4QUJKfX",
        "outputId": "754ecee5-ead7-4118-e050-3c5823bed0c4"
      },
      "execution_count": null,
      "outputs": [
        {
          "output_type": "execute_result",
          "data": {
            "text/plain": [
              "[14, 14]"
            ]
          },
          "metadata": {},
          "execution_count": 26
        }
      ]
    },
    {
      "cell_type": "markdown",
      "source": [
        "# Real Training"
      ],
      "metadata": {
        "id": "fRfNRYc4WGZT"
      }
    },
    {
      "cell_type": "code",
      "source": [
        "from google.colab import files\n",
        "files.upload()"
      ],
      "metadata": {
        "colab": {
          "base_uri": "https://localhost:8080/",
          "height": 86
        },
        "id": "5A3U684LH7EW",
        "outputId": "a6d1fab8-98c4-4069-c45a-511cf21c8e7d"
      },
      "execution_count": null,
      "outputs": [
        {
          "output_type": "display_data",
          "data": {
            "text/plain": [
              "<IPython.core.display.HTML object>"
            ],
            "text/html": [
              "\n",
              "     <input type=\"file\" id=\"files-d49ef652-323a-4ba7-8a5e-f70e58289171\" name=\"files[]\" multiple disabled\n",
              "        style=\"border:none\" />\n",
              "     <output id=\"result-d49ef652-323a-4ba7-8a5e-f70e58289171\">\n",
              "      Upload widget is only available when the cell has been executed in the\n",
              "      current browser session. Please rerun this cell to enable.\n",
              "      </output>\n",
              "      <script>// Copyright 2017 Google LLC\n",
              "//\n",
              "// Licensed under the Apache License, Version 2.0 (the \"License\");\n",
              "// you may not use this file except in compliance with the License.\n",
              "// You may obtain a copy of the License at\n",
              "//\n",
              "//      http://www.apache.org/licenses/LICENSE-2.0\n",
              "//\n",
              "// Unless required by applicable law or agreed to in writing, software\n",
              "// distributed under the License is distributed on an \"AS IS\" BASIS,\n",
              "// WITHOUT WARRANTIES OR CONDITIONS OF ANY KIND, either express or implied.\n",
              "// See the License for the specific language governing permissions and\n",
              "// limitations under the License.\n",
              "\n",
              "/**\n",
              " * @fileoverview Helpers for google.colab Python module.\n",
              " */\n",
              "(function(scope) {\n",
              "function span(text, styleAttributes = {}) {\n",
              "  const element = document.createElement('span');\n",
              "  element.textContent = text;\n",
              "  for (const key of Object.keys(styleAttributes)) {\n",
              "    element.style[key] = styleAttributes[key];\n",
              "  }\n",
              "  return element;\n",
              "}\n",
              "\n",
              "// Max number of bytes which will be uploaded at a time.\n",
              "const MAX_PAYLOAD_SIZE = 100 * 1024;\n",
              "\n",
              "function _uploadFiles(inputId, outputId) {\n",
              "  const steps = uploadFilesStep(inputId, outputId);\n",
              "  const outputElement = document.getElementById(outputId);\n",
              "  // Cache steps on the outputElement to make it available for the next call\n",
              "  // to uploadFilesContinue from Python.\n",
              "  outputElement.steps = steps;\n",
              "\n",
              "  return _uploadFilesContinue(outputId);\n",
              "}\n",
              "\n",
              "// This is roughly an async generator (not supported in the browser yet),\n",
              "// where there are multiple asynchronous steps and the Python side is going\n",
              "// to poll for completion of each step.\n",
              "// This uses a Promise to block the python side on completion of each step,\n",
              "// then passes the result of the previous step as the input to the next step.\n",
              "function _uploadFilesContinue(outputId) {\n",
              "  const outputElement = document.getElementById(outputId);\n",
              "  const steps = outputElement.steps;\n",
              "\n",
              "  const next = steps.next(outputElement.lastPromiseValue);\n",
              "  return Promise.resolve(next.value.promise).then((value) => {\n",
              "    // Cache the last promise value to make it available to the next\n",
              "    // step of the generator.\n",
              "    outputElement.lastPromiseValue = value;\n",
              "    return next.value.response;\n",
              "  });\n",
              "}\n",
              "\n",
              "/**\n",
              " * Generator function which is called between each async step of the upload\n",
              " * process.\n",
              " * @param {string} inputId Element ID of the input file picker element.\n",
              " * @param {string} outputId Element ID of the output display.\n",
              " * @return {!Iterable<!Object>} Iterable of next steps.\n",
              " */\n",
              "function* uploadFilesStep(inputId, outputId) {\n",
              "  const inputElement = document.getElementById(inputId);\n",
              "  inputElement.disabled = false;\n",
              "\n",
              "  const outputElement = document.getElementById(outputId);\n",
              "  outputElement.innerHTML = '';\n",
              "\n",
              "  const pickedPromise = new Promise((resolve) => {\n",
              "    inputElement.addEventListener('change', (e) => {\n",
              "      resolve(e.target.files);\n",
              "    });\n",
              "  });\n",
              "\n",
              "  const cancel = document.createElement('button');\n",
              "  inputElement.parentElement.appendChild(cancel);\n",
              "  cancel.textContent = 'Cancel upload';\n",
              "  const cancelPromise = new Promise((resolve) => {\n",
              "    cancel.onclick = () => {\n",
              "      resolve(null);\n",
              "    };\n",
              "  });\n",
              "\n",
              "  // Wait for the user to pick the files.\n",
              "  const files = yield {\n",
              "    promise: Promise.race([pickedPromise, cancelPromise]),\n",
              "    response: {\n",
              "      action: 'starting',\n",
              "    }\n",
              "  };\n",
              "\n",
              "  cancel.remove();\n",
              "\n",
              "  // Disable the input element since further picks are not allowed.\n",
              "  inputElement.disabled = true;\n",
              "\n",
              "  if (!files) {\n",
              "    return {\n",
              "      response: {\n",
              "        action: 'complete',\n",
              "      }\n",
              "    };\n",
              "  }\n",
              "\n",
              "  for (const file of files) {\n",
              "    const li = document.createElement('li');\n",
              "    li.append(span(file.name, {fontWeight: 'bold'}));\n",
              "    li.append(span(\n",
              "        `(${file.type || 'n/a'}) - ${file.size} bytes, ` +\n",
              "        `last modified: ${\n",
              "            file.lastModifiedDate ? file.lastModifiedDate.toLocaleDateString() :\n",
              "                                    'n/a'} - `));\n",
              "    const percent = span('0% done');\n",
              "    li.appendChild(percent);\n",
              "\n",
              "    outputElement.appendChild(li);\n",
              "\n",
              "    const fileDataPromise = new Promise((resolve) => {\n",
              "      const reader = new FileReader();\n",
              "      reader.onload = (e) => {\n",
              "        resolve(e.target.result);\n",
              "      };\n",
              "      reader.readAsArrayBuffer(file);\n",
              "    });\n",
              "    // Wait for the data to be ready.\n",
              "    let fileData = yield {\n",
              "      promise: fileDataPromise,\n",
              "      response: {\n",
              "        action: 'continue',\n",
              "      }\n",
              "    };\n",
              "\n",
              "    // Use a chunked sending to avoid message size limits. See b/62115660.\n",
              "    let position = 0;\n",
              "    do {\n",
              "      const length = Math.min(fileData.byteLength - position, MAX_PAYLOAD_SIZE);\n",
              "      const chunk = new Uint8Array(fileData, position, length);\n",
              "      position += length;\n",
              "\n",
              "      const base64 = btoa(String.fromCharCode.apply(null, chunk));\n",
              "      yield {\n",
              "        response: {\n",
              "          action: 'append',\n",
              "          file: file.name,\n",
              "          data: base64,\n",
              "        },\n",
              "      };\n",
              "\n",
              "      let percentDone = fileData.byteLength === 0 ?\n",
              "          100 :\n",
              "          Math.round((position / fileData.byteLength) * 100);\n",
              "      percent.textContent = `${percentDone}% done`;\n",
              "\n",
              "    } while (position < fileData.byteLength);\n",
              "  }\n",
              "\n",
              "  // All done.\n",
              "  yield {\n",
              "    response: {\n",
              "      action: 'complete',\n",
              "    }\n",
              "  };\n",
              "}\n",
              "\n",
              "scope.google = scope.google || {};\n",
              "scope.google.colab = scope.google.colab || {};\n",
              "scope.google.colab._files = {\n",
              "  _uploadFiles,\n",
              "  _uploadFilesContinue,\n",
              "};\n",
              "})(self);\n",
              "</script> "
            ]
          },
          "metadata": {}
        },
        {
          "output_type": "stream",
          "name": "stdout",
          "text": [
            "Saving kaggle.json to kaggle.json\n"
          ]
        },
        {
          "output_type": "execute_result",
          "data": {
            "text/plain": [
              "{'kaggle.json': b'{\"username\":\"blazyyyy\",\"key\":\"9c666df8b46ae78aa9b552e64cae6025\"}'}"
            ]
          },
          "metadata": {},
          "execution_count": 8
        }
      ]
    },
    {
      "cell_type": "code",
      "source": [
        "!rm -r ~/.kaggle\n",
        "!mkdir ~/.kaggle\n",
        "!mv ./kaggle.json ~/.kaggle/\n",
        "!chmod 600 ~/.kaggle/kaggle.json"
      ],
      "metadata": {
        "id": "424Af_X2IC7z",
        "colab": {
          "base_uri": "https://localhost:8080/"
        },
        "outputId": "16c9db29-1588-4176-842e-1248659bfc90"
      },
      "execution_count": null,
      "outputs": [
        {
          "output_type": "stream",
          "name": "stdout",
          "text": [
            "rm: cannot remove '/root/.kaggle': No such file or directory\n"
          ]
        }
      ]
    },
    {
      "cell_type": "code",
      "source": [
        "!kaggle datasets download -d mateuszbuda/lgg-mri-segmentation --unzip --force"
      ],
      "metadata": {
        "colab": {
          "base_uri": "https://localhost:8080/"
        },
        "id": "IfQ5jKNeIDZt",
        "outputId": "203ce2e6-4ac3-42fc-c7d3-5eebde7cd6f1"
      },
      "execution_count": null,
      "outputs": [
        {
          "output_type": "stream",
          "name": "stdout",
          "text": [
            "Downloading lgg-mri-segmentation.zip to /content\n",
            "100% 712M/714M [00:04<00:00, 194MB/s]\n",
            "100% 714M/714M [00:04<00:00, 181MB/s]\n"
          ]
        }
      ]
    },
    {
      "cell_type": "code",
      "source": [
        "dirr = \"/content/lgg-mri-segmentation/kaggle_3m/\"\n",
        "\n",
        "image_size = 224\n",
        "\n",
        "data = []\n",
        "\n",
        "for sub_dir_path in glob.glob(dirr + \"*\"):\n",
        "    if os.path.isdir(sub_dir_path):\n",
        "        dirname = sub_dir_path.split(\"/\")[-1]\n",
        "        for filename in os.listdir(sub_dir_path):\n",
        "            image_path = sub_dir_path + \"/\" + filename\n",
        "            data.extend([dirname, image_path])\n",
        "        \n",
        "        \n",
        "df = pd.DataFrame(\n",
        "    {\n",
        "        \"dirname\" : data[::2],\n",
        "        \"path\" : data[1::2]\n",
        "    }\n",
        ")\n",
        "\n",
        "df.head()"
      ],
      "metadata": {
        "colab": {
          "base_uri": "https://localhost:8080/",
          "height": 206
        },
        "id": "GB4EUmhfIGw7",
        "outputId": "64dc3812-fdbf-4f73-8180-ab53059ba23c"
      },
      "execution_count": null,
      "outputs": [
        {
          "output_type": "execute_result",
          "data": {
            "text/plain": [
              "                 dirname                                               path\n",
              "0  TCGA_FG_A4MT_20020212  /content/lgg-mri-segmentation/kaggle_3m/TCGA_F...\n",
              "1  TCGA_FG_A4MT_20020212  /content/lgg-mri-segmentation/kaggle_3m/TCGA_F...\n",
              "2  TCGA_FG_A4MT_20020212  /content/lgg-mri-segmentation/kaggle_3m/TCGA_F...\n",
              "3  TCGA_FG_A4MT_20020212  /content/lgg-mri-segmentation/kaggle_3m/TCGA_F...\n",
              "4  TCGA_FG_A4MT_20020212  /content/lgg-mri-segmentation/kaggle_3m/TCGA_F..."
            ],
            "text/html": [
              "\n",
              "  <div id=\"df-a3009959-d5d8-4f36-a589-774782033357\">\n",
              "    <div class=\"colab-df-container\">\n",
              "      <div>\n",
              "<style scoped>\n",
              "    .dataframe tbody tr th:only-of-type {\n",
              "        vertical-align: middle;\n",
              "    }\n",
              "\n",
              "    .dataframe tbody tr th {\n",
              "        vertical-align: top;\n",
              "    }\n",
              "\n",
              "    .dataframe thead th {\n",
              "        text-align: right;\n",
              "    }\n",
              "</style>\n",
              "<table border=\"1\" class=\"dataframe\">\n",
              "  <thead>\n",
              "    <tr style=\"text-align: right;\">\n",
              "      <th></th>\n",
              "      <th>dirname</th>\n",
              "      <th>path</th>\n",
              "    </tr>\n",
              "  </thead>\n",
              "  <tbody>\n",
              "    <tr>\n",
              "      <th>0</th>\n",
              "      <td>TCGA_FG_A4MT_20020212</td>\n",
              "      <td>/content/lgg-mri-segmentation/kaggle_3m/TCGA_F...</td>\n",
              "    </tr>\n",
              "    <tr>\n",
              "      <th>1</th>\n",
              "      <td>TCGA_FG_A4MT_20020212</td>\n",
              "      <td>/content/lgg-mri-segmentation/kaggle_3m/TCGA_F...</td>\n",
              "    </tr>\n",
              "    <tr>\n",
              "      <th>2</th>\n",
              "      <td>TCGA_FG_A4MT_20020212</td>\n",
              "      <td>/content/lgg-mri-segmentation/kaggle_3m/TCGA_F...</td>\n",
              "    </tr>\n",
              "    <tr>\n",
              "      <th>3</th>\n",
              "      <td>TCGA_FG_A4MT_20020212</td>\n",
              "      <td>/content/lgg-mri-segmentation/kaggle_3m/TCGA_F...</td>\n",
              "    </tr>\n",
              "    <tr>\n",
              "      <th>4</th>\n",
              "      <td>TCGA_FG_A4MT_20020212</td>\n",
              "      <td>/content/lgg-mri-segmentation/kaggle_3m/TCGA_F...</td>\n",
              "    </tr>\n",
              "  </tbody>\n",
              "</table>\n",
              "</div>\n",
              "      <button class=\"colab-df-convert\" onclick=\"convertToInteractive('df-a3009959-d5d8-4f36-a589-774782033357')\"\n",
              "              title=\"Convert this dataframe to an interactive table.\"\n",
              "              style=\"display:none;\">\n",
              "        \n",
              "  <svg xmlns=\"http://www.w3.org/2000/svg\" height=\"24px\"viewBox=\"0 0 24 24\"\n",
              "       width=\"24px\">\n",
              "    <path d=\"M0 0h24v24H0V0z\" fill=\"none\"/>\n",
              "    <path d=\"M18.56 5.44l.94 2.06.94-2.06 2.06-.94-2.06-.94-.94-2.06-.94 2.06-2.06.94zm-11 1L8.5 8.5l.94-2.06 2.06-.94-2.06-.94L8.5 2.5l-.94 2.06-2.06.94zm10 10l.94 2.06.94-2.06 2.06-.94-2.06-.94-.94-2.06-.94 2.06-2.06.94z\"/><path d=\"M17.41 7.96l-1.37-1.37c-.4-.4-.92-.59-1.43-.59-.52 0-1.04.2-1.43.59L10.3 9.45l-7.72 7.72c-.78.78-.78 2.05 0 2.83L4 21.41c.39.39.9.59 1.41.59.51 0 1.02-.2 1.41-.59l7.78-7.78 2.81-2.81c.8-.78.8-2.07 0-2.86zM5.41 20L4 18.59l7.72-7.72 1.47 1.35L5.41 20z\"/>\n",
              "  </svg>\n",
              "      </button>\n",
              "      \n",
              "  <style>\n",
              "    .colab-df-container {\n",
              "      display:flex;\n",
              "      flex-wrap:wrap;\n",
              "      gap: 12px;\n",
              "    }\n",
              "\n",
              "    .colab-df-convert {\n",
              "      background-color: #E8F0FE;\n",
              "      border: none;\n",
              "      border-radius: 50%;\n",
              "      cursor: pointer;\n",
              "      display: none;\n",
              "      fill: #1967D2;\n",
              "      height: 32px;\n",
              "      padding: 0 0 0 0;\n",
              "      width: 32px;\n",
              "    }\n",
              "\n",
              "    .colab-df-convert:hover {\n",
              "      background-color: #E2EBFA;\n",
              "      box-shadow: 0px 1px 2px rgba(60, 64, 67, 0.3), 0px 1px 3px 1px rgba(60, 64, 67, 0.15);\n",
              "      fill: #174EA6;\n",
              "    }\n",
              "\n",
              "    [theme=dark] .colab-df-convert {\n",
              "      background-color: #3B4455;\n",
              "      fill: #D2E3FC;\n",
              "    }\n",
              "\n",
              "    [theme=dark] .colab-df-convert:hover {\n",
              "      background-color: #434B5C;\n",
              "      box-shadow: 0px 1px 3px 1px rgba(0, 0, 0, 0.15);\n",
              "      filter: drop-shadow(0px 1px 2px rgba(0, 0, 0, 0.3));\n",
              "      fill: #FFFFFF;\n",
              "    }\n",
              "  </style>\n",
              "\n",
              "      <script>\n",
              "        const buttonEl =\n",
              "          document.querySelector('#df-a3009959-d5d8-4f36-a589-774782033357 button.colab-df-convert');\n",
              "        buttonEl.style.display =\n",
              "          google.colab.kernel.accessAllowed ? 'block' : 'none';\n",
              "\n",
              "        async function convertToInteractive(key) {\n",
              "          const element = document.querySelector('#df-a3009959-d5d8-4f36-a589-774782033357');\n",
              "          const dataTable =\n",
              "            await google.colab.kernel.invokeFunction('convertToInteractive',\n",
              "                                                     [key], {});\n",
              "          if (!dataTable) return;\n",
              "\n",
              "          const docLinkHtml = 'Like what you see? Visit the ' +\n",
              "            '<a target=\"_blank\" href=https://colab.research.google.com/notebooks/data_table.ipynb>data table notebook</a>'\n",
              "            + ' to learn more about interactive tables.';\n",
              "          element.innerHTML = '';\n",
              "          dataTable['output_type'] = 'display_data';\n",
              "          await google.colab.output.renderOutput(dataTable, element);\n",
              "          const docLink = document.createElement('div');\n",
              "          docLink.innerHTML = docLinkHtml;\n",
              "          element.appendChild(docLink);\n",
              "        }\n",
              "      </script>\n",
              "    </div>\n",
              "  </div>\n",
              "  "
            ]
          },
          "metadata": {},
          "execution_count": 11
        }
      ]
    },
    {
      "cell_type": "code",
      "source": [
        "df_no_masks = df[~df['path'].str.contains(\"mask\")]\n",
        "df_masks = df[df['path'].str.contains(\"mask\")]\n",
        "\n",
        "no_masks = sorted(df_no_masks[\"path\"].values, key=lambda string: int(string.split('.')[0].split('_')[-1]))\n",
        "masks = sorted(df_masks[\"path\"].values, key=lambda string: int(string.split('.')[0].split('_')[-2]))"
      ],
      "metadata": {
        "id": "QZNrSLeAIHOP"
      },
      "execution_count": null,
      "outputs": []
    },
    {
      "cell_type": "code",
      "source": [
        "df_no_masks.head()"
      ],
      "metadata": {
        "colab": {
          "base_uri": "https://localhost:8080/",
          "height": 206
        },
        "id": "kf2B6z9hII-j",
        "outputId": "7445bf1c-d3ec-46f1-9f57-73a042666e64"
      },
      "execution_count": null,
      "outputs": [
        {
          "output_type": "execute_result",
          "data": {
            "text/plain": [
              "                  dirname                                               path\n",
              "7   TCGA_FG_A4MT_20020212  /content/lgg-mri-segmentation/kaggle_3m/TCGA_F...\n",
              "8   TCGA_FG_A4MT_20020212  /content/lgg-mri-segmentation/kaggle_3m/TCGA_F...\n",
              "9   TCGA_FG_A4MT_20020212  /content/lgg-mri-segmentation/kaggle_3m/TCGA_F...\n",
              "10  TCGA_FG_A4MT_20020212  /content/lgg-mri-segmentation/kaggle_3m/TCGA_F...\n",
              "12  TCGA_FG_A4MT_20020212  /content/lgg-mri-segmentation/kaggle_3m/TCGA_F..."
            ],
            "text/html": [
              "\n",
              "  <div id=\"df-3f37350d-dbff-4b74-b96e-4aec71e12da9\">\n",
              "    <div class=\"colab-df-container\">\n",
              "      <div>\n",
              "<style scoped>\n",
              "    .dataframe tbody tr th:only-of-type {\n",
              "        vertical-align: middle;\n",
              "    }\n",
              "\n",
              "    .dataframe tbody tr th {\n",
              "        vertical-align: top;\n",
              "    }\n",
              "\n",
              "    .dataframe thead th {\n",
              "        text-align: right;\n",
              "    }\n",
              "</style>\n",
              "<table border=\"1\" class=\"dataframe\">\n",
              "  <thead>\n",
              "    <tr style=\"text-align: right;\">\n",
              "      <th></th>\n",
              "      <th>dirname</th>\n",
              "      <th>path</th>\n",
              "    </tr>\n",
              "  </thead>\n",
              "  <tbody>\n",
              "    <tr>\n",
              "      <th>7</th>\n",
              "      <td>TCGA_FG_A4MT_20020212</td>\n",
              "      <td>/content/lgg-mri-segmentation/kaggle_3m/TCGA_F...</td>\n",
              "    </tr>\n",
              "    <tr>\n",
              "      <th>8</th>\n",
              "      <td>TCGA_FG_A4MT_20020212</td>\n",
              "      <td>/content/lgg-mri-segmentation/kaggle_3m/TCGA_F...</td>\n",
              "    </tr>\n",
              "    <tr>\n",
              "      <th>9</th>\n",
              "      <td>TCGA_FG_A4MT_20020212</td>\n",
              "      <td>/content/lgg-mri-segmentation/kaggle_3m/TCGA_F...</td>\n",
              "    </tr>\n",
              "    <tr>\n",
              "      <th>10</th>\n",
              "      <td>TCGA_FG_A4MT_20020212</td>\n",
              "      <td>/content/lgg-mri-segmentation/kaggle_3m/TCGA_F...</td>\n",
              "    </tr>\n",
              "    <tr>\n",
              "      <th>12</th>\n",
              "      <td>TCGA_FG_A4MT_20020212</td>\n",
              "      <td>/content/lgg-mri-segmentation/kaggle_3m/TCGA_F...</td>\n",
              "    </tr>\n",
              "  </tbody>\n",
              "</table>\n",
              "</div>\n",
              "      <button class=\"colab-df-convert\" onclick=\"convertToInteractive('df-3f37350d-dbff-4b74-b96e-4aec71e12da9')\"\n",
              "              title=\"Convert this dataframe to an interactive table.\"\n",
              "              style=\"display:none;\">\n",
              "        \n",
              "  <svg xmlns=\"http://www.w3.org/2000/svg\" height=\"24px\"viewBox=\"0 0 24 24\"\n",
              "       width=\"24px\">\n",
              "    <path d=\"M0 0h24v24H0V0z\" fill=\"none\"/>\n",
              "    <path d=\"M18.56 5.44l.94 2.06.94-2.06 2.06-.94-2.06-.94-.94-2.06-.94 2.06-2.06.94zm-11 1L8.5 8.5l.94-2.06 2.06-.94-2.06-.94L8.5 2.5l-.94 2.06-2.06.94zm10 10l.94 2.06.94-2.06 2.06-.94-2.06-.94-.94-2.06-.94 2.06-2.06.94z\"/><path d=\"M17.41 7.96l-1.37-1.37c-.4-.4-.92-.59-1.43-.59-.52 0-1.04.2-1.43.59L10.3 9.45l-7.72 7.72c-.78.78-.78 2.05 0 2.83L4 21.41c.39.39.9.59 1.41.59.51 0 1.02-.2 1.41-.59l7.78-7.78 2.81-2.81c.8-.78.8-2.07 0-2.86zM5.41 20L4 18.59l7.72-7.72 1.47 1.35L5.41 20z\"/>\n",
              "  </svg>\n",
              "      </button>\n",
              "      \n",
              "  <style>\n",
              "    .colab-df-container {\n",
              "      display:flex;\n",
              "      flex-wrap:wrap;\n",
              "      gap: 12px;\n",
              "    }\n",
              "\n",
              "    .colab-df-convert {\n",
              "      background-color: #E8F0FE;\n",
              "      border: none;\n",
              "      border-radius: 50%;\n",
              "      cursor: pointer;\n",
              "      display: none;\n",
              "      fill: #1967D2;\n",
              "      height: 32px;\n",
              "      padding: 0 0 0 0;\n",
              "      width: 32px;\n",
              "    }\n",
              "\n",
              "    .colab-df-convert:hover {\n",
              "      background-color: #E2EBFA;\n",
              "      box-shadow: 0px 1px 2px rgba(60, 64, 67, 0.3), 0px 1px 3px 1px rgba(60, 64, 67, 0.15);\n",
              "      fill: #174EA6;\n",
              "    }\n",
              "\n",
              "    [theme=dark] .colab-df-convert {\n",
              "      background-color: #3B4455;\n",
              "      fill: #D2E3FC;\n",
              "    }\n",
              "\n",
              "    [theme=dark] .colab-df-convert:hover {\n",
              "      background-color: #434B5C;\n",
              "      box-shadow: 0px 1px 3px 1px rgba(0, 0, 0, 0.15);\n",
              "      filter: drop-shadow(0px 1px 2px rgba(0, 0, 0, 0.3));\n",
              "      fill: #FFFFFF;\n",
              "    }\n",
              "  </style>\n",
              "\n",
              "      <script>\n",
              "        const buttonEl =\n",
              "          document.querySelector('#df-3f37350d-dbff-4b74-b96e-4aec71e12da9 button.colab-df-convert');\n",
              "        buttonEl.style.display =\n",
              "          google.colab.kernel.accessAllowed ? 'block' : 'none';\n",
              "\n",
              "        async function convertToInteractive(key) {\n",
              "          const element = document.querySelector('#df-3f37350d-dbff-4b74-b96e-4aec71e12da9');\n",
              "          const dataTable =\n",
              "            await google.colab.kernel.invokeFunction('convertToInteractive',\n",
              "                                                     [key], {});\n",
              "          if (!dataTable) return;\n",
              "\n",
              "          const docLinkHtml = 'Like what you see? Visit the ' +\n",
              "            '<a target=\"_blank\" href=https://colab.research.google.com/notebooks/data_table.ipynb>data table notebook</a>'\n",
              "            + ' to learn more about interactive tables.';\n",
              "          element.innerHTML = '';\n",
              "          dataTable['output_type'] = 'display_data';\n",
              "          await google.colab.output.renderOutput(dataTable, element);\n",
              "          const docLink = document.createElement('div');\n",
              "          docLink.innerHTML = docLinkHtml;\n",
              "          element.appendChild(docLink);\n",
              "        }\n",
              "      </script>\n",
              "    </div>\n",
              "  </div>\n",
              "  "
            ]
          },
          "metadata": {},
          "execution_count": 13
        }
      ]
    },
    {
      "cell_type": "code",
      "source": [
        "df = pd.DataFrame(\n",
        "    {\n",
        "        'patient': df_no_masks['dirname'].values,\n",
        "        'image_path': no_masks,\n",
        "        'mask_path': masks\n",
        "    }\n",
        ")"
      ],
      "metadata": {
        "id": "L2DfzcuA4Oj9"
      },
      "execution_count": null,
      "outputs": []
    },
    {
      "cell_type": "code",
      "source": [
        "df.head()"
      ],
      "metadata": {
        "colab": {
          "base_uri": "https://localhost:8080/",
          "height": 206
        },
        "id": "HXibE8GqILEK",
        "outputId": "2cb5cc74-93a5-4d87-b767-0fbbf121883e"
      },
      "execution_count": null,
      "outputs": [
        {
          "output_type": "execute_result",
          "data": {
            "text/plain": [
              "                 patient                                         image_path  \\\n",
              "0  TCGA_FG_A4MT_20020212  /content/lgg-mri-segmentation/kaggle_3m/TCGA_F...   \n",
              "1  TCGA_FG_A4MT_20020212  /content/lgg-mri-segmentation/kaggle_3m/TCGA_D...   \n",
              "2  TCGA_FG_A4MT_20020212  /content/lgg-mri-segmentation/kaggle_3m/TCGA_C...   \n",
              "3  TCGA_FG_A4MT_20020212  /content/lgg-mri-segmentation/kaggle_3m/TCGA_D...   \n",
              "4  TCGA_FG_A4MT_20020212  /content/lgg-mri-segmentation/kaggle_3m/TCGA_H...   \n",
              "\n",
              "                                           mask_path  \n",
              "0  /content/lgg-mri-segmentation/kaggle_3m/TCGA_F...  \n",
              "1  /content/lgg-mri-segmentation/kaggle_3m/TCGA_D...  \n",
              "2  /content/lgg-mri-segmentation/kaggle_3m/TCGA_C...  \n",
              "3  /content/lgg-mri-segmentation/kaggle_3m/TCGA_D...  \n",
              "4  /content/lgg-mri-segmentation/kaggle_3m/TCGA_H...  "
            ],
            "text/html": [
              "\n",
              "  <div id=\"df-ce4d73ac-bc63-45d5-a722-3f845b8d0fea\">\n",
              "    <div class=\"colab-df-container\">\n",
              "      <div>\n",
              "<style scoped>\n",
              "    .dataframe tbody tr th:only-of-type {\n",
              "        vertical-align: middle;\n",
              "    }\n",
              "\n",
              "    .dataframe tbody tr th {\n",
              "        vertical-align: top;\n",
              "    }\n",
              "\n",
              "    .dataframe thead th {\n",
              "        text-align: right;\n",
              "    }\n",
              "</style>\n",
              "<table border=\"1\" class=\"dataframe\">\n",
              "  <thead>\n",
              "    <tr style=\"text-align: right;\">\n",
              "      <th></th>\n",
              "      <th>patient</th>\n",
              "      <th>image_path</th>\n",
              "      <th>mask_path</th>\n",
              "    </tr>\n",
              "  </thead>\n",
              "  <tbody>\n",
              "    <tr>\n",
              "      <th>0</th>\n",
              "      <td>TCGA_FG_A4MT_20020212</td>\n",
              "      <td>/content/lgg-mri-segmentation/kaggle_3m/TCGA_F...</td>\n",
              "      <td>/content/lgg-mri-segmentation/kaggle_3m/TCGA_F...</td>\n",
              "    </tr>\n",
              "    <tr>\n",
              "      <th>1</th>\n",
              "      <td>TCGA_FG_A4MT_20020212</td>\n",
              "      <td>/content/lgg-mri-segmentation/kaggle_3m/TCGA_D...</td>\n",
              "      <td>/content/lgg-mri-segmentation/kaggle_3m/TCGA_D...</td>\n",
              "    </tr>\n",
              "    <tr>\n",
              "      <th>2</th>\n",
              "      <td>TCGA_FG_A4MT_20020212</td>\n",
              "      <td>/content/lgg-mri-segmentation/kaggle_3m/TCGA_C...</td>\n",
              "      <td>/content/lgg-mri-segmentation/kaggle_3m/TCGA_C...</td>\n",
              "    </tr>\n",
              "    <tr>\n",
              "      <th>3</th>\n",
              "      <td>TCGA_FG_A4MT_20020212</td>\n",
              "      <td>/content/lgg-mri-segmentation/kaggle_3m/TCGA_D...</td>\n",
              "      <td>/content/lgg-mri-segmentation/kaggle_3m/TCGA_D...</td>\n",
              "    </tr>\n",
              "    <tr>\n",
              "      <th>4</th>\n",
              "      <td>TCGA_FG_A4MT_20020212</td>\n",
              "      <td>/content/lgg-mri-segmentation/kaggle_3m/TCGA_H...</td>\n",
              "      <td>/content/lgg-mri-segmentation/kaggle_3m/TCGA_H...</td>\n",
              "    </tr>\n",
              "  </tbody>\n",
              "</table>\n",
              "</div>\n",
              "      <button class=\"colab-df-convert\" onclick=\"convertToInteractive('df-ce4d73ac-bc63-45d5-a722-3f845b8d0fea')\"\n",
              "              title=\"Convert this dataframe to an interactive table.\"\n",
              "              style=\"display:none;\">\n",
              "        \n",
              "  <svg xmlns=\"http://www.w3.org/2000/svg\" height=\"24px\"viewBox=\"0 0 24 24\"\n",
              "       width=\"24px\">\n",
              "    <path d=\"M0 0h24v24H0V0z\" fill=\"none\"/>\n",
              "    <path d=\"M18.56 5.44l.94 2.06.94-2.06 2.06-.94-2.06-.94-.94-2.06-.94 2.06-2.06.94zm-11 1L8.5 8.5l.94-2.06 2.06-.94-2.06-.94L8.5 2.5l-.94 2.06-2.06.94zm10 10l.94 2.06.94-2.06 2.06-.94-2.06-.94-.94-2.06-.94 2.06-2.06.94z\"/><path d=\"M17.41 7.96l-1.37-1.37c-.4-.4-.92-.59-1.43-.59-.52 0-1.04.2-1.43.59L10.3 9.45l-7.72 7.72c-.78.78-.78 2.05 0 2.83L4 21.41c.39.39.9.59 1.41.59.51 0 1.02-.2 1.41-.59l7.78-7.78 2.81-2.81c.8-.78.8-2.07 0-2.86zM5.41 20L4 18.59l7.72-7.72 1.47 1.35L5.41 20z\"/>\n",
              "  </svg>\n",
              "      </button>\n",
              "      \n",
              "  <style>\n",
              "    .colab-df-container {\n",
              "      display:flex;\n",
              "      flex-wrap:wrap;\n",
              "      gap: 12px;\n",
              "    }\n",
              "\n",
              "    .colab-df-convert {\n",
              "      background-color: #E8F0FE;\n",
              "      border: none;\n",
              "      border-radius: 50%;\n",
              "      cursor: pointer;\n",
              "      display: none;\n",
              "      fill: #1967D2;\n",
              "      height: 32px;\n",
              "      padding: 0 0 0 0;\n",
              "      width: 32px;\n",
              "    }\n",
              "\n",
              "    .colab-df-convert:hover {\n",
              "      background-color: #E2EBFA;\n",
              "      box-shadow: 0px 1px 2px rgba(60, 64, 67, 0.3), 0px 1px 3px 1px rgba(60, 64, 67, 0.15);\n",
              "      fill: #174EA6;\n",
              "    }\n",
              "\n",
              "    [theme=dark] .colab-df-convert {\n",
              "      background-color: #3B4455;\n",
              "      fill: #D2E3FC;\n",
              "    }\n",
              "\n",
              "    [theme=dark] .colab-df-convert:hover {\n",
              "      background-color: #434B5C;\n",
              "      box-shadow: 0px 1px 3px 1px rgba(0, 0, 0, 0.15);\n",
              "      filter: drop-shadow(0px 1px 2px rgba(0, 0, 0, 0.3));\n",
              "      fill: #FFFFFF;\n",
              "    }\n",
              "  </style>\n",
              "\n",
              "      <script>\n",
              "        const buttonEl =\n",
              "          document.querySelector('#df-ce4d73ac-bc63-45d5-a722-3f845b8d0fea button.colab-df-convert');\n",
              "        buttonEl.style.display =\n",
              "          google.colab.kernel.accessAllowed ? 'block' : 'none';\n",
              "\n",
              "        async function convertToInteractive(key) {\n",
              "          const element = document.querySelector('#df-ce4d73ac-bc63-45d5-a722-3f845b8d0fea');\n",
              "          const dataTable =\n",
              "            await google.colab.kernel.invokeFunction('convertToInteractive',\n",
              "                                                     [key], {});\n",
              "          if (!dataTable) return;\n",
              "\n",
              "          const docLinkHtml = 'Like what you see? Visit the ' +\n",
              "            '<a target=\"_blank\" href=https://colab.research.google.com/notebooks/data_table.ipynb>data table notebook</a>'\n",
              "            + ' to learn more about interactive tables.';\n",
              "          element.innerHTML = '';\n",
              "          dataTable['output_type'] = 'display_data';\n",
              "          await google.colab.output.renderOutput(dataTable, element);\n",
              "          const docLink = document.createElement('div');\n",
              "          docLink.innerHTML = docLinkHtml;\n",
              "          element.appendChild(docLink);\n",
              "        }\n",
              "      </script>\n",
              "    </div>\n",
              "  </div>\n",
              "  "
            ]
          },
          "metadata": {},
          "execution_count": 25
        }
      ]
    },
    {
      "cell_type": "code",
      "source": [
        "# if at least one pixel contains something greater than 0\n",
        "diagnos = lambda path: 1 if np.max(cv2.imread(path)) > 0 else 0\n",
        "\n",
        "df[\"diagnosis\"] = df[\"mask_path\"].apply(diagnos)"
      ],
      "metadata": {
        "id": "JDPBKXhUIMgB"
      },
      "execution_count": null,
      "outputs": []
    },
    {
      "cell_type": "code",
      "source": [
        "df.head()"
      ],
      "metadata": {
        "colab": {
          "base_uri": "https://localhost:8080/",
          "height": 206
        },
        "id": "RnFL18AOIOEv",
        "outputId": "16e24a64-41ae-4b80-cebd-3107d54c5fae"
      },
      "execution_count": null,
      "outputs": [
        {
          "output_type": "execute_result",
          "data": {
            "text/plain": [
              "                 patient                                         image_path  \\\n",
              "0  TCGA_FG_5962_20000626  /content/lgg-mri-segmentation/kaggle_3m/TCGA_F...   \n",
              "1  TCGA_FG_5962_20000626  /content/lgg-mri-segmentation/kaggle_3m/TCGA_H...   \n",
              "2  TCGA_FG_5962_20000626  /content/lgg-mri-segmentation/kaggle_3m/TCGA_H...   \n",
              "3  TCGA_FG_5962_20000626  /content/lgg-mri-segmentation/kaggle_3m/TCGA_D...   \n",
              "4  TCGA_FG_5962_20000626  /content/lgg-mri-segmentation/kaggle_3m/TCGA_E...   \n",
              "\n",
              "                                           mask_path  diagnosis  \n",
              "0  /content/lgg-mri-segmentation/kaggle_3m/TCGA_F...          0  \n",
              "1  /content/lgg-mri-segmentation/kaggle_3m/TCGA_H...          0  \n",
              "2  /content/lgg-mri-segmentation/kaggle_3m/TCGA_H...          0  \n",
              "3  /content/lgg-mri-segmentation/kaggle_3m/TCGA_D...          0  \n",
              "4  /content/lgg-mri-segmentation/kaggle_3m/TCGA_E...          0  "
            ],
            "text/html": [
              "\n",
              "  <div id=\"df-d80acfd1-e844-487c-b028-ec25f5f82688\">\n",
              "    <div class=\"colab-df-container\">\n",
              "      <div>\n",
              "<style scoped>\n",
              "    .dataframe tbody tr th:only-of-type {\n",
              "        vertical-align: middle;\n",
              "    }\n",
              "\n",
              "    .dataframe tbody tr th {\n",
              "        vertical-align: top;\n",
              "    }\n",
              "\n",
              "    .dataframe thead th {\n",
              "        text-align: right;\n",
              "    }\n",
              "</style>\n",
              "<table border=\"1\" class=\"dataframe\">\n",
              "  <thead>\n",
              "    <tr style=\"text-align: right;\">\n",
              "      <th></th>\n",
              "      <th>patient</th>\n",
              "      <th>image_path</th>\n",
              "      <th>mask_path</th>\n",
              "      <th>diagnosis</th>\n",
              "    </tr>\n",
              "  </thead>\n",
              "  <tbody>\n",
              "    <tr>\n",
              "      <th>0</th>\n",
              "      <td>TCGA_FG_5962_20000626</td>\n",
              "      <td>/content/lgg-mri-segmentation/kaggle_3m/TCGA_F...</td>\n",
              "      <td>/content/lgg-mri-segmentation/kaggle_3m/TCGA_F...</td>\n",
              "      <td>0</td>\n",
              "    </tr>\n",
              "    <tr>\n",
              "      <th>1</th>\n",
              "      <td>TCGA_FG_5962_20000626</td>\n",
              "      <td>/content/lgg-mri-segmentation/kaggle_3m/TCGA_H...</td>\n",
              "      <td>/content/lgg-mri-segmentation/kaggle_3m/TCGA_H...</td>\n",
              "      <td>0</td>\n",
              "    </tr>\n",
              "    <tr>\n",
              "      <th>2</th>\n",
              "      <td>TCGA_FG_5962_20000626</td>\n",
              "      <td>/content/lgg-mri-segmentation/kaggle_3m/TCGA_H...</td>\n",
              "      <td>/content/lgg-mri-segmentation/kaggle_3m/TCGA_H...</td>\n",
              "      <td>0</td>\n",
              "    </tr>\n",
              "    <tr>\n",
              "      <th>3</th>\n",
              "      <td>TCGA_FG_5962_20000626</td>\n",
              "      <td>/content/lgg-mri-segmentation/kaggle_3m/TCGA_D...</td>\n",
              "      <td>/content/lgg-mri-segmentation/kaggle_3m/TCGA_D...</td>\n",
              "      <td>0</td>\n",
              "    </tr>\n",
              "    <tr>\n",
              "      <th>4</th>\n",
              "      <td>TCGA_FG_5962_20000626</td>\n",
              "      <td>/content/lgg-mri-segmentation/kaggle_3m/TCGA_E...</td>\n",
              "      <td>/content/lgg-mri-segmentation/kaggle_3m/TCGA_E...</td>\n",
              "      <td>0</td>\n",
              "    </tr>\n",
              "  </tbody>\n",
              "</table>\n",
              "</div>\n",
              "      <button class=\"colab-df-convert\" onclick=\"convertToInteractive('df-d80acfd1-e844-487c-b028-ec25f5f82688')\"\n",
              "              title=\"Convert this dataframe to an interactive table.\"\n",
              "              style=\"display:none;\">\n",
              "        \n",
              "  <svg xmlns=\"http://www.w3.org/2000/svg\" height=\"24px\"viewBox=\"0 0 24 24\"\n",
              "       width=\"24px\">\n",
              "    <path d=\"M0 0h24v24H0V0z\" fill=\"none\"/>\n",
              "    <path d=\"M18.56 5.44l.94 2.06.94-2.06 2.06-.94-2.06-.94-.94-2.06-.94 2.06-2.06.94zm-11 1L8.5 8.5l.94-2.06 2.06-.94-2.06-.94L8.5 2.5l-.94 2.06-2.06.94zm10 10l.94 2.06.94-2.06 2.06-.94-2.06-.94-.94-2.06-.94 2.06-2.06.94z\"/><path d=\"M17.41 7.96l-1.37-1.37c-.4-.4-.92-.59-1.43-.59-.52 0-1.04.2-1.43.59L10.3 9.45l-7.72 7.72c-.78.78-.78 2.05 0 2.83L4 21.41c.39.39.9.59 1.41.59.51 0 1.02-.2 1.41-.59l7.78-7.78 2.81-2.81c.8-.78.8-2.07 0-2.86zM5.41 20L4 18.59l7.72-7.72 1.47 1.35L5.41 20z\"/>\n",
              "  </svg>\n",
              "      </button>\n",
              "      \n",
              "  <style>\n",
              "    .colab-df-container {\n",
              "      display:flex;\n",
              "      flex-wrap:wrap;\n",
              "      gap: 12px;\n",
              "    }\n",
              "\n",
              "    .colab-df-convert {\n",
              "      background-color: #E8F0FE;\n",
              "      border: none;\n",
              "      border-radius: 50%;\n",
              "      cursor: pointer;\n",
              "      display: none;\n",
              "      fill: #1967D2;\n",
              "      height: 32px;\n",
              "      padding: 0 0 0 0;\n",
              "      width: 32px;\n",
              "    }\n",
              "\n",
              "    .colab-df-convert:hover {\n",
              "      background-color: #E2EBFA;\n",
              "      box-shadow: 0px 1px 2px rgba(60, 64, 67, 0.3), 0px 1px 3px 1px rgba(60, 64, 67, 0.15);\n",
              "      fill: #174EA6;\n",
              "    }\n",
              "\n",
              "    [theme=dark] .colab-df-convert {\n",
              "      background-color: #3B4455;\n",
              "      fill: #D2E3FC;\n",
              "    }\n",
              "\n",
              "    [theme=dark] .colab-df-convert:hover {\n",
              "      background-color: #434B5C;\n",
              "      box-shadow: 0px 1px 3px 1px rgba(0, 0, 0, 0.15);\n",
              "      filter: drop-shadow(0px 1px 2px rgba(0, 0, 0, 0.3));\n",
              "      fill: #FFFFFF;\n",
              "    }\n",
              "  </style>\n",
              "\n",
              "      <script>\n",
              "        const buttonEl =\n",
              "          document.querySelector('#df-d80acfd1-e844-487c-b028-ec25f5f82688 button.colab-df-convert');\n",
              "        buttonEl.style.display =\n",
              "          google.colab.kernel.accessAllowed ? 'block' : 'none';\n",
              "\n",
              "        async function convertToInteractive(key) {\n",
              "          const element = document.querySelector('#df-d80acfd1-e844-487c-b028-ec25f5f82688');\n",
              "          const dataTable =\n",
              "            await google.colab.kernel.invokeFunction('convertToInteractive',\n",
              "                                                     [key], {});\n",
              "          if (!dataTable) return;\n",
              "\n",
              "          const docLinkHtml = 'Like what you see? Visit the ' +\n",
              "            '<a target=\"_blank\" href=https://colab.research.google.com/notebooks/data_table.ipynb>data table notebook</a>'\n",
              "            + ' to learn more about interactive tables.';\n",
              "          element.innerHTML = '';\n",
              "          dataTable['output_type'] = 'display_data';\n",
              "          await google.colab.output.renderOutput(dataTable, element);\n",
              "          const docLink = document.createElement('div');\n",
              "          docLink.innerHTML = docLinkHtml;\n",
              "          element.appendChild(docLink);\n",
              "        }\n",
              "      </script>\n",
              "    </div>\n",
              "  </div>\n",
              "  "
            ]
          },
          "metadata": {},
          "execution_count": 15
        }
      ]
    },
    {
      "cell_type": "code",
      "source": [
        "df.sort_values('diagnosis', ascending=False)[:10]"
      ],
      "metadata": {
        "colab": {
          "base_uri": "https://localhost:8080/",
          "height": 362
        },
        "id": "oYV98VUeIPgA",
        "outputId": "86947349-a87f-4d55-83ed-a11447e8aa83"
      },
      "execution_count": null,
      "outputs": [
        {
          "output_type": "execute_result",
          "data": {
            "text/plain": [
              "                    patient  \\\n",
              "1152  TCGA_FG_7637_20000922   \n",
              "1482  TCGA_DU_A5TP_19970614   \n",
              "1498  TCGA_DU_5874_19950510   \n",
              "1497  TCGA_DU_A5TP_19970614   \n",
              "2669  TCGA_DU_6408_19860521   \n",
              "1495  TCGA_DU_A5TP_19970614   \n",
              "1494  TCGA_DU_A5TP_19970614   \n",
              "1492  TCGA_DU_A5TP_19970614   \n",
              "1491  TCGA_DU_A5TP_19970614   \n",
              "1490  TCGA_DU_A5TP_19970614   \n",
              "\n",
              "                                             image_path  \\\n",
              "1152  /content/lgg-mri-segmentation/kaggle_3m/TCGA_F...   \n",
              "1482  /content/lgg-mri-segmentation/kaggle_3m/TCGA_F...   \n",
              "1498  /content/lgg-mri-segmentation/kaggle_3m/TCGA_C...   \n",
              "1497  /content/lgg-mri-segmentation/kaggle_3m/TCGA_H...   \n",
              "2669  /content/lgg-mri-segmentation/kaggle_3m/TCGA_D...   \n",
              "1495  /content/lgg-mri-segmentation/kaggle_3m/TCGA_D...   \n",
              "1494  /content/lgg-mri-segmentation/kaggle_3m/TCGA_H...   \n",
              "1492  /content/lgg-mri-segmentation/kaggle_3m/TCGA_H...   \n",
              "1491  /content/lgg-mri-segmentation/kaggle_3m/TCGA_H...   \n",
              "1490  /content/lgg-mri-segmentation/kaggle_3m/TCGA_D...   \n",
              "\n",
              "                                              mask_path  diagnosis  \n",
              "1152  /content/lgg-mri-segmentation/kaggle_3m/TCGA_F...          1  \n",
              "1482  /content/lgg-mri-segmentation/kaggle_3m/TCGA_F...          1  \n",
              "1498  /content/lgg-mri-segmentation/kaggle_3m/TCGA_C...          1  \n",
              "1497  /content/lgg-mri-segmentation/kaggle_3m/TCGA_H...          1  \n",
              "2669  /content/lgg-mri-segmentation/kaggle_3m/TCGA_D...          1  \n",
              "1495  /content/lgg-mri-segmentation/kaggle_3m/TCGA_D...          1  \n",
              "1494  /content/lgg-mri-segmentation/kaggle_3m/TCGA_H...          1  \n",
              "1492  /content/lgg-mri-segmentation/kaggle_3m/TCGA_H...          1  \n",
              "1491  /content/lgg-mri-segmentation/kaggle_3m/TCGA_H...          1  \n",
              "1490  /content/lgg-mri-segmentation/kaggle_3m/TCGA_D...          1  "
            ],
            "text/html": [
              "\n",
              "  <div id=\"df-a0951da9-de2d-4f6f-a05c-2a5d58d434fa\">\n",
              "    <div class=\"colab-df-container\">\n",
              "      <div>\n",
              "<style scoped>\n",
              "    .dataframe tbody tr th:only-of-type {\n",
              "        vertical-align: middle;\n",
              "    }\n",
              "\n",
              "    .dataframe tbody tr th {\n",
              "        vertical-align: top;\n",
              "    }\n",
              "\n",
              "    .dataframe thead th {\n",
              "        text-align: right;\n",
              "    }\n",
              "</style>\n",
              "<table border=\"1\" class=\"dataframe\">\n",
              "  <thead>\n",
              "    <tr style=\"text-align: right;\">\n",
              "      <th></th>\n",
              "      <th>patient</th>\n",
              "      <th>image_path</th>\n",
              "      <th>mask_path</th>\n",
              "      <th>diagnosis</th>\n",
              "    </tr>\n",
              "  </thead>\n",
              "  <tbody>\n",
              "    <tr>\n",
              "      <th>1152</th>\n",
              "      <td>TCGA_FG_7637_20000922</td>\n",
              "      <td>/content/lgg-mri-segmentation/kaggle_3m/TCGA_F...</td>\n",
              "      <td>/content/lgg-mri-segmentation/kaggle_3m/TCGA_F...</td>\n",
              "      <td>1</td>\n",
              "    </tr>\n",
              "    <tr>\n",
              "      <th>1482</th>\n",
              "      <td>TCGA_DU_A5TP_19970614</td>\n",
              "      <td>/content/lgg-mri-segmentation/kaggle_3m/TCGA_F...</td>\n",
              "      <td>/content/lgg-mri-segmentation/kaggle_3m/TCGA_F...</td>\n",
              "      <td>1</td>\n",
              "    </tr>\n",
              "    <tr>\n",
              "      <th>1498</th>\n",
              "      <td>TCGA_DU_5874_19950510</td>\n",
              "      <td>/content/lgg-mri-segmentation/kaggle_3m/TCGA_C...</td>\n",
              "      <td>/content/lgg-mri-segmentation/kaggle_3m/TCGA_C...</td>\n",
              "      <td>1</td>\n",
              "    </tr>\n",
              "    <tr>\n",
              "      <th>1497</th>\n",
              "      <td>TCGA_DU_A5TP_19970614</td>\n",
              "      <td>/content/lgg-mri-segmentation/kaggle_3m/TCGA_H...</td>\n",
              "      <td>/content/lgg-mri-segmentation/kaggle_3m/TCGA_H...</td>\n",
              "      <td>1</td>\n",
              "    </tr>\n",
              "    <tr>\n",
              "      <th>2669</th>\n",
              "      <td>TCGA_DU_6408_19860521</td>\n",
              "      <td>/content/lgg-mri-segmentation/kaggle_3m/TCGA_D...</td>\n",
              "      <td>/content/lgg-mri-segmentation/kaggle_3m/TCGA_D...</td>\n",
              "      <td>1</td>\n",
              "    </tr>\n",
              "    <tr>\n",
              "      <th>1495</th>\n",
              "      <td>TCGA_DU_A5TP_19970614</td>\n",
              "      <td>/content/lgg-mri-segmentation/kaggle_3m/TCGA_D...</td>\n",
              "      <td>/content/lgg-mri-segmentation/kaggle_3m/TCGA_D...</td>\n",
              "      <td>1</td>\n",
              "    </tr>\n",
              "    <tr>\n",
              "      <th>1494</th>\n",
              "      <td>TCGA_DU_A5TP_19970614</td>\n",
              "      <td>/content/lgg-mri-segmentation/kaggle_3m/TCGA_H...</td>\n",
              "      <td>/content/lgg-mri-segmentation/kaggle_3m/TCGA_H...</td>\n",
              "      <td>1</td>\n",
              "    </tr>\n",
              "    <tr>\n",
              "      <th>1492</th>\n",
              "      <td>TCGA_DU_A5TP_19970614</td>\n",
              "      <td>/content/lgg-mri-segmentation/kaggle_3m/TCGA_H...</td>\n",
              "      <td>/content/lgg-mri-segmentation/kaggle_3m/TCGA_H...</td>\n",
              "      <td>1</td>\n",
              "    </tr>\n",
              "    <tr>\n",
              "      <th>1491</th>\n",
              "      <td>TCGA_DU_A5TP_19970614</td>\n",
              "      <td>/content/lgg-mri-segmentation/kaggle_3m/TCGA_H...</td>\n",
              "      <td>/content/lgg-mri-segmentation/kaggle_3m/TCGA_H...</td>\n",
              "      <td>1</td>\n",
              "    </tr>\n",
              "    <tr>\n",
              "      <th>1490</th>\n",
              "      <td>TCGA_DU_A5TP_19970614</td>\n",
              "      <td>/content/lgg-mri-segmentation/kaggle_3m/TCGA_D...</td>\n",
              "      <td>/content/lgg-mri-segmentation/kaggle_3m/TCGA_D...</td>\n",
              "      <td>1</td>\n",
              "    </tr>\n",
              "  </tbody>\n",
              "</table>\n",
              "</div>\n",
              "      <button class=\"colab-df-convert\" onclick=\"convertToInteractive('df-a0951da9-de2d-4f6f-a05c-2a5d58d434fa')\"\n",
              "              title=\"Convert this dataframe to an interactive table.\"\n",
              "              style=\"display:none;\">\n",
              "        \n",
              "  <svg xmlns=\"http://www.w3.org/2000/svg\" height=\"24px\"viewBox=\"0 0 24 24\"\n",
              "       width=\"24px\">\n",
              "    <path d=\"M0 0h24v24H0V0z\" fill=\"none\"/>\n",
              "    <path d=\"M18.56 5.44l.94 2.06.94-2.06 2.06-.94-2.06-.94-.94-2.06-.94 2.06-2.06.94zm-11 1L8.5 8.5l.94-2.06 2.06-.94-2.06-.94L8.5 2.5l-.94 2.06-2.06.94zm10 10l.94 2.06.94-2.06 2.06-.94-2.06-.94-.94-2.06-.94 2.06-2.06.94z\"/><path d=\"M17.41 7.96l-1.37-1.37c-.4-.4-.92-.59-1.43-.59-.52 0-1.04.2-1.43.59L10.3 9.45l-7.72 7.72c-.78.78-.78 2.05 0 2.83L4 21.41c.39.39.9.59 1.41.59.51 0 1.02-.2 1.41-.59l7.78-7.78 2.81-2.81c.8-.78.8-2.07 0-2.86zM5.41 20L4 18.59l7.72-7.72 1.47 1.35L5.41 20z\"/>\n",
              "  </svg>\n",
              "      </button>\n",
              "      \n",
              "  <style>\n",
              "    .colab-df-container {\n",
              "      display:flex;\n",
              "      flex-wrap:wrap;\n",
              "      gap: 12px;\n",
              "    }\n",
              "\n",
              "    .colab-df-convert {\n",
              "      background-color: #E8F0FE;\n",
              "      border: none;\n",
              "      border-radius: 50%;\n",
              "      cursor: pointer;\n",
              "      display: none;\n",
              "      fill: #1967D2;\n",
              "      height: 32px;\n",
              "      padding: 0 0 0 0;\n",
              "      width: 32px;\n",
              "    }\n",
              "\n",
              "    .colab-df-convert:hover {\n",
              "      background-color: #E2EBFA;\n",
              "      box-shadow: 0px 1px 2px rgba(60, 64, 67, 0.3), 0px 1px 3px 1px rgba(60, 64, 67, 0.15);\n",
              "      fill: #174EA6;\n",
              "    }\n",
              "\n",
              "    [theme=dark] .colab-df-convert {\n",
              "      background-color: #3B4455;\n",
              "      fill: #D2E3FC;\n",
              "    }\n",
              "\n",
              "    [theme=dark] .colab-df-convert:hover {\n",
              "      background-color: #434B5C;\n",
              "      box-shadow: 0px 1px 3px 1px rgba(0, 0, 0, 0.15);\n",
              "      filter: drop-shadow(0px 1px 2px rgba(0, 0, 0, 0.3));\n",
              "      fill: #FFFFFF;\n",
              "    }\n",
              "  </style>\n",
              "\n",
              "      <script>\n",
              "        const buttonEl =\n",
              "          document.querySelector('#df-a0951da9-de2d-4f6f-a05c-2a5d58d434fa button.colab-df-convert');\n",
              "        buttonEl.style.display =\n",
              "          google.colab.kernel.accessAllowed ? 'block' : 'none';\n",
              "\n",
              "        async function convertToInteractive(key) {\n",
              "          const element = document.querySelector('#df-a0951da9-de2d-4f6f-a05c-2a5d58d434fa');\n",
              "          const dataTable =\n",
              "            await google.colab.kernel.invokeFunction('convertToInteractive',\n",
              "                                                     [key], {});\n",
              "          if (!dataTable) return;\n",
              "\n",
              "          const docLinkHtml = 'Like what you see? Visit the ' +\n",
              "            '<a target=\"_blank\" href=https://colab.research.google.com/notebooks/data_table.ipynb>data table notebook</a>'\n",
              "            + ' to learn more about interactive tables.';\n",
              "          element.innerHTML = '';\n",
              "          dataTable['output_type'] = 'display_data';\n",
              "          await google.colab.output.renderOutput(dataTable, element);\n",
              "          const docLink = document.createElement('div');\n",
              "          docLink.innerHTML = docLinkHtml;\n",
              "          element.appendChild(docLink);\n",
              "        }\n",
              "      </script>\n",
              "    </div>\n",
              "  </div>\n",
              "  "
            ]
          },
          "metadata": {},
          "execution_count": 16
        }
      ]
    },
    {
      "cell_type": "code",
      "source": [
        "df['diagnosis'].value_counts() / df.shape[0]"
      ],
      "metadata": {
        "colab": {
          "base_uri": "https://localhost:8080/"
        },
        "id": "7QDqGY7kIRE9",
        "outputId": "d226e74c-c29a-497c-8193-0c7a3285a633"
      },
      "execution_count": null,
      "outputs": [
        {
          "output_type": "execute_result",
          "data": {
            "text/plain": [
              "0    0.650547\n",
              "1    0.349453\n",
              "Name: diagnosis, dtype: float64"
            ]
          },
          "metadata": {},
          "execution_count": 16
        }
      ]
    },
    {
      "cell_type": "code",
      "source": [
        "X_train, X_test = train_test_split(df, stratify=df['diagnosis'], test_size=0.15, random_state=42)\n",
        "X_train, X_valid = train_test_split(X_train, stratify=X_train['diagnosis'], test_size=0.15, random_state=42)\n",
        "\n",
        "X_train = X_train.reset_index(drop=True)\n",
        "X_test = X_test.reset_index(drop=True)\n",
        "X_valid = X_valid.reset_index(drop=True)\n",
        "\n",
        "print(X_train['diagnosis'].value_counts() / X_train.shape[0])\n",
        "print(X_valid['diagnosis'].value_counts() / X_valid.shape[0])\n",
        "print(X_test['diagnosis'].value_counts() / X_test.shape[0])"
      ],
      "metadata": {
        "colab": {
          "base_uri": "https://localhost:8080/"
        },
        "id": "Iyv9pdzJITQq",
        "outputId": "d9201448-5e90-40e3-bbd0-216aea558daa"
      },
      "execution_count": null,
      "outputs": [
        {
          "output_type": "stream",
          "name": "stdout",
          "text": [
            "0    0.650458\n",
            "1    0.349542\n",
            "Name: diagnosis, dtype: float64\n",
            "0    0.650699\n",
            "1    0.349301\n",
            "Name: diagnosis, dtype: float64\n",
            "0    0.650847\n",
            "1    0.349153\n",
            "Name: diagnosis, dtype: float64\n"
          ]
        }
      ]
    },
    {
      "cell_type": "code",
      "source": [
        "class MRISegmantation(Dataset):\n",
        "    def __init__(self, dataframe, transforms):\n",
        "        \n",
        "        self.dataframe = dataframe\n",
        "        self.transforms = transforms\n",
        "        \n",
        "    def __len__(self):\n",
        "        return self.dataframe.shape[0]\n",
        "    \n",
        "    def __getitem__(self, idx):\n",
        "#         image = cv2.imread(self.dataframe.iloc[idx, 1])\n",
        "#         mask = cv2.imread(self.dataframe.iloc[idx, 2], 0)\n",
        "        \n",
        "        image = Image.open(self.dataframe.iloc[idx, 1]).convert('RGB')\n",
        "        mask = Image.open(self.dataframe.iloc[idx, 2]).convert('L')\n",
        "    \n",
        "        seed = np.random.randint(2147483647)\n",
        "        random.seed(seed)\n",
        "        torch.manual_seed(seed)\n",
        "\n",
        "        image = self.transforms(image)\n",
        "        \n",
        "        random.seed(seed)\n",
        "        torch.manual_seed(seed)\n",
        "        \n",
        "        mask = self.transforms(mask)\n",
        "\n",
        "        return image, mask"
      ],
      "metadata": {
        "id": "DkBZi4c4IVGV"
      },
      "execution_count": null,
      "outputs": []
    },
    {
      "cell_type": "code",
      "source": [
        "mean, std = 0.5, 0.5\n",
        "shape = 224\n",
        "\n",
        "transform = transforms.Compose([\n",
        "   transforms.Resize((shape, shape)),\n",
        "   transforms.RandomHorizontalFlip(),\n",
        "   transforms.RandomVerticalFlip(),\n",
        "   transforms.RandomRotation(90),\n",
        "   transforms.RandomAffine(degrees=15, translate=(0.1, 0.1), scale=(0.8, 0.8)),\n",
        " #  transforms.ToPILImage(),\n",
        "   transforms.ToTensor(),     \n",
        "   transforms.Normalize(mean=[mean], std=[std]),\n",
        "])\n",
        "\n",
        "# plt.imshow(transform) / show each transformation\n"
      ],
      "metadata": {
        "id": "8CzeULhVIYuG"
      },
      "execution_count": null,
      "outputs": []
    },
    {
      "cell_type": "code",
      "source": [
        "batch_size = 8\n",
        "\n",
        "train_dataset = MRISegmantation(dataframe=X_train, transforms=transform)\n",
        "train_loader = DataLoader(train_dataset, batch_size=batch_size, shuffle=True, num_workers=0)\n",
        "\n",
        "valid_dataset = MRISegmantation(dataframe=X_valid, transforms=transform)\n",
        "valid_loader = DataLoader(valid_dataset, batch_size=batch_size, shuffle=True, num_workers=0)\n",
        "\n",
        "test_dataset = MRISegmantation(dataframe=X_test, transforms=transforms.Compose([\n",
        "    transforms.Resize((shape, shape)),\n",
        "    transforms.ToTensor(),\n",
        "]))\n",
        "test_loader = DataLoader(test_dataset, batch_size=batch_size, shuffle=False, num_workers=0)"
      ],
      "metadata": {
        "id": "M4TBviUhIaeV"
      },
      "execution_count": null,
      "outputs": []
    },
    {
      "cell_type": "code",
      "source": [
        "def plot_example(loader, ax, shape):\n",
        "    images, target = next(iter(loader))\n",
        "    ind = np.random.choice(range(loader.batch_size))\n",
        "\n",
        "#     try:\n",
        "#         ind = random.choice([i for i in range(images.shape[0]) if np.max(target[i].permute(1, 2, 0).cpu().detach().numpy()) > 0])\n",
        "#     except IndexError:\n",
        "#         images, target = next(iter(loader))\n",
        "#         ind = random.choice([i for i in range(images.shape[0]) if np.max(target[i].permute(1, 2, 0).cpu().detach().numpy()) > 0])\n",
        "    \n",
        "    image = images[ind].permute(1, 2, 0)\n",
        "    target = target[ind].permute(1, 2, 0).reshape(shape, shape)\n",
        "    target = Image.fromarray(np.asarray(target * 255, dtype=np.uint8)).convert('RGB')\n",
        "    target = np.asarray(target)\n",
        "\n",
        "    ax.imshow(np.hstack([image, target]))\n",
        "    ax.set_title('Source / Target', fontsize=14)"
      ],
      "metadata": {
        "id": "QODP08PUIb-H"
      },
      "execution_count": null,
      "outputs": []
    },
    {
      "cell_type": "code",
      "source": [
        "fig, axes = plt.subplots(nrows=5, ncols=4, figsize=(20, 15))\n",
        "\n",
        "for ax in axes.flatten():\n",
        "    plot_example(loader=test_loader, ax=ax, shape=shape)"
      ],
      "metadata": {
        "colab": {
          "base_uri": "https://localhost:8080/",
          "height": 950
        },
        "id": "ast5SerMId3m",
        "outputId": "ec67e1f5-606a-4672-bee6-27fef6b62056"
      },
      "execution_count": null,
      "outputs": [
        {
          "output_type": "stream",
          "name": "stderr",
          "text": [
            "WARNING:matplotlib.image:Clipping input data to the valid range for imshow with RGB data ([0..1] for floats or [0..255] for integers).\n",
            "WARNING:matplotlib.image:Clipping input data to the valid range for imshow with RGB data ([0..1] for floats or [0..255] for integers).\n",
            "WARNING:matplotlib.image:Clipping input data to the valid range for imshow with RGB data ([0..1] for floats or [0..255] for integers).\n",
            "WARNING:matplotlib.image:Clipping input data to the valid range for imshow with RGB data ([0..1] for floats or [0..255] for integers).\n"
          ]
        },
        {
          "output_type": "display_data",
          "data": {
            "text/plain": [
              "<Figure size 1440x1080 with 20 Axes>"
            ],
            "image/png": "[encoded data removed]"
          },
          "metadata": {
            "needs_background": "light"
          }
        }
      ]
    },
    {
      "cell_type": "markdown",
      "source": [
        "## Define Loss Functions"
      ],
      "metadata": {
        "id": "anYveUz4t0Cr"
      }
    },
    {
      "cell_type": "code",
      "source": [
        "def dice2(y_pred, y_true, eps=1e-7): \n",
        "    #intersect = (y_pred * y_true).sum()\n",
        "    #return 1 - 2 * (intersect + eps) / (y_pred.sum() + y_true.sum() + eps)\n",
        "\n",
        "    iflat = y_pred.view(-1)\n",
        "    tflat = y_true.view(-1)\n",
        "    intersection = (iflat * tflat).sum()\n",
        "    \n",
        "    return 1 - ((2. * intersection + eps) / (iflat.sum() + tflat.sum() + eps))"
      ],
      "metadata": {
        "id": "3wGPQyYXIfdz"
      },
      "execution_count": null,
      "outputs": []
    },
    {
      "cell_type": "code",
      "source": [
        "def bce_dice(y_pred, y_true):\n",
        "    dice_loss = dice2(y_pred, y_true)\n",
        "    bce_score = nn.BCELoss() \n",
        "    bce_loss = bce_score(y_pred, y_true)\n",
        "    loss = nn.BCEWithLogitsLoss()(y_pred, y_true)\n",
        "    \n",
        "    return dice_loss + loss\n",
        "    #return dice_loss + bce_loss\n",
        "    #return dice_loss\n",
        "    #return loss"
      ],
      "metadata": {
        "id": "eg_ei5vmIine"
      },
      "execution_count": null,
      "outputs": []
    },
    {
      "cell_type": "markdown",
      "source": [
        "## Train Model"
      ],
      "metadata": {
        "id": "yDETLU_dt2gJ"
      }
    },
    {
      "cell_type": "code",
      "source": [
        "def make_dirr(name):\n",
        "    try:\n",
        "        os.makedirs(name)\n",
        "    except FileExistsError:\n",
        "        pass"
      ],
      "metadata": {
        "id": "49KPLxmBImRy"
      },
      "execution_count": null,
      "outputs": []
    },
    {
      "cell_type": "code",
      "source": [
        "def train_model(model, optimizer, epochs, scheduler, train_data_loader, valid_data_loader, early_stopping=5, checkpoint_dirr=f'./checkpoint{1}/'):\n",
        "    # loss metric\n",
        "    metrics = defaultdict(list)\n",
        "    best_loss = np.inf\n",
        "    \n",
        "    # for an early stop\n",
        "    early_count = 0\n",
        "    \n",
        "    # directory\n",
        "    make_dirr(checkpoint_dirr)\n",
        "    \n",
        "    for epoch in range(epochs):\n",
        "        model.train()\n",
        "        train_loss = 0\n",
        "        metric = 0\n",
        "        scheduler.step()\n",
        "        \n",
        "        with tqdm(train_data_loader, unit=\"batch\") as tepoch:\n",
        "            tepoch.set_description(f\"Epoch {epoch}\")\n",
        "            \n",
        "            for i, (images, target) in enumerate(tepoch):\n",
        "                # device optimization\n",
        "                images = images.to(device)\n",
        "                target = target.to(device) \n",
        "                \n",
        "                # in 64 bits\n",
        "#                 target = target.long()\n",
        "                \n",
        "                # zero out the gradient before backpropagation\n",
        "                optimizer.zero_grad()\n",
        "                \n",
        "                # prediction\n",
        "                preds = model(images)\n",
        "                \n",
        "                # loss function\n",
        "                loss = bce_dice(preds, target)\n",
        "                \n",
        "                # calculate the loss gradient\n",
        "                loss.backward()\n",
        "                \n",
        "                # update settings\n",
        "                optimizer.step()\n",
        "                \n",
        "                # measuring metrics\n",
        "                train_loss += loss.item()\n",
        "                \n",
        "                tepoch.set_postfix(loss=train_loss / (i + 1), lr=scheduler.get_lr()[0])\n",
        "                \n",
        "            metrics['loss'].append(train_loss / (i + 1))\n",
        "            \n",
        "        # eval mode\n",
        "        model.eval()\n",
        "        \n",
        "        sleep(0.1)\n",
        "\n",
        "        with torch.no_grad():\n",
        "            valid_loss = 0\n",
        "            \n",
        "            with tqdm(valid_data_loader, unit=\"batch\") as tepoch:\n",
        "                tepoch.set_description(f\"Epoch {epoch}\")\n",
        "\n",
        "                for i, valid_batch in enumerate(tepoch):\n",
        "                    valid_images, valid_target = valid_batch\n",
        "                    valid_images = valid_images.to(device)\n",
        "                    valid_target = valid_target.to(device)\n",
        "                    \n",
        "#                     valid_target = valid_target.long()\n",
        "\n",
        "                    valid_preds = model(valid_images)\n",
        "\n",
        "                    loss_valid = bce_dice(valid_preds, valid_target)\n",
        "\n",
        "                    valid_loss += loss_valid.item()\n",
        "\n",
        "                    tepoch.set_postfix(loss=valid_loss / (i + 1))\n",
        "\n",
        "                metrics['val_loss'].append(valid_loss / (i + 1))\n",
        "\n",
        "        sleep(0.1)\n",
        "        \n",
        "        if valid_loss < best_loss:\n",
        "            # resave\n",
        "            best_loss = valid_loss\n",
        "\n",
        "            # zero the counter\n",
        "            early_count = 0\n",
        "\n",
        "            # save model\n",
        "            torch.save(model.state_dict(), f'{checkpoint_dirr}epoch:{epoch}.pt')\n",
        "            print('best model saved')\n",
        "        else:\n",
        "            early_count += 1\n",
        "\n",
        "            if early_count >= early_stopping:\n",
        "                print(f\"Loss did not improve over {early_stopping} epochs => early stopping\")\n",
        "                break\n",
        "\n",
        "    return model, metrics, checkpoint_dirr"
      ],
      "metadata": {
        "id": "eLBCkj3mIp7p"
      },
      "execution_count": null,
      "outputs": []
    },
    {
      "cell_type": "code",
      "source": [
        "# model to GPU\n",
        "model = UNETR().to(device)\n",
        "\n",
        "# optimizer\n",
        "optimizer = optim.Adam(model.parameters(), lr=0.12)\n",
        "\n",
        "# learning rate scheduler\n",
        "scheduler = MultiplicativeLR(optimizer, lr_lambda=lambda epoch: 0.9)\n",
        "\n",
        "# set epochs\n",
        "epochs = 100\n",
        "\n",
        "early_stopping = 8\n",
        "    \n",
        "model, losses, dirr = train_model(model=model, optimizer=optimizer, epochs=epochs, scheduler=scheduler, early_stopping=early_stopping,\n",
        "                                  train_data_loader=train_loader, valid_data_loader=valid_loader)"
      ],
      "metadata": {
        "colab": {
          "base_uri": "https://localhost:8080/"
        },
        "id": "2H1XZ9iXIrrl",
        "outputId": "a0235810-3e6a-48ef-9a17-69d68bdea1c9"
      },
      "execution_count": null,
      "outputs": [
        {
          "output_type": "stream",
          "name": "stderr",
          "text": [
            "Epoch 0: 100%|██████████| 355/355 [05:02<00:00,  1.17batch/s, loss=-4.09e+3, lr=0.0972]\n",
            "Epoch 0: 100%|██████████| 63/63 [00:20<00:00,  3.11batch/s, loss=-1.59e+4]\n"
          ]
        },
        {
          "output_type": "stream",
          "name": "stdout",
          "text": [
            "best model saved\n"
          ]
        },
        {
          "output_type": "stream",
          "name": "stderr",
          "text": [
            "Epoch 1: 100%|██████████| 355/355 [05:00<00:00,  1.18batch/s, loss=-8.67e+4, lr=0.0875]\n",
            "Epoch 1: 100%|██████████| 63/63 [00:20<00:00,  3.10batch/s, loss=-1.6e+5]\n"
          ]
        },
        {
          "output_type": "stream",
          "name": "stdout",
          "text": [
            "best model saved\n"
          ]
        },
        {
          "output_type": "stream",
          "name": "stderr",
          "text": [
            "Epoch 2: 100%|██████████| 355/355 [04:58<00:00,  1.19batch/s, loss=-2.58e+5, lr=0.0787]\n",
            "Epoch 2: 100%|██████████| 63/63 [00:19<00:00,  3.16batch/s, loss=-3.59e+5]\n"
          ]
        },
        {
          "output_type": "stream",
          "name": "stdout",
          "text": [
            "best model saved\n"
          ]
        },
        {
          "output_type": "stream",
          "name": "stderr",
          "text": [
            "Epoch 3: 100%|██████████| 355/355 [04:58<00:00,  1.19batch/s, loss=-4.86e+5, lr=0.0709]\n",
            "Epoch 3: 100%|██████████| 63/63 [00:19<00:00,  3.18batch/s, loss=-6.49e+5]\n"
          ]
        },
        {
          "output_type": "stream",
          "name": "stdout",
          "text": [
            "best model saved\n"
          ]
        },
        {
          "output_type": "stream",
          "name": "stderr",
          "text": [
            "Epoch 4: 100%|██████████| 355/355 [04:58<00:00,  1.19batch/s, loss=-7.47e+5, lr=0.0638]\n",
            "Epoch 4: 100%|██████████| 63/63 [00:19<00:00,  3.16batch/s, loss=-9.18e+5]\n"
          ]
        },
        {
          "output_type": "stream",
          "name": "stdout",
          "text": [
            "best model saved\n"
          ]
        },
        {
          "output_type": "stream",
          "name": "stderr",
          "text": [
            "Epoch 5: 100%|██████████| 355/355 [04:58<00:00,  1.19batch/s, loss=-1.01e+6, lr=0.0574]\n",
            "Epoch 5: 100%|██████████| 63/63 [00:20<00:00,  3.14batch/s, loss=-1.14e+6]\n"
          ]
        },
        {
          "output_type": "stream",
          "name": "stdout",
          "text": [
            "best model saved\n"
          ]
        },
        {
          "output_type": "stream",
          "name": "stderr",
          "text": [
            "Epoch 6: 100%|██████████| 355/355 [04:58<00:00,  1.19batch/s, loss=-1.27e+6, lr=0.0517]\n",
            "Epoch 6: 100%|██████████| 63/63 [00:19<00:00,  3.16batch/s, loss=-1.43e+6]\n"
          ]
        },
        {
          "output_type": "stream",
          "name": "stdout",
          "text": [
            "best model saved\n"
          ]
        },
        {
          "output_type": "stream",
          "name": "stderr",
          "text": [
            "Epoch 7: 100%|██████████| 355/355 [04:58<00:00,  1.19batch/s, loss=-1.51e+6, lr=0.0465]\n",
            "Epoch 7: 100%|██████████| 63/63 [00:19<00:00,  3.17batch/s, loss=-1.62e+6]\n"
          ]
        },
        {
          "output_type": "stream",
          "name": "stdout",
          "text": [
            "best model saved\n"
          ]
        },
        {
          "output_type": "stream",
          "name": "stderr",
          "text": [
            "Epoch 8:  82%|████████▏ | 290/355 [04:03<00:54,  1.20batch/s, loss=-1.73e+6, lr=0.0418]"
          ]
        }
      ]
    },
    {
      "cell_type": "markdown",
      "source": [
        "## Evaluate Best Model"
      ],
      "metadata": {
        "id": "TthHCnrvt60U"
      }
    },
    {
      "cell_type": "code",
      "source": [
        "model.load_state_dict(torch.load(f\"{dirr}{[name for name in sorted(os.listdir(dirr)) if str(np.argmax(-np.array(losses['val_loss']))) in name][0]}\"))\n",
        "model.eval()"
      ],
      "metadata": {
        "colab": {
          "base_uri": "https://localhost:8080/",
          "height": 253
        },
        "id": "U5FDsiJ7IxQn",
        "outputId": "4190aeb2-cc12-4cd8-9169-223dfe38d9d2"
      },
      "execution_count": null,
      "outputs": [
        {
          "output_type": "error",
          "ename": "NameError",
          "evalue": "ignored",
          "traceback": [
            "\u001b[0;31m---------------------------------------------------------------------------\u001b[0m",
            "\u001b[0;31mNameError\u001b[0m                                 Traceback (most recent call last)",
            "\u001b[0;32m<ipython-input-29-489f4a4d37e1>\u001b[0m in \u001b[0;36m<module>\u001b[0;34m\u001b[0m\n\u001b[0;32m----> 1\u001b[0;31m \u001b[0mmodel\u001b[0m\u001b[0;34m.\u001b[0m\u001b[0mload_state_dict\u001b[0m\u001b[0;34m(\u001b[0m\u001b[0mtorch\u001b[0m\u001b[0;34m.\u001b[0m\u001b[0mload\u001b[0m\u001b[0;34m(\u001b[0m\u001b[0;34mf\"{dirr}{[name for name in sorted(os.listdir(dirr)) if str(np.argmax(-np.array(losses['val_loss']))) in name][0]}\"\u001b[0m\u001b[0;34m)\u001b[0m\u001b[0;34m)\u001b[0m\u001b[0;34m\u001b[0m\u001b[0;34m\u001b[0m\u001b[0m\n\u001b[0m\u001b[1;32m      2\u001b[0m \u001b[0mmodel\u001b[0m\u001b[0;34m.\u001b[0m\u001b[0meval\u001b[0m\u001b[0;34m(\u001b[0m\u001b[0;34m)\u001b[0m\u001b[0;34m\u001b[0m\u001b[0;34m\u001b[0m\u001b[0m\n",
            "\u001b[0;32m<ipython-input-29-489f4a4d37e1>\u001b[0m in \u001b[0;36m<listcomp>\u001b[0;34m(.0)\u001b[0m\n\u001b[0;32m----> 1\u001b[0;31m \u001b[0mmodel\u001b[0m\u001b[0;34m.\u001b[0m\u001b[0mload_state_dict\u001b[0m\u001b[0;34m(\u001b[0m\u001b[0mtorch\u001b[0m\u001b[0;34m.\u001b[0m\u001b[0mload\u001b[0m\u001b[0;34m(\u001b[0m\u001b[0;34mf\"{dirr}{[name for name in sorted(os.listdir(dirr)) if str(np.argmax(-np.array(losses['val_loss']))) in name][0]}\"\u001b[0m\u001b[0;34m)\u001b[0m\u001b[0;34m)\u001b[0m\u001b[0;34m\u001b[0m\u001b[0;34m\u001b[0m\u001b[0m\n\u001b[0m\u001b[1;32m      2\u001b[0m \u001b[0mmodel\u001b[0m\u001b[0;34m.\u001b[0m\u001b[0meval\u001b[0m\u001b[0;34m(\u001b[0m\u001b[0;34m)\u001b[0m\u001b[0;34m\u001b[0m\u001b[0;34m\u001b[0m\u001b[0m\n",
            "\u001b[0;31mNameError\u001b[0m: name 'losses' is not defined"
          ]
        }
      ]
    },
    {
      "cell_type": "code",
      "source": [
        "def graph_plot(history, typ=False):\n",
        "    if typ:\n",
        "        for i in history.keys():\n",
        "            print(f'{i} = [{min(history[i])}; {max(history[i])}]\\n')\n",
        "    \n",
        "    epoch = len(history['loss'])\n",
        "    # на каждую: (train, val) + lr\n",
        "    size = len(history.keys()) // 2 + 1\n",
        "\n",
        "    ncols = 4\n",
        "    nrows = int(np.ceil(size / ncols))\n",
        "\n",
        "    \n",
        "    fig = plt.figure(figsize=(27, 4))\n",
        "    i = 1\n",
        "    for k in list(history.keys()):\n",
        "        if 'val' not in k:\n",
        "            fig.add_subplot(nrows, ncols, i)\n",
        "            plt.plot(history[k], marker='o', markersize=5)\n",
        "            if k != 'lr':\n",
        "                plt.plot(history['val_' + k], marker='o', markersize=5)\n",
        "            plt.title(k, fontsize=10)\n",
        "\n",
        "            plt.ylabel(k)\n",
        "            plt.xlabel('epoch')\n",
        "            plt.grid()\n",
        "\n",
        "            plt.yticks(fontsize=10, rotation=30)\n",
        "            plt.xticks(fontsize=10, rotation=30)\n",
        "            plt.legend(['train', 'valid'], loc='upper left', fontsize=10, title_fontsize=15)\n",
        "            i += 1\n",
        "#         plt.show()\n",
        "\n",
        "graph_plot(losses)"
      ],
      "metadata": {
        "id": "29URezj4I0Mt"
      },
      "execution_count": null,
      "outputs": []
    },
    {
      "cell_type": "code",
      "source": [
        "def plot_result(model, loader, ax, shape):\n",
        "    images, target = next(iter(loader))\n",
        "    ind = np.random.choice(range(loader.batch_size))\n",
        "#     try:\n",
        "#         ind = random.choice([i for i in range(images.shape[0]) if np.max(target[i].permute(1, 2, 0).cpu().detach().numpy()) > 0])\n",
        "#     except IndexError:\n",
        "#         images, target = next(iter(loader))\n",
        "#         ind = random.choice([i for i in range(images.shape[0]) if np.max(target[i].permute(1, 2, 0).cpu().detach().numpy()) > 0])\n",
        "\n",
        "    pred = model(images[ind].view(1, 3, shape, shape).to(device)).cpu().detach()[0].permute(1, 2, 0).reshape(shape, shape)\n",
        "    loss = dice2(model(images[ind].view(1, 3, shape, shape).to(device)), target[ind].to(device))\n",
        "    \n",
        "    image = images[ind].permute(1, 2, 0)\n",
        "    target = target[ind].permute(1, 2, 0).reshape(shape, shape)\n",
        "    target = Image.fromarray(np.asarray(target * 255, dtype=np.uint8)).convert('RGB')\n",
        "    pred = Image.fromarray(np.asarray(pred * 255, dtype=np.uint8)).convert('RGB')\n",
        "    \n",
        "    target = np.asarray(target)\n",
        "    pred = np.asarray(pred)\n",
        "    \n",
        "    ax.imshow(np.hstack([image, target, pred]))\n",
        "    ax.set_title(f'Source / Target / Prediction ; loss = {round(float(loss), 3)}', fontsize=14)"
      ],
      "metadata": {
        "id": "Vx9tPb0bI2MU"
      },
      "execution_count": null,
      "outputs": []
    },
    {
      "cell_type": "code",
      "source": [
        "fig, axes = plt.subplots(nrows=6, ncols=4, figsize=(30, 20))\n",
        "\n",
        "for ax in axes.flatten():\n",
        "    plot_result(model=model, loader=test_loader, shape=shape, ax=ax)"
      ],
      "metadata": {
        "id": "AUvChhspI48F"
      },
      "execution_count": null,
      "outputs": []
    },
    {
      "cell_type": "code",
      "source": [
        "loss = 0\n",
        "\n",
        "for (images, targets) in test_loader:\n",
        "    images = images.to(device)\n",
        "    pred = model(images).cpu().detach()\n",
        "    \n",
        "    for i, (image, target) in enumerate(zip(images, targets)):\n",
        "        loss += dice2(pred[i], targets[i])"
      ],
      "metadata": {
        "id": "PWExqkS0I6bx"
      },
      "execution_count": null,
      "outputs": []
    },
    {
      "cell_type": "code",
      "source": [
        "loss"
      ],
      "metadata": {
        "id": "b_OCMkK1I9kV"
      },
      "execution_count": null,
      "outputs": []
    },
    {
      "cell_type": "code",
      "source": [
        "loss / X_test.shape[0]"
      ],
      "metadata": {
        "id": "nnrhBRh8I_uJ"
      },
      "execution_count": null,
      "outputs": []
    },
    {
      "cell_type": "markdown",
      "source": [
        "# Toy Tensor"
      ],
      "metadata": {
        "id": "duDXbhyyNO3j"
      }
    },
    {
      "cell_type": "code",
      "source": [
        "a = torch.rand(2,2,3,4)"
      ],
      "metadata": {
        "id": "v3ozcePANQVF"
      },
      "execution_count": null,
      "outputs": []
    },
    {
      "cell_type": "code",
      "source": [
        "a.transpose(-1,-2).shape"
      ],
      "metadata": {
        "colab": {
          "base_uri": "https://localhost:8080/"
        },
        "id": "8DtJuhM_NUZe",
        "outputId": "5f996d62-3df3-41b5-8ec4-769fef68d637"
      },
      "execution_count": null,
      "outputs": [
        {
          "output_type": "execute_result",
          "data": {
            "text/plain": [
              "torch.Size([5, 2, 4, 3])"
            ]
          },
          "metadata": {},
          "execution_count": 12
        }
      ]
    },
    {
      "cell_type": "code",
      "source": [
        "b = a.flatten(2) # flatten last two dimensions\n",
        "b.shape"
      ],
      "metadata": {
        "colab": {
          "base_uri": "https://localhost:8080/"
        },
        "id": "6GMtxVNoNWmu",
        "outputId": "4463142f-c94b-4753-eb01-abeb6832108e"
      },
      "execution_count": null,
      "outputs": [
        {
          "output_type": "execute_result",
          "data": {
            "text/plain": [
              "torch.Size([5, 2, 12])"
            ]
          },
          "metadata": {},
          "execution_count": 13
        }
      ]
    },
    {
      "cell_type": "code",
      "source": [
        "x = torch.rand(32,3,224,224,12,64)\n",
        "q = torch.rand()\n",
        "k = torch.rand()\n",
        "v = torch.rand()"
      ],
      "metadata": {
        "id": "_E9eeP75N6zI"
      },
      "execution_count": null,
      "outputs": []
    },
    {
      "cell_type": "code",
      "source": [
        "# 768/12 = 64\n"
      ],
      "metadata": {
        "id": "xWq6LkCik0iW"
      },
      "execution_count": null,
      "outputs": []
    },
    {
      "cell_type": "code",
      "source": [
        "x = torch.rand(3, 32, 32)\n",
        "x_n = x.size()[:-1] + (12, 64)\n",
        "x = x.view(*x_n)\n"
      ],
      "metadata": {
        "colab": {
          "base_uri": "https://localhost:8080/",
          "height": 201
        },
        "id": "rnwVSQAzmjuN",
        "outputId": "6ff58caf-fa42-4ad0-fcbb-9308d687e1b9"
      },
      "execution_count": null,
      "outputs": [
        {
          "output_type": "error",
          "ename": "RuntimeError",
          "evalue": "ignored",
          "traceback": [
            "\u001b[0;31m---------------------------------------------------------------------------\u001b[0m",
            "\u001b[0;31mRuntimeError\u001b[0m                              Traceback (most recent call last)",
            "\u001b[0;32m<ipython-input-5-a422a4ca8615>\u001b[0m in \u001b[0;36m<module>\u001b[0;34m\u001b[0m\n\u001b[1;32m      1\u001b[0m \u001b[0mx\u001b[0m \u001b[0;34m=\u001b[0m \u001b[0mtorch\u001b[0m\u001b[0;34m.\u001b[0m\u001b[0mrand\u001b[0m\u001b[0;34m(\u001b[0m\u001b[0;36m8\u001b[0m\u001b[0;34m,\u001b[0m\u001b[0;36m3\u001b[0m\u001b[0;34m,\u001b[0m \u001b[0;36m32\u001b[0m\u001b[0;34m,\u001b[0m \u001b[0;36m32\u001b[0m\u001b[0;34m)\u001b[0m\u001b[0;34m\u001b[0m\u001b[0;34m\u001b[0m\u001b[0m\n\u001b[1;32m      2\u001b[0m \u001b[0mx_n\u001b[0m \u001b[0;34m=\u001b[0m \u001b[0mx\u001b[0m\u001b[0;34m.\u001b[0m\u001b[0msize\u001b[0m\u001b[0;34m(\u001b[0m\u001b[0;34m)\u001b[0m\u001b[0;34m[\u001b[0m\u001b[0;34m:\u001b[0m\u001b[0;34m-\u001b[0m\u001b[0;36m1\u001b[0m\u001b[0;34m]\u001b[0m \u001b[0;34m+\u001b[0m \u001b[0;34m(\u001b[0m\u001b[0;36m12\u001b[0m\u001b[0;34m,\u001b[0m \u001b[0;36m64\u001b[0m\u001b[0;34m)\u001b[0m\u001b[0;34m\u001b[0m\u001b[0;34m\u001b[0m\u001b[0m\n\u001b[0;32m----> 3\u001b[0;31m \u001b[0mx\u001b[0m \u001b[0;34m=\u001b[0m \u001b[0mx\u001b[0m\u001b[0;34m.\u001b[0m\u001b[0mview\u001b[0m\u001b[0;34m(\u001b[0m\u001b[0;34m*\u001b[0m\u001b[0mx_n\u001b[0m\u001b[0;34m)\u001b[0m\u001b[0;34m\u001b[0m\u001b[0;34m\u001b[0m\u001b[0m\n\u001b[0m",
            "\u001b[0;31mRuntimeError\u001b[0m: shape '[8, 3, 32, 12, 64]' is invalid for input of size 24576"
          ]
        }
      ]
    },
    {
      "cell_type": "code",
      "source": [
        "rand_image_tensor = torch.randn(32, 3, 224, 224) # batch_size, color_channels, height, width\n",
        "rand_image_tensor.shape"
      ],
      "metadata": {
        "colab": {
          "base_uri": "https://localhost:8080/"
        },
        "id": "n755BpJHyFpJ",
        "outputId": "ceaa6213-e5ea-4359-a9cb-00ca47e2e6db"
      },
      "execution_count": null,
      "outputs": [
        {
          "output_type": "execute_result",
          "data": {
            "text/plain": [
              "torch.Size([32, 3, 224, 224])"
            ]
          },
          "metadata": {},
          "execution_count": 2
        }
      ]
    },
    {
      "cell_type": "code",
      "source": [
        "# 1. Create a class which subclasses nn.Module\n",
        "class PatchEmbedding(nn.Module):\n",
        "    \"\"\"Turns a 2D input image into a 1D sequence learnable embedding vector.\n",
        "    \n",
        "    Args:\n",
        "        in_channels (int): Number of color channels for the input images. Defaults to 3.\n",
        "        patch_size (int): Size of patches to convert input image into. Defaults to 16.\n",
        "        embedding_dim (int): Size of embedding to turn image into. Defaults to 768.\n",
        "    \"\"\" \n",
        "    # 2. Initialize the class with appropriate variables\n",
        "    def __init__(self, \n",
        "                 in_channels:int=3,\n",
        "                 patch_size:int=16,\n",
        "                 embedding_dim:int=768):\n",
        "        super().__init__()\n",
        "\n",
        "        self.patch_size = patch_size\n",
        "        \n",
        "        # 3. Create a layer to turn an image into patches\n",
        "        self.patcher = nn.Conv2d(in_channels=in_channels, \n",
        "                                 out_channels=embedding_dim,\n",
        "                                 kernel_size=patch_size,\n",
        "                                 stride=patch_size,\n",
        "                                 padding=0) \n",
        "        # 224/16 => 14\n",
        " \n",
        "        # 4. Create a layer to flatten the patch feature maps into a single dimension\n",
        "        self.flatten = nn.Flatten(start_dim=2, # only flatten the feature map dimensions into a single vector\n",
        "                                  end_dim=3)\n",
        "        # (32,768, 14, 14) => (32,768,196)\n",
        "\n",
        "    # 5. Define the forward method \n",
        "    def forward(self, x):\n",
        "        # Create assertion to check that inputs are the correct shape\n",
        "        image_resolution = x.shape[-1]\n",
        "        assert image_resolution % self.patch_size == 0, f\"Input image size must be divisble by patch size, image shape: {image_resolution}, patch size: {self.patch_size}\"\n",
        "        \n",
        "        # Perform the forward pass\n",
        "        x_patched = self.patcher(x)\n",
        "        print(x_patched.shape)\n",
        "        x_flattened = self.flatten(x_patched) \n",
        "        print(x_flattened.shape)\n",
        "        # 6. Make sure the output shape has the right order \n",
        "        return x_flattened.permute(0, 2, 1) # adjust so the embedding is on the final dimension [batch_size, P^2•C, N] -> [batch_size, num_patches, P^2•C] # 32, 196, 768"
      ],
      "metadata": {
        "id": "C1A-VlsPwjw-"
      },
      "execution_count": null,
      "outputs": []
    },
    {
      "cell_type": "code",
      "source": [
        "patch_embedding = PatchEmbedding(patch_size=16)\n",
        "patch_embedding_output = patch_embedding(rand_image_tensor)\n",
        "print(f\"Input shape: {rand_image_tensor.shape}\")\n",
        "print(f\"Output shape: {patch_embedding_output.shape} -> (batch_size, num_patches, embedding_dim)\")"
      ],
      "metadata": {
        "colab": {
          "base_uri": "https://localhost:8080/"
        },
        "id": "H7PYB-6FyQ89",
        "outputId": "2f523ac4-8af8-4daa-b0f7-4f965361d133"
      },
      "execution_count": null,
      "outputs": [
        {
          "output_type": "stream",
          "name": "stdout",
          "text": [
            "torch.Size([32, 768, 14, 14])\n",
            "torch.Size([32, 768, 196])\n",
            "Input shape: torch.Size([32, 3, 224, 224])\n",
            "Output shape: torch.Size([32, 196, 768]) -> (batch_size, num_patches, embedding_dim)\n"
          ]
        }
      ]
    },
    {
      "cell_type": "code",
      "source": [
        "# (32,196,768)\n",
        "class SelfAttention(nn.Module):\n",
        "    def __init__(self, num_heads, embed_dim, dropout):\n",
        "        super().__init__()\n",
        "        self.num_attention_heads = num_heads #12\n",
        "        self.attention_head_size = int(embed_dim / num_heads) # 64\n",
        "        self.all_head_size = self.num_attention_heads * self.attention_head_size # 768\n",
        "\n",
        "        self.query = nn.Linear(embed_dim, self.all_head_size)\n",
        "        self.key = nn.Linear(embed_dim, self.all_head_size)\n",
        "        self.value = nn.Linear(embed_dim, self.all_head_size) #768,768\n",
        "\n",
        "        self.out = nn.Linear(embed_dim, embed_dim) # 768,768\n",
        "        self.attn_dropout = nn.Dropout(dropout)\n",
        "        self.proj_dropout = nn.Dropout(dropout)\n",
        "\n",
        "        self.softmax = nn.Softmax(dim=-1)\n",
        "\n",
        "        self.vis = False\n",
        "\n",
        "    def transpose_for_scores(self, x):\n",
        "        new_x_shape = x.size()[:-1] + (self.num_attention_heads, self.attention_head_size) # 32,196,768 => 32,196,12,64\n",
        "        x = x.view(*new_x_shape) # 32,196,12,64\n",
        "        return x.permute(0, 2, 1, 3) # 32, 12, 196, 64\n",
        "\n",
        "    def forward(self, hidden_states):\n",
        "        mixed_query_layer = self.query(hidden_states) # 32, 196, 768 \n",
        "        mixed_key_layer = self.key(hidden_states) # 32, 196, 768 \n",
        "        mixed_value_layer = self.value(hidden_states) # 32, 196, 768 \n",
        "\n",
        "        query_layer = self.transpose_for_scores(mixed_query_layer) # 32, 12, 196, 64\n",
        "        key_layer = self.transpose_for_scores(mixed_key_layer) # 32, 12, 196, 64\n",
        "        value_layer = self.transpose_for_scores(mixed_value_layer) # 32, 12, 196, 64\n",
        "\n",
        "        attention_scores = torch.matmul(query_layer, key_layer.transpose(-1, -2)) # 32, 12, 196, 64 @  32, 12, 64, 196 => 32, 12, 196, 196\n",
        "        attention_scores = attention_scores / math.sqrt(self.attention_head_size) # scale down\n",
        "        attention_probs = self.softmax(attention_scores) # normalize\n",
        "        weights = attention_probs if self.vis else None # ?\n",
        "        attention_probs = self.attn_dropout(attention_probs) # dropout, necassary?\n",
        "\n",
        "        context_layer = torch.matmul(attention_probs, value_layer) # 32, 12, 196, 196\n",
        "        context_layer = context_layer.permute(0, 2, 1, 3).contiguous()\n",
        "        new_context_layer_shape = context_layer.size()[:-2] + (self.all_head_size,)\n",
        "        context_layer = context_layer.view(*new_context_layer_shape)\n",
        "        attention_output = self.out(context_layer)\n",
        "        attention_output = self.proj_dropout(attention_output)\n",
        "        return attention_output, weights\n"
      ],
      "metadata": {
        "id": "72zT8yXqk0m6"
      },
      "execution_count": null,
      "outputs": []
    },
    {
      "cell_type": "code",
      "source": [
        "x = torch.rand(32, 12, 196, 64)\n",
        "b = x.transpose(-1,-2)\n",
        "c = x@b\n",
        "print(x.shape)\n",
        "print(b.shape)\n",
        "print(c.shape)"
      ],
      "metadata": {
        "colab": {
          "base_uri": "https://localhost:8080/"
        },
        "id": "IrlQQXKvwzTG",
        "outputId": "353bddd1-1bbe-4bc8-dd90-2d3d3b60b837"
      },
      "execution_count": null,
      "outputs": [
        {
          "output_type": "stream",
          "name": "stdout",
          "text": [
            "torch.Size([32, 12, 196, 64])\n",
            "torch.Size([32, 12, 64, 196])\n",
            "torch.Size([32, 12, 196, 196])\n"
          ]
        }
      ]
    },
    {
      "cell_type": "code",
      "source": [
        "v = torch.rand(32,196,768)\n",
        "d = c@v\n",
        "d.shape"
      ],
      "metadata": {
        "colab": {
          "base_uri": "https://localhost:8080/",
          "height": 201
        },
        "id": "NpVzXYSI1-kk",
        "outputId": "feacb2da-9053-45c1-8be4-6d0b9f2e835a"
      },
      "execution_count": null,
      "outputs": [
        {
          "output_type": "error",
          "ename": "RuntimeError",
          "evalue": "ignored",
          "traceback": [
            "\u001b[0;31m---------------------------------------------------------------------------\u001b[0m",
            "\u001b[0;31mRuntimeError\u001b[0m                              Traceback (most recent call last)",
            "\u001b[0;32m<ipython-input-13-a00f0dc721cb>\u001b[0m in \u001b[0;36m<module>\u001b[0;34m\u001b[0m\n\u001b[1;32m      1\u001b[0m \u001b[0mv\u001b[0m \u001b[0;34m=\u001b[0m \u001b[0mtorch\u001b[0m\u001b[0;34m.\u001b[0m\u001b[0mrand\u001b[0m\u001b[0;34m(\u001b[0m\u001b[0;36m32\u001b[0m\u001b[0;34m,\u001b[0m\u001b[0;36m768\u001b[0m\u001b[0;34m,\u001b[0m\u001b[0;36m196\u001b[0m\u001b[0;34m)\u001b[0m\u001b[0;34m\u001b[0m\u001b[0;34m\u001b[0m\u001b[0m\n\u001b[0;32m----> 2\u001b[0;31m \u001b[0md\u001b[0m \u001b[0;34m=\u001b[0m \u001b[0mc\u001b[0m\u001b[0;34m@\u001b[0m\u001b[0mv\u001b[0m\u001b[0;34m\u001b[0m\u001b[0;34m\u001b[0m\u001b[0m\n\u001b[0m\u001b[1;32m      3\u001b[0m \u001b[0md\u001b[0m\u001b[0;34m.\u001b[0m\u001b[0mshape\u001b[0m\u001b[0;34m\u001b[0m\u001b[0;34m\u001b[0m\u001b[0m\n",
            "\u001b[0;31mRuntimeError\u001b[0m: The size of tensor a (12) must match the size of tensor b (32) at non-singleton dimension 1"
          ]
        }
      ]
    },
    {
      "cell_type": "markdown",
      "source": [
        "# UNET2D Test // Trash"
      ],
      "metadata": {
        "id": "e_bOVlt4z_om"
      }
    },
    {
      "cell_type": "code",
      "source": [
        "# If you are not working on Google Colab, please set the variable to False.\n",
        "\n",
        "colab = True\n",
        "\n",
        "if colab:\n",
        "  from google.colab import drive\n",
        "  drive.mount('/content/drive/')\n",
        "\n",
        "if colab:\n",
        "  import subprocess\n",
        "  from google.colab import files\n",
        "\n",
        "  bashCommand = \"pip install torch-summary dival\"\n",
        "  process = subprocess.Popen(bashCommand.split(), stdout=subprocess.PIPE)\n",
        "  output, error = process.communicate()\n",
        "\n",
        "import os\n",
        "import numpy as np\n",
        "import matplotlib.pyplot as plt\n",
        "import torch\n",
        "import torch.nn as nn\n",
        "import torchvision.transforms as transforms\n",
        "\n",
        "from tqdm import tqdm\n",
        "from torch.utils.data import Dataset, DataLoader\n",
        "from dival.measure import PSNR, SSIM\n",
        "from torchsummary import summary"
      ],
      "metadata": {
        "colab": {
          "base_uri": "https://localhost:8080/"
        },
        "id": "HouFLrPPz-7u",
        "outputId": "1e3558ae-31e3-4ad6-bf94-e2cc090a39bf"
      },
      "execution_count": null,
      "outputs": [
        {
          "output_type": "stream",
          "name": "stdout",
          "text": [
            "Mounted at /content/drive/\n"
          ]
        }
      ]
    },
    {
      "cell_type": "code",
      "source": [
        "if torch.cuda.is_available():\n",
        "    device = torch.device(\"cuda:0\")\n",
        "    print(\"Running on GPU\", torch.cuda.get_device_name(device))\n",
        "else:\n",
        "    device = torch.device(\"cpu\")\n",
        "    print(\"Running on CPU\")"
      ],
      "metadata": {
        "colab": {
          "base_uri": "https://localhost:8080/"
        },
        "id": "h52BnGIg0D7D",
        "outputId": "af34f757-921f-4731-83f1-dc84ab97e129"
      },
      "execution_count": null,
      "outputs": [
        {
          "output_type": "stream",
          "name": "stdout",
          "text": [
            "Running on GPU Tesla T4\n"
          ]
        }
      ]
    },
    {
      "cell_type": "code",
      "source": [
        "'''\n",
        "from torchvision import datasets\n",
        "train_data = datasets.FashionMNIST(\n",
        "    root='data',\n",
        "    train=True, \n",
        "    download=True,\n",
        "    transform=torchvision.transforms.ToTensor(),\n",
        "    target_transforms=None\n",
        ")\n",
        "\n",
        "test_data = datasets.FashionMNIST(\n",
        "    root='data',\n",
        "    train=False, \n",
        "    download=True,\n",
        "    transform=ToTensor(),\n",
        "    target_transforms=None\n",
        ")\n",
        "'''"
      ],
      "metadata": {
        "id": "sdwvnH3LJp2h"
      },
      "execution_count": null,
      "outputs": []
    },
    {
      "cell_type": "code",
      "source": [
        "'''\n",
        "# memory footprint support libraries/code\n",
        "!ln -sf /opt/bin/nvidia-smi /usr/bin/nvidia-smi\n",
        "!pip install gputil\n",
        "!pip install psutil\n",
        "!pip install humanize\n",
        "\n",
        "import psutil\n",
        "import humanize\n",
        "import os\n",
        "import GPUtil as GPU\n",
        "\n",
        "GPUs = GPU.getGPUs()\n",
        "# XXX: only one GPU on Colab and isn’t guaranteed\n",
        "gpu = GPUs[0]\n",
        "def printm():\n",
        "    process = psutil.Process(os.getpid())\n",
        "    print(\"Gen RAM Free: \" + humanize.naturalsize(psutil.virtual_memory().available), \" |     Proc size: \" + humanize.naturalsize(process.memory_info().rss))\n",
        "    print(\"GPU RAM Free: {0:.0f}MB | Used: {1:.0f}MB | Util {2:3.0f}% | Total     {3:.0f}MB\".format(gpu.memoryFree, gpu.memoryUsed, gpu.memoryUtil*100, gpu.memoryTotal))\n",
        "printm()\n",
        "'''"
      ],
      "metadata": {
        "id": "vGBSMNYqJs7u"
      },
      "execution_count": null,
      "outputs": []
    },
    {
      "cell_type": "code",
      "source": [
        "'''\n",
        "from going_modular.going_modular import engine\n",
        "\n",
        "# Train a pretrained ViT feature extractor\n",
        "optimizer = torch.optim.Adam(params=UNETR().parameters(),\n",
        "                             lr=1e-3)\n",
        "loss_fn = torch.nn.CrossEntropyLoss()\n",
        "\n",
        "set_seeds()\n",
        "model=UNETR()\n",
        "\n",
        "train_data = torch.utils.data.Dataloader(train_dataloader)\n",
        "test_data = torch.utils.data.Dataloader(test_dataloader)\n",
        "\n",
        "num_epochs = 10\n",
        "for epoch in range(num_epochs):\n",
        "    running_loss = 0.0\n",
        "    for i, data in enumerate(train_data, 0):\n",
        "        inputs, labels = data\n",
        "        optimizer.zero_grad()\n",
        "        outputs = model(inputs)\n",
        "        loss = loss_fn(outputs, labels)\n",
        "        loss.backward()\n",
        "        optimizer.step()\n",
        "        running_loss += loss.item()\n",
        "\n",
        "%%time\n",
        "# Building a training and testing loop\n",
        "torch.manual_seed(42) \n",
        "torch.cuda.manual_seed(42)\n",
        "\n",
        "epochs = 1000\n",
        "\n",
        "# Put data to target device\n",
        "X_train, y_train = X_train.to(device), y_train.to(device)\n",
        "X_test, y_test = X_test.to(device), y_test.to(device)\n",
        "\n",
        "# Building training and evaluation loop\n",
        "for epoch in range(epochs):\n",
        "  ### Training\n",
        "  model.train()\n",
        "\n",
        "  # Forward pass\n",
        "  y_logits = model(X_train).squeeze()\n",
        "  y_pred = torch.round(torch.sigmoid(y_logits)) # Turn logits -> pred probs -> pred labels\n",
        "\n",
        "  # Loss\n",
        "  loss = loss_fn(y_logits, y_train) # nn.BCEWithLogitsLoss expects raw logits as input\n",
        "\n",
        "  acc = accuracy_fn(y_true=y_train, y_pred=y_pred)\n",
        "\n",
        "  # optimzer zero grad\n",
        "  optimizer.zero_grad()\n",
        "\n",
        "  # backpropagation\n",
        "  loss.backward()\n",
        "\n",
        "  # optimizer step (gradient descent)\n",
        "  optimizer.step()\n",
        "\n",
        "  # Testing\n",
        "  model_0.eval()\n",
        "  with torch.inference_mode():\n",
        "    # Forward\n",
        "    test_logits = model_0(X_test).squeeze()\n",
        "    test_pred = torch.round(torch.sigmoid(test_logits))\n",
        "\n",
        "    # Test loss/acc\n",
        "    test_loss = loss_fn(test_logits, y_test)\n",
        "    test_acc = accuracy_fn(y_true=y_test, y_pred=test_pred)\n",
        "\n",
        "    if epoch % 10 == 0: \n",
        "      print(f'Epoch: {epoch} | Loss: {loss:.5f}, Acc: {acc:.2f}% | Test loss: {test_loss:.5f}, Test acc: {test_acc:.2f}%')\n",
        "'''"
      ],
      "metadata": {
        "id": "nA4OPh9MJvK1"
      },
      "execution_count": null,
      "outputs": []
    },
    {
      "cell_type": "code",
      "source": [
        "'''\n",
        "# Get 20% of the data\n",
        "data_20_percent_path = download_data(source=\"https://github.com/mrdbourke/pytorch-deep-learning/raw/main/data/pizza_steak_sushi_20_percent.zip\",\n",
        "                                     destination=\"pizza_steak_sushi_20_percent\")\n",
        "\n",
        "# Setup train and test directories\n",
        "train_dir_20_percent = data_20_percent_path / \"train\"\n",
        "# test_dir_20_percent = data_20_percent_path / \"test\" # don't need 20% test data as the model in 07. PyTorch Experiment Tracking section 7.3 tests on the 10% dataset not the 20%\n",
        "\n",
        "# Preprocess the data\n",
        "train_dataloader_20_percent, test_dataloader, class_names = data_setup.create_dataloaders(train_dir=train_dir_20_percent, \n",
        "                                                                                           test_dir=test_dir, # use 10% data for testing\n",
        "                                                                                          transform=torchvision.transforms.ToTensor(),\n",
        "                                                                                           batch_size=8)\n",
        "'''"
      ],
      "metadata": {
        "id": "rLOgb7kzJ2Du"
      },
      "execution_count": null,
      "outputs": []
    },
    {
      "cell_type": "markdown",
      "source": [
        "# Einsum"
      ],
      "metadata": {
        "id": "spMwbXMMUxA_"
      }
    },
    {
      "cell_type": "code",
      "source": [
        "a = torch.rand(5,8)\n",
        "b = torch.rand(2,8)"
      ],
      "metadata": {
        "id": "ukvkbA3_Ux4U"
      },
      "execution_count": null,
      "outputs": []
    },
    {
      "cell_type": "code",
      "source": [
        "c = torch.einsum('ij, kj -> ki',a, b)\n",
        "c.shape"
      ],
      "metadata": {
        "colab": {
          "base_uri": "https://localhost:8080/"
        },
        "id": "zME8uYXQVA64",
        "outputId": "db82849a-9b18-4024-bf50-23eba0751c8d"
      },
      "execution_count": null,
      "outputs": [
        {
          "output_type": "execute_result",
          "data": {
            "text/plain": [
              "torch.Size([2, 5])"
            ]
          },
          "metadata": {},
          "execution_count": 54
        }
      ]
    },
    {
      "cell_type": "code",
      "source": [
        "query_layer = torch.rand(32, 12, 196, 64)\n",
        "key_layer = torch.rand(32, 12, 196, 64) \n",
        "\n",
        "l = torch.matmul(query_layer, key_layer.transpose(-1, -2))\n",
        "l.shape"
      ],
      "metadata": {
        "colab": {
          "base_uri": "https://localhost:8080/"
        },
        "id": "_Wq9-V93VXnH",
        "outputId": "4d7d5dc0-b754-4324-bf84-80c4b376f33b"
      },
      "execution_count": null,
      "outputs": [
        {
          "output_type": "execute_result",
          "data": {
            "text/plain": [
              "torch.Size([32, 12, 196, 196])"
            ]
          },
          "metadata": {},
          "execution_count": 64
        }
      ]
    },
    {
      "cell_type": "code",
      "source": [
        "mixed_query_layer = self.query(hidden_states) # 32, 196, 768 \n",
        "#print(f'mixed_query_layer: {mixed_query_layer.shape}')\n",
        "mixed_key_layer = self.key(hidden_states) # 32, 196, 768 \n",
        "mixed_value_layer = self.value(hidden_states) # 32, 196, 768 \n",
        "\n",
        "query_layer = self.transpose_for_scores(mixed_query_layer) # 32, 12, 196, 64\n",
        "key_layer = self.transpose_for_scores(mixed_key_layer) # 32, 12, 196, 64\n",
        "value_layer = self.transpose_for_scores(mixed_value_layer) # 32, 12, 196, 64\n",
        "\n",
        "attention_scores = torch.matmul(query_layer, key_layer.transpose(-1, -2)) # 32, 12, 196, 64 @  32, 12, 64, 196 => 32, 12, 196, 196\n",
        "#print(f'attention_scores: {attention_scores.shape}') # 1, 12, 196, 196"
      ],
      "metadata": {
        "id": "iQ771wZGWoVT"
      },
      "execution_count": null,
      "outputs": []
    },
    {
      "cell_type": "code",
      "source": [
        "import matplotlib.pyplot as plt\n",
        "\n",
        "x = torch.rand(3,2).t()\n",
        "y = torch.rand(2,3).t()\n",
        "c = torch.mm(x,y)\n",
        "\n",
        "plt.figure(figsize=(8,8))\n",
        "\n",
        "print(plt.imshow(x, cmap='Blues'))\n",
        "plt.axis(False);"
      ],
      "metadata": {
        "colab": {
          "base_uri": "https://localhost:8080/",
          "height": 345
        },
        "id": "zA3Mlg7tIu39",
        "outputId": "643a3fc4-a3a4-4a7e-ff38-d4abc264b930"
      },
      "execution_count": null,
      "outputs": [
        {
          "output_type": "stream",
          "name": "stdout",
          "text": [
            "AxesImage(72,72;446.4x434.88)\n"
          ]
        },
        {
          "output_type": "display_data",
          "data": {
            "text/plain": [
              "<Figure size 576x576 with 1 Axes>"
            ],
            "image/png": "[encoded data removed]"
          },
          "metadata": {
            "needs_background": "light"
          }
        }
      ]
    },
    {
      "cell_type": "code",
      "source": [
        "plt.figure(figsize=(8,8))\n",
        "plt.imshow(y, cmap='Blues')\n",
        "plt.axis(False);"
      ],
      "metadata": {
        "colab": {
          "base_uri": "https://localhost:8080/",
          "height": 466
        },
        "id": "Ix4gmf3lJ4pY",
        "outputId": "522f4054-5332-4b43-90bb-fda44f796807"
      },
      "execution_count": null,
      "outputs": [
        {
          "output_type": "display_data",
          "data": {
            "text/plain": [
              "<Figure size 576x576 with 1 Axes>"
            ],
            "image/png": "[encoded data removed]"
          },
          "metadata": {
            "needs_background": "light"
          }
        }
      ]
    },
    {
      "cell_type": "code",
      "source": [
        "plt.figure(figsize=(8,8))\n",
        "plt.imshow(c, cmap='Blues')\n",
        "plt.axis(False);"
      ],
      "metadata": {
        "colab": {
          "base_uri": "https://localhost:8080/",
          "height": 466
        },
        "id": "T7YWQCALKTvU",
        "outputId": "2d294bac-adb8-4160-cd1b-b1ad9a24eee2"
      },
      "execution_count": null,
      "outputs": [
        {
          "output_type": "display_data",
          "data": {
            "text/plain": [
              "<Figure size 576x576 with 1 Axes>"
            ],
            "image/png": "[encoded data removed]"
          },
          "metadata": {
            "needs_background": "light"
          }
        }
      ]
    },
    {
      "cell_type": "code",
      "source": [],
      "metadata": {
        "id": "NxvcylOfKUmC"
      },
      "execution_count": null,
      "outputs": []
    },
    {
      "cell_type": "markdown",
      "source": [
        "# Transfer Learning"
      ],
      "metadata": {
        "id": "t1ys1akKufja"
      }
    },
    {
      "cell_type": "code",
      "source": [
        "# Try to import the going_modular directory, download it from GitHub if it doesn't work\n",
        "try:\n",
        "    from going_modular.going_modular import data_setup, engine\n",
        "    from helper_functions import download_data, set_seeds, plot_loss_curves\n",
        "except:\n",
        "    # Get the going_modular scripts\n",
        "    print(\"[INFO] Couldn't find going_modular or helper_functions scripts... downloading them from GitHub.\")\n",
        "    !git clone https://github.com/mrdbourke/pytorch-deep-learning\n",
        "    !mv pytorch-deep-learning/going_modular .\n",
        "    !mv pytorch-deep-learning/helper_functions.py . # get the helper_functions.py script\n",
        "    !rm -rf pytorch-deep-learning\n",
        "    from going_modular.going_modular import data_setup, engine\n",
        "    from helper_functions import download_data, set_seeds, plot_loss_curves"
      ],
      "metadata": {
        "colab": {
          "base_uri": "https://localhost:8080/"
        },
        "id": "vOyO5Bu0vM8g",
        "outputId": "037958b6-cc3b-45d0-8dd5-2a02cf32505b"
      },
      "execution_count": null,
      "outputs": [
        {
          "output_type": "stream",
          "name": "stdout",
          "text": [
            "[INFO] Couldn't find going_modular or helper_functions scripts... downloading them from GitHub.\n",
            "Cloning into 'pytorch-deep-learning'...\n",
            "remote: Enumerating objects: 3435, done.\u001b[K\n",
            "remote: Total 3435 (delta 0), reused 0 (delta 0), pack-reused 3435\u001b[K\n",
            "Receiving objects: 100% (3435/3435), 641.56 MiB | 41.45 MiB/s, done.\n",
            "Resolving deltas: 100% (1975/1975), done.\n",
            "Updating files: 100% (222/222), done.\n"
          ]
        }
      ]
    },
    {
      "cell_type": "code",
      "source": [
        "import torchvision"
      ],
      "metadata": {
        "id": "-CQAVV2Wuep3"
      },
      "execution_count": null,
      "outputs": []
    },
    {
      "cell_type": "code",
      "source": [
        "set_seeds()"
      ],
      "metadata": {
        "id": "HanfZ15vvEl5"
      },
      "execution_count": null,
      "outputs": []
    },
    {
      "cell_type": "code",
      "source": [
        "# Create ViT feature extractor model\n",
        "import torchvision\n",
        "\n",
        "# Download pretrained ViT weights and model\n",
        "vit_weights = torchvision.models.ViT_B_16_Weights.DEFAULT # \"DEFAULT\" means best available\n",
        "pretrained_vit = torchvision.models.vit_b_16(weights=vit_weights)\n",
        "\n",
        "# Freeze all layers in pretrained ViT model \n",
        "for param in pretrained_vit.parameters():\n",
        "  param.requires_grad = False\n",
        "\n",
        "# Update the preatrained ViT head \n",
        "embedding_dim = 768 # ViT_Base\n",
        "set_seeds()\n",
        "pretrained_vit.heads = nn.Sequential(\n",
        "    nn.LayerNorm(normalized_shape=embedding_dim),\n",
        "    nn.Linear(in_features=embedding_dim, \n",
        "              out_features=len(class_names))\n",
        ")\n",
        "\n",
        "# Print a summary\n",
        "summary(model=pretrained_vit, \n",
        "        input_size=(1, 3, 224, 224), # (batch_size, color_channels, height, width)\n",
        "        # col_names=[\"input_size\"], # uncomment for smaller output\n",
        "        col_names=[\"input_size\", \"output_size\", \"num_params\", \"trainable\"],\n",
        "        col_width=20,\n",
        "        row_settings=[\"var_names\"]\n",
        ")"
      ],
      "metadata": {
        "id": "6c7ONufyuqJJ"
      },
      "execution_count": null,
      "outputs": []
    },
    {
      "cell_type": "code",
      "source": [
        "# Train a pretrained ViT feature extractor\n",
        "from going_modular.going_modular import engine\n",
        "\n",
        "optimizer = torch.optim.Adam(params=pretrained_vit.parameters(),\n",
        "                             lr=1e-3)\n",
        "loss_fn = torch.nn.CrossEntropyLoss()\n",
        "\n",
        "set_seeds()\n",
        "pretrained_vit_results = engine.train(model=pretrained_vit,\n",
        "                                      train_dataloader=train_loader,\n",
        "                                      test_dataloader=valid_loader,\n",
        "                                      optimizer=optimizer,\n",
        "                                      loss_fn=loss_fn,\n",
        "                                      epochs=10,\n",
        "                                      device=device)"
      ],
      "metadata": {
        "id": "hsCwR1Jyur4U"
      },
      "execution_count": null,
      "outputs": []
    }
  ]
}