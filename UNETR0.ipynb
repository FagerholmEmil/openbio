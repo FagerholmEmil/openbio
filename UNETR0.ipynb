{
  "nbformat": 4,
  "nbformat_minor": 0,
  "metadata": {
    "colab": {
      "provenance": [],
      "collapsed_sections": [
        "JO1wPMf-3Gdz",
        "iy3nIUS8PdPB",
        "duDXbhyyNO3j",
        "eZNq-wFE33Ow",
        "e_bOVlt4z_om"
      ],
      "authorship_tag": "ABX9TyOV0bYhxu105hzc1DvR91d7",
      "include_colab_link": true
    },
    "kernelspec": {
      "name": "python3",
      "display_name": "Python 3"
    },
    "language_info": {
      "name": "python"
    },
    "gpuClass": "standard",
    "accelerator": "GPU"
  },
  "cells": [
    {
      "cell_type": "markdown",
      "metadata": {
        "id": "view-in-github",
        "colab_type": "text"
      },
      "source": [
        "<a href=\"https://colab.research.google.com/github/FagerholmEmil/openbio/blob/main/UNETR0.ipynb\" target=\"_parent\"><img src=\"https://colab.research.google.com/assets/colab-badge.svg\" alt=\"Open In Colab\"/></a>"
      ]
    },
    {
      "cell_type": "code",
      "execution_count": 35,
      "metadata": {
        "id": "PXe7jRdoVsUh",
        "colab": {
          "base_uri": "https://localhost:8080/"
        },
        "outputId": "7d0c7594-8d1e-4864-b1be-6ba8889b8c4a"
      },
      "outputs": [
        {
          "output_type": "stream",
          "name": "stdout",
          "text": [
            "[INFO] Couldn't find torchinfo... installing it.\n"
          ]
        }
      ],
      "source": [
        "import torch \n",
        "import torch.nn as nn\n",
        "from torch.nn import functional as F\n",
        "import copy\n",
        "import math\n",
        "\n",
        "try:\n",
        "    from torchinfo import summary\n",
        "except:\n",
        "    print(\"[INFO] Couldn't find torchinfo... installing it.\")\n",
        "    !pip install -q torchinfo\n",
        "    from torchinfo import summary"
      ]
    },
    {
      "cell_type": "markdown",
      "source": [
        "# Load Data"
      ],
      "metadata": {
        "id": "JO1wPMf-3Gdz"
      }
    },
    {
      "cell_type": "code",
      "source": [
        "# For this notebook to run with updated APIs, we need torch 1.12+ and torchvision 0.13+\n",
        "try:\n",
        "    import torch\n",
        "    import torchvision\n",
        "    assert int(torch.__version__.split(\".\")[1]) >= 12, \"torch version should be 1.12+\"\n",
        "    assert int(torchvision.__version__.split(\".\")[1]) >= 13, \"torchvision version should be 0.13+\"\n",
        "    print(f\"torch version: {torch.__version__}\")\n",
        "    print(f\"torchvision version: {torchvision.__version__}\")\n",
        "except:\n",
        "    print(f\"[INFO] torch/torchvision versions not as required, installing nightly versions.\")\n",
        "    !pip3 install -U torch torchvision torchaudio --extra-index-url https://download.pytorch.org/whl/cu113\n",
        "    import torch\n",
        "    import torchvision\n",
        "    print(f\"torch version: {torch.__version__}\")\n",
        "    print(f\"torchvision version: {torchvision.__version__}\")"
      ],
      "metadata": {
        "colab": {
          "base_uri": "https://localhost:8080/"
        },
        "id": "66cgaUp73NCp",
        "outputId": "046d35b7-b36b-4882-b5e3-925c6f5fbbf5"
      },
      "execution_count": 14,
      "outputs": [
        {
          "output_type": "stream",
          "name": "stdout",
          "text": [
            "torch version: 1.13.1+cu116\n",
            "torchvision version: 0.14.1+cu116\n"
          ]
        }
      ]
    },
    {
      "cell_type": "code",
      "source": [
        "# Continue with regular imports\n",
        "import matplotlib.pyplot as plt\n",
        "import torch\n",
        "import torchvision\n",
        "\n",
        "from torch import nn\n",
        "from torchvision import transforms\n",
        "from torchvision import datasets\n",
        "from torchvision.transforms import ToTensor\n",
        "\n",
        "# Try to get torchinfo, install it if it doesn't work\n",
        "try:\n",
        "    from torchinfo import summary\n",
        "except:\n",
        "    print(\"[INFO] Couldn't find torchinfo... installing it.\")\n",
        "    !pip install -q torchinfo\n",
        "    from torchinfo import summary\n",
        "\n",
        "# Try to import the going_modular directory, download it from GitHub if it doesn't work\n",
        "try:\n",
        "    from going_modular.going_modular import data_setup, engine\n",
        "    from helper_functions import download_data, set_seeds, plot_loss_curves\n",
        "except:\n",
        "    # Get the going_modular scripts\n",
        "    print(\"[INFO] Couldn't find going_modular or helper_functions scripts... downloading them from GitHub.\")\n",
        "    !git clone https://github.com/mrdbourke/pytorch-deep-learning\n",
        "    !mv pytorch-deep-learning/going_modular .\n",
        "    !mv pytorch-deep-learning/helper_functions.py . # get the helper_functions.py script\n",
        "    !rm -rf pytorch-deep-learning\n",
        "    from going_modular.going_modular import data_setup, engine\n",
        "    from helper_functions import download_data, set_seeds, plot_loss_curves"
      ],
      "metadata": {
        "colab": {
          "base_uri": "https://localhost:8080/",
          "height": 582
        },
        "id": "UrA_ZEp53NY3",
        "outputId": "ddc57796-3676-4f56-d0bc-29c3a0379866"
      },
      "execution_count": 15,
      "outputs": [
        {
          "output_type": "stream",
          "name": "stdout",
          "text": [
            "[INFO] Couldn't find torchinfo... installing it.\n",
            "\u001b[31mERROR: Operation cancelled by user\u001b[0m\u001b[31m\n",
            "\u001b[0m"
          ]
        },
        {
          "output_type": "error",
          "ename": "ModuleNotFoundError",
          "evalue": "ignored",
          "traceback": [
            "\u001b[0;31m---------------------------------------------------------------------------\u001b[0m",
            "\u001b[0;31mModuleNotFoundError\u001b[0m                       Traceback (most recent call last)",
            "\u001b[0;32m<ipython-input-15-7710d94ef704>\u001b[0m in \u001b[0;36m<module>\u001b[0;34m\u001b[0m\n\u001b[1;32m     12\u001b[0m \u001b[0;32mtry\u001b[0m\u001b[0;34m:\u001b[0m\u001b[0;34m\u001b[0m\u001b[0;34m\u001b[0m\u001b[0m\n\u001b[0;32m---> 13\u001b[0;31m     \u001b[0;32mfrom\u001b[0m \u001b[0mtorchinfo\u001b[0m \u001b[0;32mimport\u001b[0m \u001b[0msummary\u001b[0m\u001b[0;34m\u001b[0m\u001b[0;34m\u001b[0m\u001b[0m\n\u001b[0m\u001b[1;32m     14\u001b[0m \u001b[0;32mexcept\u001b[0m\u001b[0;34m:\u001b[0m\u001b[0;34m\u001b[0m\u001b[0;34m\u001b[0m\u001b[0m\n",
            "\u001b[0;31mModuleNotFoundError\u001b[0m: No module named 'torchinfo'",
            "\nDuring handling of the above exception, another exception occurred:\n",
            "\u001b[0;31mModuleNotFoundError\u001b[0m                       Traceback (most recent call last)",
            "\u001b[0;32m<ipython-input-15-7710d94ef704>\u001b[0m in \u001b[0;36m<module>\u001b[0;34m\u001b[0m\n\u001b[1;32m     15\u001b[0m     \u001b[0mprint\u001b[0m\u001b[0;34m(\u001b[0m\u001b[0;34m\"[INFO] Couldn't find torchinfo... installing it.\"\u001b[0m\u001b[0;34m)\u001b[0m\u001b[0;34m\u001b[0m\u001b[0;34m\u001b[0m\u001b[0m\n\u001b[1;32m     16\u001b[0m     \u001b[0mget_ipython\u001b[0m\u001b[0;34m(\u001b[0m\u001b[0;34m)\u001b[0m\u001b[0;34m.\u001b[0m\u001b[0msystem\u001b[0m\u001b[0;34m(\u001b[0m\u001b[0;34m'pip install -q torchinfo'\u001b[0m\u001b[0;34m)\u001b[0m\u001b[0;34m\u001b[0m\u001b[0;34m\u001b[0m\u001b[0m\n\u001b[0;32m---> 17\u001b[0;31m     \u001b[0;32mfrom\u001b[0m \u001b[0mtorchinfo\u001b[0m \u001b[0;32mimport\u001b[0m \u001b[0msummary\u001b[0m\u001b[0;34m\u001b[0m\u001b[0;34m\u001b[0m\u001b[0m\n\u001b[0m\u001b[1;32m     18\u001b[0m \u001b[0;34m\u001b[0m\u001b[0m\n\u001b[1;32m     19\u001b[0m \u001b[0;31m# Try to import the going_modular directory, download it from GitHub if it doesn't work\u001b[0m\u001b[0;34m\u001b[0m\u001b[0;34m\u001b[0m\u001b[0;34m\u001b[0m\u001b[0m\n",
            "\u001b[0;31mModuleNotFoundError\u001b[0m: No module named 'torchinfo'",
            "",
            "\u001b[0;31m---------------------------------------------------------------------------\u001b[0;32m\nNOTE: If your import is failing due to a missing package, you can\nmanually install dependencies using either !pip or !apt.\n\nTo view examples of installing some common dependencies, click the\n\"Open Examples\" button below.\n\u001b[0;31m---------------------------------------------------------------------------\u001b[0m\n"
          ],
          "errorDetails": {
            "actions": [
              {
                "action": "open_url",
                "actionText": "Open Examples",
                "url": "/notebooks/snippets/importing_libraries.ipynb"
              }
            ]
          }
        }
      ]
    },
    {
      "cell_type": "code",
      "source": [
        "device = \"cuda\" if torch.cuda.is_available() else \"cpu\"\n",
        "device"
      ],
      "metadata": {
        "id": "paAe3nz13QrQ"
      },
      "execution_count": null,
      "outputs": []
    },
    {
      "cell_type": "code",
      "source": [
        "# Download pizza, steak, sushi images from GitHub\n",
        "image_path = download_data(source=\"https://github.com/mrdbourke/pytorch-deep-learning/raw/main/data/pizza_steak_sushi.zip\",\n",
        "                           destination=\"pizza_steak_sushi\")\n",
        "image_path"
      ],
      "metadata": {
        "id": "BKURwbHt3H5s"
      },
      "execution_count": null,
      "outputs": []
    },
    {
      "cell_type": "code",
      "source": [
        "# Setup directory paths to train and test images\n",
        "train_dir = image_path / \"train\"\n",
        "test_dir = image_path / \"test\""
      ],
      "metadata": {
        "id": "dm04uE_M3JxJ"
      },
      "execution_count": null,
      "outputs": []
    },
    {
      "cell_type": "code",
      "source": [
        "# Create image size (from Table 3 in the ViT paper) \n",
        "IMG_SIZE = 224\n",
        "\n",
        "# Create transform pipeline manually\n",
        "manual_transforms = transforms.Compose([\n",
        "    transforms.Resize((IMG_SIZE, IMG_SIZE)),\n",
        "    transforms.ToTensor(),\n",
        "])           \n",
        "print(f\"Manually created transforms: {manual_transforms}\")"
      ],
      "metadata": {
        "id": "BjcnSbEp3Su5"
      },
      "execution_count": null,
      "outputs": []
    },
    {
      "cell_type": "code",
      "source": [
        "# Set the batch size\n",
        "BATCH_SIZE = 4 # this is lower than the ViT paper but it's because we're starting small\n",
        "\n",
        "# Create data loaders\n",
        "train_dataloader, test_dataloader, class_names = data_setup.create_dataloaders(\n",
        "    train_dir=train_dir,\n",
        "    test_dir=test_dir,\n",
        "    transform=manual_transforms, # use manually created transforms\n",
        "    batch_size=BATCH_SIZE\n",
        ")\n",
        "\n",
        "train_dataloader, test_dataloader, class_names"
      ],
      "metadata": {
        "id": "QFcmYLsy3U3b"
      },
      "execution_count": null,
      "outputs": []
    },
    {
      "cell_type": "code",
      "source": [
        "# Get a batch of images\n",
        "image_batch, label_batch = next(iter(train_dataloader))\n",
        "\n",
        "# Get a single image from the batch\n",
        "image, label = image_batch[0], label_batch[0]\n",
        "\n",
        "# View the batch shapes\n",
        "image.shape, label"
      ],
      "metadata": {
        "id": "GRSoYGuF3Whn"
      },
      "execution_count": null,
      "outputs": []
    },
    {
      "cell_type": "code",
      "source": [
        "# Plot image with matplotlib\n",
        "plt.imshow(image.permute(1, 2, 0)) # rearrange image dimensions to suit matplotlib [color_channels, height, width] -> [height, width, color_channels]\n",
        "plt.title(class_names[label])\n",
        "plt.axis(False);"
      ],
      "metadata": {
        "id": "pXM1lCTh3YpQ"
      },
      "execution_count": null,
      "outputs": []
    },
    {
      "cell_type": "markdown",
      "source": [
        "# Transformer (Encoder)"
      ],
      "metadata": {
        "id": "SC06DnCnZBXG"
      }
    },
    {
      "cell_type": "markdown",
      "source": [
        "Turn data into patches with convolutional layers with stride=patch and kernel=patch \\\n",
        "PyTorch uses the order `(batch_size, channels, height, width)` \n",
        "\n",
        "\n",
        "\n"
      ],
      "metadata": {
        "id": "acFkx9kNaH5H"
      }
    },
    {
      "cell_type": "code",
      "source": [
        "class Embeddings(nn.Module):\n",
        "    # Initialize the class with appropriate variables\n",
        "    def __init__(self,\n",
        "                 input_dim=3, \n",
        "                 embed_dim=768,\n",
        "                 image_size=(224,224),\n",
        "                 patch_size=16,\n",
        "                 dropout=0.2\n",
        "                 ):\n",
        "        super().__init__()\n",
        "        self.n_patches = int((image_size[0] * image_size[1]) / (patch_size * patch_size)) # 196\n",
        "        self.patch_size = patch_size # 16\n",
        "        self.embed_dim = embed_dim # 768\n",
        "        #  Create a layer to turn an image into patches\n",
        "        self.patch_embeddings = nn.Conv2d(in_channels=input_dim, # 3\n",
        "                                          out_channels=embed_dim, # 768\n",
        "                                          kernel_size=patch_size, # 16\n",
        "                                          stride=patch_size) # 16\n",
        "        self.position_embeddings = nn.Parameter(torch.randn(1, self.n_patches, embed_dim)) # 1, 196, 768 || could alse be torch.zeros || n_patches+1\n",
        "        self.dropout = nn.Dropout(dropout) \n",
        "        \n",
        "    def forward(self, x):\n",
        "        image_resolution = x.shape[-1]\n",
        "        assert image_resolution % self.patch_size == 0, f\"Input image size must be divisble by patch size, image shape: {image_resolution}, patch size: {self.patch_size}\"\n",
        "        x = self.patch_embeddings(x) # (32,768,14,14)\n",
        "        x = x.flatten(2) # Flatten last two dimensions (32,768,196)\n",
        "        x = x.transpose(-1, -2) # change order of the last and the penultimate dimension (32,196,768)\n",
        "        embeddings = x + self.position_embeddings # sum over the columns dim=1\n",
        "        embeddings = self.dropout(embeddings)\n",
        "        return embeddings # (32,196,768)"
      ],
      "metadata": {
        "id": "jqS4poIrk6eh"
      },
      "execution_count": 16,
      "outputs": []
    },
    {
      "cell_type": "code",
      "source": [
        "class SelfAttention(nn.Module):\n",
        "    def __init__(self, num_heads, embed_dim, dropout):\n",
        "        super().__init__()\n",
        "        self.num_attention_heads = num_heads\n",
        "        self.attention_head_size = int(embed_dim / num_heads)\n",
        "        self.all_head_size = self.num_attention_heads * self.attention_head_size\n",
        "\n",
        "        self.query = nn.Linear(embed_dim, self.all_head_size)\n",
        "        self.key = nn.Linear(embed_dim, self.all_head_size)\n",
        "        self.value = nn.Linear(embed_dim, self.all_head_size)\n",
        "\n",
        "        self.out = nn.Linear(embed_dim, embed_dim)\n",
        "        self.attn_dropout = nn.Dropout(dropout)\n",
        "        self.proj_dropout = nn.Dropout(dropout)\n",
        "\n",
        "        self.softmax = nn.Softmax(dim=-1)\n",
        "\n",
        "        self.vis = False\n",
        "\n",
        "    def transpose_for_scores(self, x):\n",
        "        new_x_shape = x.size()[:-1] + (self.num_attention_heads, self.attention_head_size)\n",
        "        x = x.view(*new_x_shape)\n",
        "        return x.permute(0, 2, 1, 3)\n",
        "\n",
        "    def forward(self, hidden_states):\n",
        "        mixed_query_layer = self.query(hidden_states)\n",
        "        mixed_key_layer = self.key(hidden_states)\n",
        "        mixed_value_layer = self.value(hidden_states)\n",
        "\n",
        "        query_layer = self.transpose_for_scores(mixed_query_layer)\n",
        "        key_layer = self.transpose_for_scores(mixed_key_layer)\n",
        "        value_layer = self.transpose_for_scores(mixed_value_layer)\n",
        "\n",
        "        attention_scores = torch.matmul(query_layer, key_layer.transpose(-1, -2))\n",
        "        attention_scores = attention_scores / math.sqrt(self.attention_head_size)\n",
        "        attention_probs = self.softmax(attention_scores)\n",
        "        weights = attention_probs if self.vis else None\n",
        "        attention_probs = self.attn_dropout(attention_probs)\n",
        "\n",
        "        context_layer = torch.matmul(attention_probs, value_layer)\n",
        "        context_layer = context_layer.permute(0, 2, 1, 3).contiguous()\n",
        "        new_context_layer_shape = context_layer.size()[:-2] + (self.all_head_size,)\n",
        "        context_layer = context_layer.view(*new_context_layer_shape)\n",
        "        attention_output = self.out(context_layer)\n",
        "        attention_output = self.proj_dropout(attention_output)\n",
        "        return attention_output, weights\n"
      ],
      "metadata": {
        "id": "aQTG-bqyZDzt"
      },
      "execution_count": 17,
      "outputs": []
    },
    {
      "cell_type": "code",
      "source": [
        "class Mlp(nn.Module):\n",
        "    def __init__(self, in_features, act_layer=nn.GELU, drop=0.):\n",
        "        super().__init__()\n",
        "        self.fc1 = nn.Linear(in_features, in_features)\n",
        "        self.act = act_layer()\n",
        "        self.drop = nn.Dropout(drop)\n",
        "\n",
        "    def forward(self, x):\n",
        "        x = self.fc1()\n",
        "        x = self.act(x)\n",
        "        x = self.drop(x)\n",
        "        return x"
      ],
      "metadata": {
        "id": "78jVpO4yd7nw"
      },
      "execution_count": 18,
      "outputs": []
    },
    {
      "cell_type": "code",
      "source": [
        "class PositionwiseFeedForward(nn.Module):\n",
        "    def __init__(self, d_model=786, d_ff=2048, dropout=0.1):\n",
        "        super().__init__()\n",
        "        # Torch linears have a `b` by default.\n",
        "        self.w_1 = nn.Linear(d_model, d_ff)\n",
        "        self.w_2 = nn.Linear(d_ff, d_model)\n",
        "        self.dropout = nn.Dropout(dropout)\n",
        "\n",
        "    def forward(self, x):\n",
        "        return self.w_2(self.dropout(F.relu(self.w_1(x)))) # gelu"
      ],
      "metadata": {
        "id": "DldtKbkdZY2t"
      },
      "execution_count": 19,
      "outputs": []
    },
    {
      "cell_type": "code",
      "source": [
        "class TransformerBlock(nn.Module):\n",
        "    def __init__(self, embed_dim, num_heads, dropout, image_size, patch_size):\n",
        "        super().__init__()\n",
        "        self.attention_norm = nn.LayerNorm(embed_dim, eps=1e-6)\n",
        "        self.mlp_norm = nn.LayerNorm(embed_dim, eps=1e-6)\n",
        "        self.mlp_dim = int((image_size[0] * image_size[1]) / (patch_size * patch_size))\n",
        "        self.mlp = PositionwiseFeedForward(embed_dim, 2048)\n",
        "        self.attn = SelfAttention(num_heads, embed_dim, dropout)\n",
        "\n",
        "    def forward(self, x):\n",
        "        h = x\n",
        "        x = self.attention_norm(x)\n",
        "        x, weights = self.attn(x)\n",
        "        x = x + h\n",
        "        h = x\n",
        "\n",
        "        x = self.mlp_norm(x)\n",
        "        x = self.mlp(x)\n",
        "\n",
        "        x = x + h\n",
        "        return x, weights"
      ],
      "metadata": {
        "id": "eHnxqHBFYxId"
      },
      "execution_count": 20,
      "outputs": []
    },
    {
      "cell_type": "code",
      "source": [
        "class Transformer(nn.Module):\n",
        "    def __init__(self, input_dim, embed_dim, image_size, patch_size, num_heads, num_layers, dropout, extract_layers):\n",
        "        super().__init__()\n",
        "        self.embeddings = Embeddings(input_dim, embed_dim, image_size, patch_size, dropout)\n",
        "        self.layer = nn.ModuleList()\n",
        "        self.encoder_norm = nn.LayerNorm(embed_dim, eps=1e-6)\n",
        "        self.extract_layers = extract_layers\n",
        "        for _ in range(num_layers):\n",
        "            layer = TransformerBlock(embed_dim, num_heads, dropout, image_size, patch_size)\n",
        "            self.layer.append(copy.deepcopy(layer))\n",
        "\n",
        "    def forward(self, x):\n",
        "        extract_layers = []\n",
        "        hidden_states = self.embeddings(x)\n",
        "\n",
        "        for depth, layer_block in enumerate(self.layer):\n",
        "            hidden_states, _ = layer_block(hidden_states)\n",
        "            if depth + 1 in self.extract_layers:\n",
        "                extract_layers.append(hidden_states)\n",
        "\n",
        "        return extract_layers\n"
      ],
      "metadata": {
        "id": "iCLfnxcwj58u"
      },
      "execution_count": 21,
      "outputs": []
    },
    {
      "cell_type": "markdown",
      "source": [
        "## Check Transformer"
      ],
      "metadata": {
        "id": "iy3nIUS8PdPB"
      }
    },
    {
      "cell_type": "code",
      "source": [
        "# x = torch.randn(32, 3, 224, 224) # batch_size, color_channels, height, width"
      ],
      "metadata": {
        "id": "dZewLTaCGvbm"
      },
      "execution_count": 34,
      "outputs": []
    },
    {
      "cell_type": "code",
      "source": [
        "'''\n",
        "transformer= Transformer(input_dim=3,\n",
        "               embed_dim=768,\n",
        "               image_size=(224,224),\n",
        "               patch_size=16,\n",
        "               num_heads=8,\n",
        "               num_layers=12,\n",
        "               dropout=0.2,\n",
        "               extract_layers=[3,6,9,12]\n",
        "               )\n",
        "transformer = transformer(x)\n",
        "print(transformer[0].shape)\n",
        "print(transformer[1].shape)\n",
        "print(transformer[2].shape)\n",
        "print(transformer[3].shape)\n",
        "'''"
      ],
      "metadata": {
        "colab": {
          "base_uri": "https://localhost:8080/",
          "height": 53
        },
        "id": "ElL-gLL6t-Na",
        "outputId": "124bd5c9-789e-4d4c-cebe-30caa31d59b4"
      },
      "execution_count": 33,
      "outputs": [
        {
          "output_type": "execute_result",
          "data": {
            "text/plain": [
              "'\\ntransformer= Transformer(input_dim=3,\\n               embed_dim=768,\\n               image_size=(224,224),\\n               patch_size=16,\\n               num_heads=8,\\n               num_layers=12,\\n               dropout=0.2,\\n               extract_layers=[3,6,9,12]\\n               )\\ntransformer = transformer(x)\\nprint(transformer[0].shape)\\nprint(transformer[1].shape)\\nprint(transformer[2].shape)\\nprint(transformer[3].shape)\\n'"
            ],
            "application/vnd.google.colaboratory.intrinsic+json": {
              "type": "string"
            }
          },
          "metadata": {},
          "execution_count": 33
        }
      ]
    },
    {
      "cell_type": "markdown",
      "source": [
        "# U-Net (Decoder)"
      ],
      "metadata": {
        "id": "rp4_f2r8Zx5w"
      }
    },
    {
      "cell_type": "code",
      "source": [
        "class SingleDeconv2DBlock(nn.Module):\n",
        "    def __init__(self, in_planes, out_planes):\n",
        "        super().__init__()\n",
        "        self.block = nn.ConvTranspose2d(in_planes, out_planes, kernel_size=2, stride=2, padding=0, output_padding=0)\n",
        "\n",
        "    def forward(self, x):\n",
        "        return self.block(x)"
      ],
      "metadata": {
        "id": "Wqf9eLooYNWp"
      },
      "execution_count": 24,
      "outputs": []
    },
    {
      "cell_type": "code",
      "source": [
        "class SingleConv2DBlock(nn.Module):\n",
        "    def __init__(self, in_planes, out_planes, kernel_size):\n",
        "        super().__init__()\n",
        "        self.block = nn.Conv2d(in_planes, out_planes, kernel_size=kernel_size, stride=1,\n",
        "                               padding=((kernel_size - 1) // 2))\n",
        "\n",
        "    def forward(self, x):\n",
        "        return self.block(x)"
      ],
      "metadata": {
        "id": "05TQKQ3cYczF"
      },
      "execution_count": 25,
      "outputs": []
    },
    {
      "cell_type": "code",
      "source": [
        "class Conv2DBlock(nn.Module):\n",
        "    def __init__(self, in_planes, out_planes, kernel_size=3):\n",
        "        super().__init__()\n",
        "        self.block = nn.Sequential(\n",
        "            SingleConv2DBlock(in_planes, out_planes, kernel_size),\n",
        "            nn.BatchNorm2d(out_planes),\n",
        "            nn.ReLU(True)\n",
        "        )\n",
        "\n",
        "    def forward(self, x):\n",
        "        return self.block(x)"
      ],
      "metadata": {
        "id": "PU5FcbKrX-13"
      },
      "execution_count": 26,
      "outputs": []
    },
    {
      "cell_type": "code",
      "source": [
        "class Deconv2DBlock(nn.Module):\n",
        "    def __init__(self, in_planes, out_planes, kernel_size=3):\n",
        "        super().__init__()\n",
        "        self.block = nn.Sequential(\n",
        "            SingleDeconv2DBlock(in_planes, out_planes),\n",
        "            SingleConv2DBlock(out_planes, out_planes, kernel_size),\n",
        "            nn.BatchNorm2d(out_planes),\n",
        "            nn.ReLU(True)\n",
        "        )\n",
        "\n",
        "    def forward(self, x):\n",
        "        return self.block(x)"
      ],
      "metadata": {
        "id": "URxG-lTYYm0E"
      },
      "execution_count": 27,
      "outputs": []
    },
    {
      "cell_type": "markdown",
      "source": [
        "# UNETR"
      ],
      "metadata": {
        "id": "o26_SRL-Z3mt"
      }
    },
    {
      "cell_type": "code",
      "source": [
        "# (32, 3, 224, 224, 224)\n",
        "\n",
        "class UNETR(nn.Module):\n",
        "    def __init__(self, img_shape=(224, 224), input_dim=3, output_dim=2, embed_dim=768, patch_size=16, num_heads=12, dropout=0.1):\n",
        "        super().__init__()\n",
        "        self.input_dim = input_dim\n",
        "        self.output_dim = output_dim\n",
        "        self.embed_dim = embed_dim\n",
        "        self.img_shape = img_shape\n",
        "        self.patch_size = patch_size\n",
        "        self.num_heads = num_heads\n",
        "        self.dropout = dropout\n",
        "        self.num_layers = 12\n",
        "        self.ext_layers = [3, 6, 9, 12]\n",
        "\n",
        "        self.patch_dim = [int(y / patch_size) for y in img_shape] # 32 / 16 = 2\n",
        "\n",
        "        # Transformer Encoder\n",
        "        self.transformer = \\\n",
        "            Transformer(\n",
        "                input_dim,\n",
        "                embed_dim,\n",
        "                img_shape,\n",
        "                patch_size,\n",
        "                num_heads,\n",
        "                self.num_layers,\n",
        "                dropout,\n",
        "                self.ext_layers\n",
        "            )\n",
        "\n",
        "        # U-Net Decoder\n",
        "        self.decoder0 = \\\n",
        "            nn.Sequential(\n",
        "                Conv2DBlock(input_dim, 32, 3), # (3,32)\n",
        "                Conv2DBlock(32, 64, 3)\n",
        "            )\n",
        "\n",
        "        self.decoder3 = \\\n",
        "            nn.Sequential(\n",
        "                Deconv2DBlock(embed_dim, 512),\n",
        "                Deconv2DBlock(512, 256),\n",
        "                Deconv2DBlock(256, 128)\n",
        "            )\n",
        "\n",
        "        self.decoder6 = \\\n",
        "            nn.Sequential(\n",
        "                Deconv2DBlock(embed_dim, 512),\n",
        "                Deconv2DBlock(512, 256),\n",
        "            )\n",
        "\n",
        "        self.decoder9 = \\\n",
        "            Deconv2DBlock(embed_dim, 512)\n",
        "\n",
        "        self.decoder12_upsampler = \\\n",
        "            SingleDeconv2DBlock(embed_dim, 512)\n",
        "\n",
        "        self.decoder9_upsampler = \\\n",
        "            nn.Sequential(\n",
        "                Conv2DBlock(1024, 512),\n",
        "                Conv2DBlock(512, 512),\n",
        "                Conv2DBlock(512, 512),\n",
        "                SingleDeconv2DBlock(512, 256)\n",
        "            )\n",
        "\n",
        "        self.decoder6_upsampler = \\\n",
        "            nn.Sequential(\n",
        "                Conv2DBlock(512, 256),\n",
        "                Conv2DBlock(256, 256),\n",
        "                SingleDeconv2DBlock(256, 128)\n",
        "            )\n",
        "\n",
        "        self.decoder3_upsampler = \\\n",
        "            nn.Sequential(\n",
        "                Conv2DBlock(256, 128),\n",
        "                Conv2DBlock(128, 128),\n",
        "                SingleDeconv2DBlock(128, 64)\n",
        "            )\n",
        "\n",
        "        self.decoder0_header = \\\n",
        "            nn.Sequential(\n",
        "                Conv2DBlock(128, 64),\n",
        "                Conv2DBlock(64, 64),\n",
        "                SingleConv2DBlock(64, output_dim, 1)\n",
        "            )\n",
        "\n",
        "    def forward(self, x):\n",
        "        z = self.transformer(x)\n",
        "        z0, z3, z6, z9, z12 = x, *z # \n",
        "        z3 = z3.transpose(-1, -2).view(-1, self.embed_dim, *self.patch_dim) # patch_dim?\n",
        "        z6 = z6.transpose(-1, -2).view(-1, self.embed_dim, *self.patch_dim)\n",
        "        z9 = z9.transpose(-1, -2).view(-1, self.embed_dim, *self.patch_dim)\n",
        "        z12 = z12.transpose(-1, -2).view(-1, self.embed_dim, *self.patch_dim)\n",
        "\n",
        "        z12 = self.decoder12_upsampler(z12)\n",
        "        z9 = self.decoder9(z9)\n",
        "        z9 = self.decoder9_upsampler(torch.cat([z9, z12], dim=1))\n",
        "        z6 = self.decoder6(z6)\n",
        "        z6 = self.decoder6_upsampler(torch.cat([z6, z9], dim=1))\n",
        "        z3 = self.decoder3(z3)\n",
        "        z3 = self.decoder3_upsampler(torch.cat([z3, z6], dim=1))\n",
        "        z0 = self.decoder0(z0)\n",
        "        output = self.decoder0_header(torch.cat([z0, z3], dim=1))\n",
        "        return output"
      ],
      "metadata": {
        "id": "ZIG7E2-v4bcB"
      },
      "execution_count": 28,
      "outputs": []
    },
    {
      "cell_type": "code",
      "source": [
        "device = \"cuda\" if torch.cuda.is_available() else \"cpu\"\n",
        "device"
      ],
      "metadata": {
        "colab": {
          "base_uri": "https://localhost:8080/",
          "height": 36
        },
        "id": "tGaBPVu5DjlS",
        "outputId": "d80339a3-c51e-44f7-8b33-c1f0cd3fa72a"
      },
      "execution_count": 29,
      "outputs": [
        {
          "output_type": "execute_result",
          "data": {
            "text/plain": [
              "'cuda'"
            ],
            "application/vnd.google.colaboratory.intrinsic+json": {
              "type": "string"
            }
          },
          "metadata": {},
          "execution_count": 29
        }
      ]
    },
    {
      "cell_type": "code",
      "source": [
        "demo_img = torch.randn(1, 3, 224, 224).to(device)"
      ],
      "metadata": {
        "id": "R2s_02iZD12p"
      },
      "execution_count": 30,
      "outputs": []
    },
    {
      "cell_type": "code",
      "source": [
        "unetr = UNETR(img_shape=(224, 224),\n",
        "              input_dim=3,\n",
        "              output_dim=2,\n",
        "              embed_dim=768,\n",
        "              patch_size=16,\n",
        "              num_heads=12,\n",
        "              dropout=0.1\n",
        "              ).to(device)\n",
        "b = unetr(demo_img)\n",
        "b.shape"
      ],
      "metadata": {
        "colab": {
          "base_uri": "https://localhost:8080/"
        },
        "id": "CCKIh73aDHi0",
        "outputId": "4bcc8fa2-4c9b-47a8-c01a-e4fad9d0e3cd"
      },
      "execution_count": 31,
      "outputs": [
        {
          "output_type": "execute_result",
          "data": {
            "text/plain": [
              "torch.Size([1, 2, 224, 224])"
            ]
          },
          "metadata": {},
          "execution_count": 31
        }
      ]
    },
    {
      "cell_type": "code",
      "source": [
        "summary(model=UNETR(),\n",
        "        input_size=(1, 3, 224, 224),\n",
        "        col_names=[\"input_size\", \"output_size\", \"num_params\", \"trainable\"],\n",
        "        col_width=20,\n",
        "        row_settings=[\"var_names\"])"
      ],
      "metadata": {
        "colab": {
          "base_uri": "https://localhost:8080/"
        },
        "id": "zfVd2xhw5V1Y",
        "outputId": "1532e50e-a786-417d-a2dc-9467785d9b94"
      },
      "execution_count": 36,
      "outputs": [
        {
          "output_type": "execute_result",
          "data": {
            "text/plain": [
              "==================================================================================================================================\n",
              "Layer (type (var_name))                            Input Shape          Output Shape         Param #              Trainable\n",
              "==================================================================================================================================\n",
              "UNETR (UNETR)                                      [1, 3, 224, 224]     [1, 2, 224, 224]     --                   True\n",
              "├─Transformer (transformer)                        [1, 3, 224, 224]     [1, 196, 768]        1,536                True\n",
              "│    └─Embeddings (embeddings)                     [1, 3, 224, 224]     [1, 196, 768]        150,528              True\n",
              "│    │    └─Conv2d (patch_embeddings)              [1, 3, 224, 224]     [1, 768, 14, 14]     590,592              True\n",
              "│    │    └─Dropout (dropout)                      [1, 196, 768]        [1, 196, 768]        --                   --\n",
              "│    └─ModuleList (layer)                          --                   --                   --                   True\n",
              "│    │    └─TransformerBlock (0)                   [1, 196, 768]        [1, 196, 768]        5,513,984            True\n",
              "│    │    └─TransformerBlock (1)                   [1, 196, 768]        [1, 196, 768]        5,513,984            True\n",
              "│    │    └─TransformerBlock (2)                   [1, 196, 768]        [1, 196, 768]        5,513,984            True\n",
              "│    │    └─TransformerBlock (3)                   [1, 196, 768]        [1, 196, 768]        5,513,984            True\n",
              "│    │    └─TransformerBlock (4)                   [1, 196, 768]        [1, 196, 768]        5,513,984            True\n",
              "│    │    └─TransformerBlock (5)                   [1, 196, 768]        [1, 196, 768]        5,513,984            True\n",
              "│    │    └─TransformerBlock (6)                   [1, 196, 768]        [1, 196, 768]        5,513,984            True\n",
              "│    │    └─TransformerBlock (7)                   [1, 196, 768]        [1, 196, 768]        5,513,984            True\n",
              "│    │    └─TransformerBlock (8)                   [1, 196, 768]        [1, 196, 768]        5,513,984            True\n",
              "│    │    └─TransformerBlock (9)                   [1, 196, 768]        [1, 196, 768]        5,513,984            True\n",
              "│    │    └─TransformerBlock (10)                  [1, 196, 768]        [1, 196, 768]        5,513,984            True\n",
              "│    │    └─TransformerBlock (11)                  [1, 196, 768]        [1, 196, 768]        5,513,984            True\n",
              "├─SingleDeconv2DBlock (decoder12_upsampler)        [1, 768, 14, 14]     [1, 512, 28, 28]     --                   True\n",
              "│    └─ConvTranspose2d (block)                     [1, 768, 14, 14]     [1, 512, 28, 28]     1,573,376            True\n",
              "├─Deconv2DBlock (decoder9)                         [1, 768, 14, 14]     [1, 512, 28, 28]     --                   True\n",
              "│    └─Sequential (block)                          [1, 768, 14, 14]     [1, 512, 28, 28]     --                   True\n",
              "│    │    └─SingleDeconv2DBlock (0)                [1, 768, 14, 14]     [1, 512, 28, 28]     1,573,376            True\n",
              "│    │    └─SingleConv2DBlock (1)                  [1, 512, 28, 28]     [1, 512, 28, 28]     2,359,808            True\n",
              "│    │    └─BatchNorm2d (2)                        [1, 512, 28, 28]     [1, 512, 28, 28]     1,024                True\n",
              "│    │    └─ReLU (3)                               [1, 512, 28, 28]     [1, 512, 28, 28]     --                   --\n",
              "├─Sequential (decoder9_upsampler)                  [1, 1024, 28, 28]    [1, 256, 56, 56]     --                   True\n",
              "│    └─Conv2DBlock (0)                             [1, 1024, 28, 28]    [1, 512, 28, 28]     --                   True\n",
              "│    │    └─Sequential (block)                     [1, 1024, 28, 28]    [1, 512, 28, 28]     4,720,128            True\n",
              "│    └─Conv2DBlock (1)                             [1, 512, 28, 28]     [1, 512, 28, 28]     --                   True\n",
              "│    │    └─Sequential (block)                     [1, 512, 28, 28]     [1, 512, 28, 28]     2,360,832            True\n",
              "│    └─Conv2DBlock (2)                             [1, 512, 28, 28]     [1, 512, 28, 28]     --                   True\n",
              "│    │    └─Sequential (block)                     [1, 512, 28, 28]     [1, 512, 28, 28]     2,360,832            True\n",
              "│    └─SingleDeconv2DBlock (3)                     [1, 512, 28, 28]     [1, 256, 56, 56]     --                   True\n",
              "│    │    └─ConvTranspose2d (block)                [1, 512, 28, 28]     [1, 256, 56, 56]     524,544              True\n",
              "├─Sequential (decoder6)                            [1, 768, 14, 14]     [1, 256, 56, 56]     --                   True\n",
              "│    └─Deconv2DBlock (0)                           [1, 768, 14, 14]     [1, 512, 28, 28]     --                   True\n",
              "│    │    └─Sequential (block)                     [1, 768, 14, 14]     [1, 512, 28, 28]     3,934,208            True\n",
              "│    └─Deconv2DBlock (1)                           [1, 512, 28, 28]     [1, 256, 56, 56]     --                   True\n",
              "│    │    └─Sequential (block)                     [1, 512, 28, 28]     [1, 256, 56, 56]     1,115,136            True\n",
              "├─Sequential (decoder6_upsampler)                  [1, 512, 56, 56]     [1, 128, 112, 112]   --                   True\n",
              "│    └─Conv2DBlock (0)                             [1, 512, 56, 56]     [1, 256, 56, 56]     --                   True\n",
              "│    │    └─Sequential (block)                     [1, 512, 56, 56]     [1, 256, 56, 56]     1,180,416            True\n",
              "│    └─Conv2DBlock (1)                             [1, 256, 56, 56]     [1, 256, 56, 56]     --                   True\n",
              "│    │    └─Sequential (block)                     [1, 256, 56, 56]     [1, 256, 56, 56]     590,592              True\n",
              "│    └─SingleDeconv2DBlock (2)                     [1, 256, 56, 56]     [1, 128, 112, 112]   --                   True\n",
              "│    │    └─ConvTranspose2d (block)                [1, 256, 56, 56]     [1, 128, 112, 112]   131,200              True\n",
              "├─Sequential (decoder3)                            [1, 768, 14, 14]     [1, 128, 112, 112]   --                   True\n",
              "│    └─Deconv2DBlock (0)                           [1, 768, 14, 14]     [1, 512, 28, 28]     --                   True\n",
              "│    │    └─Sequential (block)                     [1, 768, 14, 14]     [1, 512, 28, 28]     3,934,208            True\n",
              "│    └─Deconv2DBlock (1)                           [1, 512, 28, 28]     [1, 256, 56, 56]     --                   True\n",
              "│    │    └─Sequential (block)                     [1, 512, 28, 28]     [1, 256, 56, 56]     1,115,136            True\n",
              "│    └─Deconv2DBlock (2)                           [1, 256, 56, 56]     [1, 128, 112, 112]   --                   True\n",
              "│    │    └─Sequential (block)                     [1, 256, 56, 56]     [1, 128, 112, 112]   279,040              True\n",
              "├─Sequential (decoder3_upsampler)                  [1, 256, 112, 112]   [1, 64, 224, 224]    --                   True\n",
              "│    └─Conv2DBlock (0)                             [1, 256, 112, 112]   [1, 128, 112, 112]   --                   True\n",
              "│    │    └─Sequential (block)                     [1, 256, 112, 112]   [1, 128, 112, 112]   295,296              True\n",
              "│    └─Conv2DBlock (1)                             [1, 128, 112, 112]   [1, 128, 112, 112]   --                   True\n",
              "│    │    └─Sequential (block)                     [1, 128, 112, 112]   [1, 128, 112, 112]   147,840              True\n",
              "│    └─SingleDeconv2DBlock (2)                     [1, 128, 112, 112]   [1, 64, 224, 224]    --                   True\n",
              "│    │    └─ConvTranspose2d (block)                [1, 128, 112, 112]   [1, 64, 224, 224]    32,832               True\n",
              "├─Sequential (decoder0)                            [1, 3, 224, 224]     [1, 64, 224, 224]    --                   True\n",
              "│    └─Conv2DBlock (0)                             [1, 3, 224, 224]     [1, 32, 224, 224]    --                   True\n",
              "│    │    └─Sequential (block)                     [1, 3, 224, 224]     [1, 32, 224, 224]    960                  True\n",
              "│    └─Conv2DBlock (1)                             [1, 32, 224, 224]    [1, 64, 224, 224]    --                   True\n",
              "│    │    └─Sequential (block)                     [1, 32, 224, 224]    [1, 64, 224, 224]    18,624               True\n",
              "├─Sequential (decoder0_header)                     [1, 128, 224, 224]   [1, 2, 224, 224]     --                   True\n",
              "│    └─Conv2DBlock (0)                             [1, 128, 224, 224]   [1, 64, 224, 224]    --                   True\n",
              "│    │    └─Sequential (block)                     [1, 128, 224, 224]   [1, 64, 224, 224]    73,920               True\n",
              "│    └─Conv2DBlock (1)                             [1, 64, 224, 224]    [1, 64, 224, 224]    --                   True\n",
              "│    │    └─Sequential (block)                     [1, 64, 224, 224]    [1, 64, 224, 224]    37,056               True\n",
              "│    └─SingleConv2DBlock (2)                       [1, 64, 224, 224]    [1, 2, 224, 224]     --                   True\n",
              "│    │    └─Conv2d (block)                         [1, 64, 224, 224]    [1, 2, 224, 224]     130                  True\n",
              "==================================================================================================================================\n",
              "Total params: 95,270,978\n",
              "Trainable params: 95,270,978\n",
              "Non-trainable params: 0\n",
              "Total mult-adds (G): 51.13\n",
              "==================================================================================================================================\n",
              "Input size (MB): 0.60\n",
              "Forward/backward pass size (MB): 572.01\n",
              "Params size (MB): 380.48\n",
              "Estimated Total Size (MB): 953.08\n",
              "=================================================================================================================================="
            ]
          },
          "metadata": {},
          "execution_count": 36
        }
      ]
    },
    {
      "cell_type": "markdown",
      "source": [
        "# Real Training"
      ],
      "metadata": {
        "id": "OeUd-gQAHtIA"
      }
    },
    {
      "cell_type": "code",
      "source": [
        "import numpy as np\n",
        "import pandas as pd\n",
        "\n",
        "import os\n",
        "for dirname, _, filenames in os.walk('/kaggle/input'):\n",
        "    for filename in filenames:\n",
        "        print(os.path.join(dirname, filename))\n",
        "\n",
        "from sklearn.model_selection import train_test_split\n",
        "\n",
        "import glob\n",
        "\n",
        "import matplotlib.pyplot as plt\n",
        "from PIL import Image\n",
        "\n",
        "import random\n",
        "\n",
        "import cv2\n",
        "\n",
        "import torch \n",
        "import torch.nn as nn\n",
        "from torch.utils.data import Dataset, DataLoader\n",
        "import torch.nn.functional as F\n",
        "from torch.optim.lr_scheduler import StepLR, MultiplicativeLR\n",
        "from torchvision import transforms\n",
        "import torch.optim as optim\n",
        "\n",
        "from tqdm import tqdm\n",
        "\n",
        "from time import sleep\n",
        "\n",
        "from collections import OrderedDict, defaultdict \n",
        "\n",
        "import warnings\n",
        "warnings.filterwarnings('ignore')"
      ],
      "metadata": {
        "id": "s7QvaD5zHvX6"
      },
      "execution_count": 37,
      "outputs": []
    },
    {
      "cell_type": "code",
      "source": [
        "GPU = True\n",
        "device = \"cuda\" if GPU and torch.cuda.is_available() else \"cpu\"\n",
        "\n",
        "print(f'Using device {device}')"
      ],
      "metadata": {
        "colab": {
          "base_uri": "https://localhost:8080/"
        },
        "id": "z4ma42Y8H5Yw",
        "outputId": "176bd77c-483a-4dbe-abb8-afcba473172c"
      },
      "execution_count": 38,
      "outputs": [
        {
          "output_type": "stream",
          "name": "stdout",
          "text": [
            "Using device cuda\n"
          ]
        }
      ]
    },
    {
      "cell_type": "code",
      "source": [
        "from google.colab import files\n",
        "files.upload()"
      ],
      "metadata": {
        "colab": {
          "base_uri": "https://localhost:8080/",
          "height": 86
        },
        "id": "5A3U684LH7EW",
        "outputId": "84610092-7884-419c-e1f8-3c8e78bee815"
      },
      "execution_count": 39,
      "outputs": [
        {
          "output_type": "display_data",
          "data": {
            "text/plain": [
              "<IPython.core.display.HTML object>"
            ],
            "text/html": [
              "\n",
              "     <input type=\"file\" id=\"files-157c98f2-7999-4307-b200-2d0ae043953a\" name=\"files[]\" multiple disabled\n",
              "        style=\"border:none\" />\n",
              "     <output id=\"result-157c98f2-7999-4307-b200-2d0ae043953a\">\n",
              "      Upload widget is only available when the cell has been executed in the\n",
              "      current browser session. Please rerun this cell to enable.\n",
              "      </output>\n",
              "      <script>// Copyright 2017 Google LLC\n",
              "//\n",
              "// Licensed under the Apache License, Version 2.0 (the \"License\");\n",
              "// you may not use this file except in compliance with the License.\n",
              "// You may obtain a copy of the License at\n",
              "//\n",
              "//      http://www.apache.org/licenses/LICENSE-2.0\n",
              "//\n",
              "// Unless required by applicable law or agreed to in writing, software\n",
              "// distributed under the License is distributed on an \"AS IS\" BASIS,\n",
              "// WITHOUT WARRANTIES OR CONDITIONS OF ANY KIND, either express or implied.\n",
              "// See the License for the specific language governing permissions and\n",
              "// limitations under the License.\n",
              "\n",
              "/**\n",
              " * @fileoverview Helpers for google.colab Python module.\n",
              " */\n",
              "(function(scope) {\n",
              "function span(text, styleAttributes = {}) {\n",
              "  const element = document.createElement('span');\n",
              "  element.textContent = text;\n",
              "  for (const key of Object.keys(styleAttributes)) {\n",
              "    element.style[key] = styleAttributes[key];\n",
              "  }\n",
              "  return element;\n",
              "}\n",
              "\n",
              "// Max number of bytes which will be uploaded at a time.\n",
              "const MAX_PAYLOAD_SIZE = 100 * 1024;\n",
              "\n",
              "function _uploadFiles(inputId, outputId) {\n",
              "  const steps = uploadFilesStep(inputId, outputId);\n",
              "  const outputElement = document.getElementById(outputId);\n",
              "  // Cache steps on the outputElement to make it available for the next call\n",
              "  // to uploadFilesContinue from Python.\n",
              "  outputElement.steps = steps;\n",
              "\n",
              "  return _uploadFilesContinue(outputId);\n",
              "}\n",
              "\n",
              "// This is roughly an async generator (not supported in the browser yet),\n",
              "// where there are multiple asynchronous steps and the Python side is going\n",
              "// to poll for completion of each step.\n",
              "// This uses a Promise to block the python side on completion of each step,\n",
              "// then passes the result of the previous step as the input to the next step.\n",
              "function _uploadFilesContinue(outputId) {\n",
              "  const outputElement = document.getElementById(outputId);\n",
              "  const steps = outputElement.steps;\n",
              "\n",
              "  const next = steps.next(outputElement.lastPromiseValue);\n",
              "  return Promise.resolve(next.value.promise).then((value) => {\n",
              "    // Cache the last promise value to make it available to the next\n",
              "    // step of the generator.\n",
              "    outputElement.lastPromiseValue = value;\n",
              "    return next.value.response;\n",
              "  });\n",
              "}\n",
              "\n",
              "/**\n",
              " * Generator function which is called between each async step of the upload\n",
              " * process.\n",
              " * @param {string} inputId Element ID of the input file picker element.\n",
              " * @param {string} outputId Element ID of the output display.\n",
              " * @return {!Iterable<!Object>} Iterable of next steps.\n",
              " */\n",
              "function* uploadFilesStep(inputId, outputId) {\n",
              "  const inputElement = document.getElementById(inputId);\n",
              "  inputElement.disabled = false;\n",
              "\n",
              "  const outputElement = document.getElementById(outputId);\n",
              "  outputElement.innerHTML = '';\n",
              "\n",
              "  const pickedPromise = new Promise((resolve) => {\n",
              "    inputElement.addEventListener('change', (e) => {\n",
              "      resolve(e.target.files);\n",
              "    });\n",
              "  });\n",
              "\n",
              "  const cancel = document.createElement('button');\n",
              "  inputElement.parentElement.appendChild(cancel);\n",
              "  cancel.textContent = 'Cancel upload';\n",
              "  const cancelPromise = new Promise((resolve) => {\n",
              "    cancel.onclick = () => {\n",
              "      resolve(null);\n",
              "    };\n",
              "  });\n",
              "\n",
              "  // Wait for the user to pick the files.\n",
              "  const files = yield {\n",
              "    promise: Promise.race([pickedPromise, cancelPromise]),\n",
              "    response: {\n",
              "      action: 'starting',\n",
              "    }\n",
              "  };\n",
              "\n",
              "  cancel.remove();\n",
              "\n",
              "  // Disable the input element since further picks are not allowed.\n",
              "  inputElement.disabled = true;\n",
              "\n",
              "  if (!files) {\n",
              "    return {\n",
              "      response: {\n",
              "        action: 'complete',\n",
              "      }\n",
              "    };\n",
              "  }\n",
              "\n",
              "  for (const file of files) {\n",
              "    const li = document.createElement('li');\n",
              "    li.append(span(file.name, {fontWeight: 'bold'}));\n",
              "    li.append(span(\n",
              "        `(${file.type || 'n/a'}) - ${file.size} bytes, ` +\n",
              "        `last modified: ${\n",
              "            file.lastModifiedDate ? file.lastModifiedDate.toLocaleDateString() :\n",
              "                                    'n/a'} - `));\n",
              "    const percent = span('0% done');\n",
              "    li.appendChild(percent);\n",
              "\n",
              "    outputElement.appendChild(li);\n",
              "\n",
              "    const fileDataPromise = new Promise((resolve) => {\n",
              "      const reader = new FileReader();\n",
              "      reader.onload = (e) => {\n",
              "        resolve(e.target.result);\n",
              "      };\n",
              "      reader.readAsArrayBuffer(file);\n",
              "    });\n",
              "    // Wait for the data to be ready.\n",
              "    let fileData = yield {\n",
              "      promise: fileDataPromise,\n",
              "      response: {\n",
              "        action: 'continue',\n",
              "      }\n",
              "    };\n",
              "\n",
              "    // Use a chunked sending to avoid message size limits. See b/62115660.\n",
              "    let position = 0;\n",
              "    do {\n",
              "      const length = Math.min(fileData.byteLength - position, MAX_PAYLOAD_SIZE);\n",
              "      const chunk = new Uint8Array(fileData, position, length);\n",
              "      position += length;\n",
              "\n",
              "      const base64 = btoa(String.fromCharCode.apply(null, chunk));\n",
              "      yield {\n",
              "        response: {\n",
              "          action: 'append',\n",
              "          file: file.name,\n",
              "          data: base64,\n",
              "        },\n",
              "      };\n",
              "\n",
              "      let percentDone = fileData.byteLength === 0 ?\n",
              "          100 :\n",
              "          Math.round((position / fileData.byteLength) * 100);\n",
              "      percent.textContent = `${percentDone}% done`;\n",
              "\n",
              "    } while (position < fileData.byteLength);\n",
              "  }\n",
              "\n",
              "  // All done.\n",
              "  yield {\n",
              "    response: {\n",
              "      action: 'complete',\n",
              "    }\n",
              "  };\n",
              "}\n",
              "\n",
              "scope.google = scope.google || {};\n",
              "scope.google.colab = scope.google.colab || {};\n",
              "scope.google.colab._files = {\n",
              "  _uploadFiles,\n",
              "  _uploadFilesContinue,\n",
              "};\n",
              "})(self);\n",
              "</script> "
            ]
          },
          "metadata": {}
        },
        {
          "output_type": "stream",
          "name": "stdout",
          "text": [
            "Saving kaggle.json to kaggle.json\n"
          ]
        },
        {
          "output_type": "execute_result",
          "data": {
            "text/plain": [
              "{'kaggle.json': b'{\"username\":\"blazyyyy\",\"key\":\"9c666df8b46ae78aa9b552e64cae6025\"}'}"
            ]
          },
          "metadata": {},
          "execution_count": 39
        }
      ]
    },
    {
      "cell_type": "code",
      "source": [
        "!rm -r ~/.kaggle\n",
        "!mkdir ~/.kaggle\n",
        "!mv ./kaggle.json ~/.kaggle/\n",
        "!chmod 600 ~/.kaggle/kaggle.json"
      ],
      "metadata": {
        "colab": {
          "base_uri": "https://localhost:8080/"
        },
        "id": "424Af_X2IC7z",
        "outputId": "c8a69f24-0282-43d0-d77d-d30c6d688034"
      },
      "execution_count": 40,
      "outputs": [
        {
          "output_type": "stream",
          "name": "stdout",
          "text": [
            "rm: cannot remove '/root/.kaggle': No such file or directory\n"
          ]
        }
      ]
    },
    {
      "cell_type": "code",
      "source": [
        "!kaggle datasets download -d mateuszbuda/lgg-mri-segmentation --unzip --force"
      ],
      "metadata": {
        "colab": {
          "base_uri": "https://localhost:8080/"
        },
        "id": "IfQ5jKNeIDZt",
        "outputId": "18c68a3f-6db6-4c5f-cc45-d47dc5524699"
      },
      "execution_count": 65,
      "outputs": [
        {
          "output_type": "stream",
          "name": "stdout",
          "text": [
            "Downloading lgg-mri-segmentation.zip to /content\n",
            "100% 713M/714M [00:18<00:00, 41.7MB/s]\n",
            "100% 714M/714M [00:18<00:00, 41.2MB/s]\n"
          ]
        }
      ]
    },
    {
      "cell_type": "code",
      "source": [
        "dirr = \"/content/lgg-mri-segmentation/kaggle_3m/\"\n",
        "\n",
        "image_size = 224\n",
        "\n",
        "data = []\n",
        "\n",
        "for sub_dir_path in glob.glob(dirr + \"*\"):\n",
        "    if os.path.isdir(sub_dir_path):\n",
        "        dirname = sub_dir_path.split(\"/\")[-1]\n",
        "        for filename in os.listdir(sub_dir_path):\n",
        "            image_path = sub_dir_path + \"/\" + filename\n",
        "            data.extend([dirname, image_path])\n",
        "        \n",
        "        \n",
        "df = pd.DataFrame(\n",
        "    {\n",
        "        \"dirname\" : data[::2],\n",
        "        \"path\" : data[1::2]\n",
        "    }\n",
        ")\n",
        "\n",
        "df.head()"
      ],
      "metadata": {
        "colab": {
          "base_uri": "https://localhost:8080/",
          "height": 206
        },
        "id": "GB4EUmhfIGw7",
        "outputId": "3cbd1524-485d-4bd6-9afb-6f98dea9f203"
      },
      "execution_count": 66,
      "outputs": [
        {
          "output_type": "execute_result",
          "data": {
            "text/plain": [
              "                 dirname                                               path\n",
              "0  TCGA_HT_A61A_20000127  /content/lgg-mri-segmentation/kaggle_3m/TCGA_H...\n",
              "1  TCGA_HT_A61A_20000127  /content/lgg-mri-segmentation/kaggle_3m/TCGA_H...\n",
              "2  TCGA_HT_A61A_20000127  /content/lgg-mri-segmentation/kaggle_3m/TCGA_H...\n",
              "3  TCGA_HT_A61A_20000127  /content/lgg-mri-segmentation/kaggle_3m/TCGA_H...\n",
              "4  TCGA_HT_A61A_20000127  /content/lgg-mri-segmentation/kaggle_3m/TCGA_H..."
            ],
            "text/html": [
              "\n",
              "  <div id=\"df-1eef6d7a-1b8b-4d05-badf-00d80dd99dcf\">\n",
              "    <div class=\"colab-df-container\">\n",
              "      <div>\n",
              "<style scoped>\n",
              "    .dataframe tbody tr th:only-of-type {\n",
              "        vertical-align: middle;\n",
              "    }\n",
              "\n",
              "    .dataframe tbody tr th {\n",
              "        vertical-align: top;\n",
              "    }\n",
              "\n",
              "    .dataframe thead th {\n",
              "        text-align: right;\n",
              "    }\n",
              "</style>\n",
              "<table border=\"1\" class=\"dataframe\">\n",
              "  <thead>\n",
              "    <tr style=\"text-align: right;\">\n",
              "      <th></th>\n",
              "      <th>dirname</th>\n",
              "      <th>path</th>\n",
              "    </tr>\n",
              "  </thead>\n",
              "  <tbody>\n",
              "    <tr>\n",
              "      <th>0</th>\n",
              "      <td>TCGA_HT_A61A_20000127</td>\n",
              "      <td>/content/lgg-mri-segmentation/kaggle_3m/TCGA_H...</td>\n",
              "    </tr>\n",
              "    <tr>\n",
              "      <th>1</th>\n",
              "      <td>TCGA_HT_A61A_20000127</td>\n",
              "      <td>/content/lgg-mri-segmentation/kaggle_3m/TCGA_H...</td>\n",
              "    </tr>\n",
              "    <tr>\n",
              "      <th>2</th>\n",
              "      <td>TCGA_HT_A61A_20000127</td>\n",
              "      <td>/content/lgg-mri-segmentation/kaggle_3m/TCGA_H...</td>\n",
              "    </tr>\n",
              "    <tr>\n",
              "      <th>3</th>\n",
              "      <td>TCGA_HT_A61A_20000127</td>\n",
              "      <td>/content/lgg-mri-segmentation/kaggle_3m/TCGA_H...</td>\n",
              "    </tr>\n",
              "    <tr>\n",
              "      <th>4</th>\n",
              "      <td>TCGA_HT_A61A_20000127</td>\n",
              "      <td>/content/lgg-mri-segmentation/kaggle_3m/TCGA_H...</td>\n",
              "    </tr>\n",
              "  </tbody>\n",
              "</table>\n",
              "</div>\n",
              "      <button class=\"colab-df-convert\" onclick=\"convertToInteractive('df-1eef6d7a-1b8b-4d05-badf-00d80dd99dcf')\"\n",
              "              title=\"Convert this dataframe to an interactive table.\"\n",
              "              style=\"display:none;\">\n",
              "        \n",
              "  <svg xmlns=\"http://www.w3.org/2000/svg\" height=\"24px\"viewBox=\"0 0 24 24\"\n",
              "       width=\"24px\">\n",
              "    <path d=\"M0 0h24v24H0V0z\" fill=\"none\"/>\n",
              "    <path d=\"M18.56 5.44l.94 2.06.94-2.06 2.06-.94-2.06-.94-.94-2.06-.94 2.06-2.06.94zm-11 1L8.5 8.5l.94-2.06 2.06-.94-2.06-.94L8.5 2.5l-.94 2.06-2.06.94zm10 10l.94 2.06.94-2.06 2.06-.94-2.06-.94-.94-2.06-.94 2.06-2.06.94z\"/><path d=\"M17.41 7.96l-1.37-1.37c-.4-.4-.92-.59-1.43-.59-.52 0-1.04.2-1.43.59L10.3 9.45l-7.72 7.72c-.78.78-.78 2.05 0 2.83L4 21.41c.39.39.9.59 1.41.59.51 0 1.02-.2 1.41-.59l7.78-7.78 2.81-2.81c.8-.78.8-2.07 0-2.86zM5.41 20L4 18.59l7.72-7.72 1.47 1.35L5.41 20z\"/>\n",
              "  </svg>\n",
              "      </button>\n",
              "      \n",
              "  <style>\n",
              "    .colab-df-container {\n",
              "      display:flex;\n",
              "      flex-wrap:wrap;\n",
              "      gap: 12px;\n",
              "    }\n",
              "\n",
              "    .colab-df-convert {\n",
              "      background-color: #E8F0FE;\n",
              "      border: none;\n",
              "      border-radius: 50%;\n",
              "      cursor: pointer;\n",
              "      display: none;\n",
              "      fill: #1967D2;\n",
              "      height: 32px;\n",
              "      padding: 0 0 0 0;\n",
              "      width: 32px;\n",
              "    }\n",
              "\n",
              "    .colab-df-convert:hover {\n",
              "      background-color: #E2EBFA;\n",
              "      box-shadow: 0px 1px 2px rgba(60, 64, 67, 0.3), 0px 1px 3px 1px rgba(60, 64, 67, 0.15);\n",
              "      fill: #174EA6;\n",
              "    }\n",
              "\n",
              "    [theme=dark] .colab-df-convert {\n",
              "      background-color: #3B4455;\n",
              "      fill: #D2E3FC;\n",
              "    }\n",
              "\n",
              "    [theme=dark] .colab-df-convert:hover {\n",
              "      background-color: #434B5C;\n",
              "      box-shadow: 0px 1px 3px 1px rgba(0, 0, 0, 0.15);\n",
              "      filter: drop-shadow(0px 1px 2px rgba(0, 0, 0, 0.3));\n",
              "      fill: #FFFFFF;\n",
              "    }\n",
              "  </style>\n",
              "\n",
              "      <script>\n",
              "        const buttonEl =\n",
              "          document.querySelector('#df-1eef6d7a-1b8b-4d05-badf-00d80dd99dcf button.colab-df-convert');\n",
              "        buttonEl.style.display =\n",
              "          google.colab.kernel.accessAllowed ? 'block' : 'none';\n",
              "\n",
              "        async function convertToInteractive(key) {\n",
              "          const element = document.querySelector('#df-1eef6d7a-1b8b-4d05-badf-00d80dd99dcf');\n",
              "          const dataTable =\n",
              "            await google.colab.kernel.invokeFunction('convertToInteractive',\n",
              "                                                     [key], {});\n",
              "          if (!dataTable) return;\n",
              "\n",
              "          const docLinkHtml = 'Like what you see? Visit the ' +\n",
              "            '<a target=\"_blank\" href=https://colab.research.google.com/notebooks/data_table.ipynb>data table notebook</a>'\n",
              "            + ' to learn more about interactive tables.';\n",
              "          element.innerHTML = '';\n",
              "          dataTable['output_type'] = 'display_data';\n",
              "          await google.colab.output.renderOutput(dataTable, element);\n",
              "          const docLink = document.createElement('div');\n",
              "          docLink.innerHTML = docLinkHtml;\n",
              "          element.appendChild(docLink);\n",
              "        }\n",
              "      </script>\n",
              "    </div>\n",
              "  </div>\n",
              "  "
            ]
          },
          "metadata": {},
          "execution_count": 66
        }
      ]
    },
    {
      "cell_type": "code",
      "source": [
        "df_no_masks = df[~df['path'].str.contains(\"mask\")]\n",
        "df_masks = df[df['path'].str.contains(\"mask\")]\n",
        "\n",
        "no_masks = sorted(df_no_masks[\"path\"].values, key=lambda string: int(string.split('.')[0].split('_')[-1]))\n",
        "masks = sorted(df_masks[\"path\"].values, key=lambda string: int(string.split('.')[0].split('_')[-2]))"
      ],
      "metadata": {
        "id": "QZNrSLeAIHOP"
      },
      "execution_count": 67,
      "outputs": []
    },
    {
      "cell_type": "code",
      "source": [
        "df_no_masks.head()"
      ],
      "metadata": {
        "colab": {
          "base_uri": "https://localhost:8080/",
          "height": 206
        },
        "id": "kf2B6z9hII-j",
        "outputId": "b5cb6df7-2460-4267-d5fa-f21b329aefc5"
      },
      "execution_count": 68,
      "outputs": [
        {
          "output_type": "execute_result",
          "data": {
            "text/plain": [
              "                  dirname                                               path\n",
              "2   TCGA_HT_A61A_20000127  /content/lgg-mri-segmentation/kaggle_3m/TCGA_H...\n",
              "3   TCGA_HT_A61A_20000127  /content/lgg-mri-segmentation/kaggle_3m/TCGA_H...\n",
              "6   TCGA_HT_A61A_20000127  /content/lgg-mri-segmentation/kaggle_3m/TCGA_H...\n",
              "9   TCGA_HT_A61A_20000127  /content/lgg-mri-segmentation/kaggle_3m/TCGA_H...\n",
              "10  TCGA_HT_A61A_20000127  /content/lgg-mri-segmentation/kaggle_3m/TCGA_H..."
            ],
            "text/html": [
              "\n",
              "  <div id=\"df-b7094eb7-b52c-49e5-9a43-5201aee78b57\">\n",
              "    <div class=\"colab-df-container\">\n",
              "      <div>\n",
              "<style scoped>\n",
              "    .dataframe tbody tr th:only-of-type {\n",
              "        vertical-align: middle;\n",
              "    }\n",
              "\n",
              "    .dataframe tbody tr th {\n",
              "        vertical-align: top;\n",
              "    }\n",
              "\n",
              "    .dataframe thead th {\n",
              "        text-align: right;\n",
              "    }\n",
              "</style>\n",
              "<table border=\"1\" class=\"dataframe\">\n",
              "  <thead>\n",
              "    <tr style=\"text-align: right;\">\n",
              "      <th></th>\n",
              "      <th>dirname</th>\n",
              "      <th>path</th>\n",
              "    </tr>\n",
              "  </thead>\n",
              "  <tbody>\n",
              "    <tr>\n",
              "      <th>2</th>\n",
              "      <td>TCGA_HT_A61A_20000127</td>\n",
              "      <td>/content/lgg-mri-segmentation/kaggle_3m/TCGA_H...</td>\n",
              "    </tr>\n",
              "    <tr>\n",
              "      <th>3</th>\n",
              "      <td>TCGA_HT_A61A_20000127</td>\n",
              "      <td>/content/lgg-mri-segmentation/kaggle_3m/TCGA_H...</td>\n",
              "    </tr>\n",
              "    <tr>\n",
              "      <th>6</th>\n",
              "      <td>TCGA_HT_A61A_20000127</td>\n",
              "      <td>/content/lgg-mri-segmentation/kaggle_3m/TCGA_H...</td>\n",
              "    </tr>\n",
              "    <tr>\n",
              "      <th>9</th>\n",
              "      <td>TCGA_HT_A61A_20000127</td>\n",
              "      <td>/content/lgg-mri-segmentation/kaggle_3m/TCGA_H...</td>\n",
              "    </tr>\n",
              "    <tr>\n",
              "      <th>10</th>\n",
              "      <td>TCGA_HT_A61A_20000127</td>\n",
              "      <td>/content/lgg-mri-segmentation/kaggle_3m/TCGA_H...</td>\n",
              "    </tr>\n",
              "  </tbody>\n",
              "</table>\n",
              "</div>\n",
              "      <button class=\"colab-df-convert\" onclick=\"convertToInteractive('df-b7094eb7-b52c-49e5-9a43-5201aee78b57')\"\n",
              "              title=\"Convert this dataframe to an interactive table.\"\n",
              "              style=\"display:none;\">\n",
              "        \n",
              "  <svg xmlns=\"http://www.w3.org/2000/svg\" height=\"24px\"viewBox=\"0 0 24 24\"\n",
              "       width=\"24px\">\n",
              "    <path d=\"M0 0h24v24H0V0z\" fill=\"none\"/>\n",
              "    <path d=\"M18.56 5.44l.94 2.06.94-2.06 2.06-.94-2.06-.94-.94-2.06-.94 2.06-2.06.94zm-11 1L8.5 8.5l.94-2.06 2.06-.94-2.06-.94L8.5 2.5l-.94 2.06-2.06.94zm10 10l.94 2.06.94-2.06 2.06-.94-2.06-.94-.94-2.06-.94 2.06-2.06.94z\"/><path d=\"M17.41 7.96l-1.37-1.37c-.4-.4-.92-.59-1.43-.59-.52 0-1.04.2-1.43.59L10.3 9.45l-7.72 7.72c-.78.78-.78 2.05 0 2.83L4 21.41c.39.39.9.59 1.41.59.51 0 1.02-.2 1.41-.59l7.78-7.78 2.81-2.81c.8-.78.8-2.07 0-2.86zM5.41 20L4 18.59l7.72-7.72 1.47 1.35L5.41 20z\"/>\n",
              "  </svg>\n",
              "      </button>\n",
              "      \n",
              "  <style>\n",
              "    .colab-df-container {\n",
              "      display:flex;\n",
              "      flex-wrap:wrap;\n",
              "      gap: 12px;\n",
              "    }\n",
              "\n",
              "    .colab-df-convert {\n",
              "      background-color: #E8F0FE;\n",
              "      border: none;\n",
              "      border-radius: 50%;\n",
              "      cursor: pointer;\n",
              "      display: none;\n",
              "      fill: #1967D2;\n",
              "      height: 32px;\n",
              "      padding: 0 0 0 0;\n",
              "      width: 32px;\n",
              "    }\n",
              "\n",
              "    .colab-df-convert:hover {\n",
              "      background-color: #E2EBFA;\n",
              "      box-shadow: 0px 1px 2px rgba(60, 64, 67, 0.3), 0px 1px 3px 1px rgba(60, 64, 67, 0.15);\n",
              "      fill: #174EA6;\n",
              "    }\n",
              "\n",
              "    [theme=dark] .colab-df-convert {\n",
              "      background-color: #3B4455;\n",
              "      fill: #D2E3FC;\n",
              "    }\n",
              "\n",
              "    [theme=dark] .colab-df-convert:hover {\n",
              "      background-color: #434B5C;\n",
              "      box-shadow: 0px 1px 3px 1px rgba(0, 0, 0, 0.15);\n",
              "      filter: drop-shadow(0px 1px 2px rgba(0, 0, 0, 0.3));\n",
              "      fill: #FFFFFF;\n",
              "    }\n",
              "  </style>\n",
              "\n",
              "      <script>\n",
              "        const buttonEl =\n",
              "          document.querySelector('#df-b7094eb7-b52c-49e5-9a43-5201aee78b57 button.colab-df-convert');\n",
              "        buttonEl.style.display =\n",
              "          google.colab.kernel.accessAllowed ? 'block' : 'none';\n",
              "\n",
              "        async function convertToInteractive(key) {\n",
              "          const element = document.querySelector('#df-b7094eb7-b52c-49e5-9a43-5201aee78b57');\n",
              "          const dataTable =\n",
              "            await google.colab.kernel.invokeFunction('convertToInteractive',\n",
              "                                                     [key], {});\n",
              "          if (!dataTable) return;\n",
              "\n",
              "          const docLinkHtml = 'Like what you see? Visit the ' +\n",
              "            '<a target=\"_blank\" href=https://colab.research.google.com/notebooks/data_table.ipynb>data table notebook</a>'\n",
              "            + ' to learn more about interactive tables.';\n",
              "          element.innerHTML = '';\n",
              "          dataTable['output_type'] = 'display_data';\n",
              "          await google.colab.output.renderOutput(dataTable, element);\n",
              "          const docLink = document.createElement('div');\n",
              "          docLink.innerHTML = docLinkHtml;\n",
              "          element.appendChild(docLink);\n",
              "        }\n",
              "      </script>\n",
              "    </div>\n",
              "  </div>\n",
              "  "
            ]
          },
          "metadata": {},
          "execution_count": 68
        }
      ]
    },
    {
      "cell_type": "code",
      "source": [
        "df = pd.DataFrame(\n",
        "    {\n",
        "        'patient': df_no_masks['dirname'].values,\n",
        "        'image_path': no_masks,\n",
        "        'mask_path': masks\n",
        "    }\n",
        ")"
      ],
      "metadata": {
        "id": "L2DfzcuA4Oj9"
      },
      "execution_count": 69,
      "outputs": []
    },
    {
      "cell_type": "code",
      "source": [
        "df.head()"
      ],
      "metadata": {
        "colab": {
          "base_uri": "https://localhost:8080/",
          "height": 206
        },
        "id": "HXibE8GqILEK",
        "outputId": "b39828be-d28b-40f2-8afe-2f77ac717b8c"
      },
      "execution_count": 70,
      "outputs": [
        {
          "output_type": "execute_result",
          "data": {
            "text/plain": [
              "                 patient                                         image_path  \\\n",
              "0  TCGA_HT_A61A_20000127  /content/lgg-mri-segmentation/kaggle_3m/TCGA_H...   \n",
              "1  TCGA_HT_A61A_20000127  /content/lgg-mri-segmentation/kaggle_3m/TCGA_D...   \n",
              "2  TCGA_HT_A61A_20000127  /content/lgg-mri-segmentation/kaggle_3m/TCGA_H...   \n",
              "3  TCGA_HT_A61A_20000127  /content/lgg-mri-segmentation/kaggle_3m/TCGA_D...   \n",
              "4  TCGA_HT_A61A_20000127  /content/lgg-mri-segmentation/kaggle_3m/TCGA_C...   \n",
              "\n",
              "                                           mask_path  \n",
              "0  /content/lgg-mri-segmentation/kaggle_3m/TCGA_H...  \n",
              "1  /content/lgg-mri-segmentation/kaggle_3m/TCGA_D...  \n",
              "2  /content/lgg-mri-segmentation/kaggle_3m/TCGA_H...  \n",
              "3  /content/lgg-mri-segmentation/kaggle_3m/TCGA_D...  \n",
              "4  /content/lgg-mri-segmentation/kaggle_3m/TCGA_C...  "
            ],
            "text/html": [
              "\n",
              "  <div id=\"df-51297a61-e36b-4d49-8e41-14d26708f295\">\n",
              "    <div class=\"colab-df-container\">\n",
              "      <div>\n",
              "<style scoped>\n",
              "    .dataframe tbody tr th:only-of-type {\n",
              "        vertical-align: middle;\n",
              "    }\n",
              "\n",
              "    .dataframe tbody tr th {\n",
              "        vertical-align: top;\n",
              "    }\n",
              "\n",
              "    .dataframe thead th {\n",
              "        text-align: right;\n",
              "    }\n",
              "</style>\n",
              "<table border=\"1\" class=\"dataframe\">\n",
              "  <thead>\n",
              "    <tr style=\"text-align: right;\">\n",
              "      <th></th>\n",
              "      <th>patient</th>\n",
              "      <th>image_path</th>\n",
              "      <th>mask_path</th>\n",
              "    </tr>\n",
              "  </thead>\n",
              "  <tbody>\n",
              "    <tr>\n",
              "      <th>0</th>\n",
              "      <td>TCGA_HT_A61A_20000127</td>\n",
              "      <td>/content/lgg-mri-segmentation/kaggle_3m/TCGA_H...</td>\n",
              "      <td>/content/lgg-mri-segmentation/kaggle_3m/TCGA_H...</td>\n",
              "    </tr>\n",
              "    <tr>\n",
              "      <th>1</th>\n",
              "      <td>TCGA_HT_A61A_20000127</td>\n",
              "      <td>/content/lgg-mri-segmentation/kaggle_3m/TCGA_D...</td>\n",
              "      <td>/content/lgg-mri-segmentation/kaggle_3m/TCGA_D...</td>\n",
              "    </tr>\n",
              "    <tr>\n",
              "      <th>2</th>\n",
              "      <td>TCGA_HT_A61A_20000127</td>\n",
              "      <td>/content/lgg-mri-segmentation/kaggle_3m/TCGA_H...</td>\n",
              "      <td>/content/lgg-mri-segmentation/kaggle_3m/TCGA_H...</td>\n",
              "    </tr>\n",
              "    <tr>\n",
              "      <th>3</th>\n",
              "      <td>TCGA_HT_A61A_20000127</td>\n",
              "      <td>/content/lgg-mri-segmentation/kaggle_3m/TCGA_D...</td>\n",
              "      <td>/content/lgg-mri-segmentation/kaggle_3m/TCGA_D...</td>\n",
              "    </tr>\n",
              "    <tr>\n",
              "      <th>4</th>\n",
              "      <td>TCGA_HT_A61A_20000127</td>\n",
              "      <td>/content/lgg-mri-segmentation/kaggle_3m/TCGA_C...</td>\n",
              "      <td>/content/lgg-mri-segmentation/kaggle_3m/TCGA_C...</td>\n",
              "    </tr>\n",
              "  </tbody>\n",
              "</table>\n",
              "</div>\n",
              "      <button class=\"colab-df-convert\" onclick=\"convertToInteractive('df-51297a61-e36b-4d49-8e41-14d26708f295')\"\n",
              "              title=\"Convert this dataframe to an interactive table.\"\n",
              "              style=\"display:none;\">\n",
              "        \n",
              "  <svg xmlns=\"http://www.w3.org/2000/svg\" height=\"24px\"viewBox=\"0 0 24 24\"\n",
              "       width=\"24px\">\n",
              "    <path d=\"M0 0h24v24H0V0z\" fill=\"none\"/>\n",
              "    <path d=\"M18.56 5.44l.94 2.06.94-2.06 2.06-.94-2.06-.94-.94-2.06-.94 2.06-2.06.94zm-11 1L8.5 8.5l.94-2.06 2.06-.94-2.06-.94L8.5 2.5l-.94 2.06-2.06.94zm10 10l.94 2.06.94-2.06 2.06-.94-2.06-.94-.94-2.06-.94 2.06-2.06.94z\"/><path d=\"M17.41 7.96l-1.37-1.37c-.4-.4-.92-.59-1.43-.59-.52 0-1.04.2-1.43.59L10.3 9.45l-7.72 7.72c-.78.78-.78 2.05 0 2.83L4 21.41c.39.39.9.59 1.41.59.51 0 1.02-.2 1.41-.59l7.78-7.78 2.81-2.81c.8-.78.8-2.07 0-2.86zM5.41 20L4 18.59l7.72-7.72 1.47 1.35L5.41 20z\"/>\n",
              "  </svg>\n",
              "      </button>\n",
              "      \n",
              "  <style>\n",
              "    .colab-df-container {\n",
              "      display:flex;\n",
              "      flex-wrap:wrap;\n",
              "      gap: 12px;\n",
              "    }\n",
              "\n",
              "    .colab-df-convert {\n",
              "      background-color: #E8F0FE;\n",
              "      border: none;\n",
              "      border-radius: 50%;\n",
              "      cursor: pointer;\n",
              "      display: none;\n",
              "      fill: #1967D2;\n",
              "      height: 32px;\n",
              "      padding: 0 0 0 0;\n",
              "      width: 32px;\n",
              "    }\n",
              "\n",
              "    .colab-df-convert:hover {\n",
              "      background-color: #E2EBFA;\n",
              "      box-shadow: 0px 1px 2px rgba(60, 64, 67, 0.3), 0px 1px 3px 1px rgba(60, 64, 67, 0.15);\n",
              "      fill: #174EA6;\n",
              "    }\n",
              "\n",
              "    [theme=dark] .colab-df-convert {\n",
              "      background-color: #3B4455;\n",
              "      fill: #D2E3FC;\n",
              "    }\n",
              "\n",
              "    [theme=dark] .colab-df-convert:hover {\n",
              "      background-color: #434B5C;\n",
              "      box-shadow: 0px 1px 3px 1px rgba(0, 0, 0, 0.15);\n",
              "      filter: drop-shadow(0px 1px 2px rgba(0, 0, 0, 0.3));\n",
              "      fill: #FFFFFF;\n",
              "    }\n",
              "  </style>\n",
              "\n",
              "      <script>\n",
              "        const buttonEl =\n",
              "          document.querySelector('#df-51297a61-e36b-4d49-8e41-14d26708f295 button.colab-df-convert');\n",
              "        buttonEl.style.display =\n",
              "          google.colab.kernel.accessAllowed ? 'block' : 'none';\n",
              "\n",
              "        async function convertToInteractive(key) {\n",
              "          const element = document.querySelector('#df-51297a61-e36b-4d49-8e41-14d26708f295');\n",
              "          const dataTable =\n",
              "            await google.colab.kernel.invokeFunction('convertToInteractive',\n",
              "                                                     [key], {});\n",
              "          if (!dataTable) return;\n",
              "\n",
              "          const docLinkHtml = 'Like what you see? Visit the ' +\n",
              "            '<a target=\"_blank\" href=https://colab.research.google.com/notebooks/data_table.ipynb>data table notebook</a>'\n",
              "            + ' to learn more about interactive tables.';\n",
              "          element.innerHTML = '';\n",
              "          dataTable['output_type'] = 'display_data';\n",
              "          await google.colab.output.renderOutput(dataTable, element);\n",
              "          const docLink = document.createElement('div');\n",
              "          docLink.innerHTML = docLinkHtml;\n",
              "          element.appendChild(docLink);\n",
              "        }\n",
              "      </script>\n",
              "    </div>\n",
              "  </div>\n",
              "  "
            ]
          },
          "metadata": {},
          "execution_count": 70
        }
      ]
    },
    {
      "cell_type": "code",
      "source": [
        "# if at least one pixel contains something greater than 0\n",
        "diagnos = lambda path: 1 if np.max(cv2.imread(path)) > 0 else 0\n",
        "\n",
        "df[\"diagnosis\"] = df[\"mask_path\"].apply(diagnos)"
      ],
      "metadata": {
        "id": "JDPBKXhUIMgB"
      },
      "execution_count": 71,
      "outputs": []
    },
    {
      "cell_type": "code",
      "source": [
        "df.head()"
      ],
      "metadata": {
        "colab": {
          "base_uri": "https://localhost:8080/",
          "height": 206
        },
        "id": "RnFL18AOIOEv",
        "outputId": "eb48ab66-f264-41a4-ad00-798899dcb239"
      },
      "execution_count": 72,
      "outputs": [
        {
          "output_type": "execute_result",
          "data": {
            "text/plain": [
              "                 patient                                         image_path  \\\n",
              "0  TCGA_HT_A61A_20000127  /content/lgg-mri-segmentation/kaggle_3m/TCGA_H...   \n",
              "1  TCGA_HT_A61A_20000127  /content/lgg-mri-segmentation/kaggle_3m/TCGA_D...   \n",
              "2  TCGA_HT_A61A_20000127  /content/lgg-mri-segmentation/kaggle_3m/TCGA_H...   \n",
              "3  TCGA_HT_A61A_20000127  /content/lgg-mri-segmentation/kaggle_3m/TCGA_D...   \n",
              "4  TCGA_HT_A61A_20000127  /content/lgg-mri-segmentation/kaggle_3m/TCGA_C...   \n",
              "\n",
              "                                           mask_path  diagnosis  \n",
              "0  /content/lgg-mri-segmentation/kaggle_3m/TCGA_H...          0  \n",
              "1  /content/lgg-mri-segmentation/kaggle_3m/TCGA_D...          0  \n",
              "2  /content/lgg-mri-segmentation/kaggle_3m/TCGA_H...          0  \n",
              "3  /content/lgg-mri-segmentation/kaggle_3m/TCGA_D...          0  \n",
              "4  /content/lgg-mri-segmentation/kaggle_3m/TCGA_C...          0  "
            ],
            "text/html": [
              "\n",
              "  <div id=\"df-2f70f9be-8c49-4ba5-af40-951a02eb6720\">\n",
              "    <div class=\"colab-df-container\">\n",
              "      <div>\n",
              "<style scoped>\n",
              "    .dataframe tbody tr th:only-of-type {\n",
              "        vertical-align: middle;\n",
              "    }\n",
              "\n",
              "    .dataframe tbody tr th {\n",
              "        vertical-align: top;\n",
              "    }\n",
              "\n",
              "    .dataframe thead th {\n",
              "        text-align: right;\n",
              "    }\n",
              "</style>\n",
              "<table border=\"1\" class=\"dataframe\">\n",
              "  <thead>\n",
              "    <tr style=\"text-align: right;\">\n",
              "      <th></th>\n",
              "      <th>patient</th>\n",
              "      <th>image_path</th>\n",
              "      <th>mask_path</th>\n",
              "      <th>diagnosis</th>\n",
              "    </tr>\n",
              "  </thead>\n",
              "  <tbody>\n",
              "    <tr>\n",
              "      <th>0</th>\n",
              "      <td>TCGA_HT_A61A_20000127</td>\n",
              "      <td>/content/lgg-mri-segmentation/kaggle_3m/TCGA_H...</td>\n",
              "      <td>/content/lgg-mri-segmentation/kaggle_3m/TCGA_H...</td>\n",
              "      <td>0</td>\n",
              "    </tr>\n",
              "    <tr>\n",
              "      <th>1</th>\n",
              "      <td>TCGA_HT_A61A_20000127</td>\n",
              "      <td>/content/lgg-mri-segmentation/kaggle_3m/TCGA_D...</td>\n",
              "      <td>/content/lgg-mri-segmentation/kaggle_3m/TCGA_D...</td>\n",
              "      <td>0</td>\n",
              "    </tr>\n",
              "    <tr>\n",
              "      <th>2</th>\n",
              "      <td>TCGA_HT_A61A_20000127</td>\n",
              "      <td>/content/lgg-mri-segmentation/kaggle_3m/TCGA_H...</td>\n",
              "      <td>/content/lgg-mri-segmentation/kaggle_3m/TCGA_H...</td>\n",
              "      <td>0</td>\n",
              "    </tr>\n",
              "    <tr>\n",
              "      <th>3</th>\n",
              "      <td>TCGA_HT_A61A_20000127</td>\n",
              "      <td>/content/lgg-mri-segmentation/kaggle_3m/TCGA_D...</td>\n",
              "      <td>/content/lgg-mri-segmentation/kaggle_3m/TCGA_D...</td>\n",
              "      <td>0</td>\n",
              "    </tr>\n",
              "    <tr>\n",
              "      <th>4</th>\n",
              "      <td>TCGA_HT_A61A_20000127</td>\n",
              "      <td>/content/lgg-mri-segmentation/kaggle_3m/TCGA_C...</td>\n",
              "      <td>/content/lgg-mri-segmentation/kaggle_3m/TCGA_C...</td>\n",
              "      <td>0</td>\n",
              "    </tr>\n",
              "  </tbody>\n",
              "</table>\n",
              "</div>\n",
              "      <button class=\"colab-df-convert\" onclick=\"convertToInteractive('df-2f70f9be-8c49-4ba5-af40-951a02eb6720')\"\n",
              "              title=\"Convert this dataframe to an interactive table.\"\n",
              "              style=\"display:none;\">\n",
              "        \n",
              "  <svg xmlns=\"http://www.w3.org/2000/svg\" height=\"24px\"viewBox=\"0 0 24 24\"\n",
              "       width=\"24px\">\n",
              "    <path d=\"M0 0h24v24H0V0z\" fill=\"none\"/>\n",
              "    <path d=\"M18.56 5.44l.94 2.06.94-2.06 2.06-.94-2.06-.94-.94-2.06-.94 2.06-2.06.94zm-11 1L8.5 8.5l.94-2.06 2.06-.94-2.06-.94L8.5 2.5l-.94 2.06-2.06.94zm10 10l.94 2.06.94-2.06 2.06-.94-2.06-.94-.94-2.06-.94 2.06-2.06.94z\"/><path d=\"M17.41 7.96l-1.37-1.37c-.4-.4-.92-.59-1.43-.59-.52 0-1.04.2-1.43.59L10.3 9.45l-7.72 7.72c-.78.78-.78 2.05 0 2.83L4 21.41c.39.39.9.59 1.41.59.51 0 1.02-.2 1.41-.59l7.78-7.78 2.81-2.81c.8-.78.8-2.07 0-2.86zM5.41 20L4 18.59l7.72-7.72 1.47 1.35L5.41 20z\"/>\n",
              "  </svg>\n",
              "      </button>\n",
              "      \n",
              "  <style>\n",
              "    .colab-df-container {\n",
              "      display:flex;\n",
              "      flex-wrap:wrap;\n",
              "      gap: 12px;\n",
              "    }\n",
              "\n",
              "    .colab-df-convert {\n",
              "      background-color: #E8F0FE;\n",
              "      border: none;\n",
              "      border-radius: 50%;\n",
              "      cursor: pointer;\n",
              "      display: none;\n",
              "      fill: #1967D2;\n",
              "      height: 32px;\n",
              "      padding: 0 0 0 0;\n",
              "      width: 32px;\n",
              "    }\n",
              "\n",
              "    .colab-df-convert:hover {\n",
              "      background-color: #E2EBFA;\n",
              "      box-shadow: 0px 1px 2px rgba(60, 64, 67, 0.3), 0px 1px 3px 1px rgba(60, 64, 67, 0.15);\n",
              "      fill: #174EA6;\n",
              "    }\n",
              "\n",
              "    [theme=dark] .colab-df-convert {\n",
              "      background-color: #3B4455;\n",
              "      fill: #D2E3FC;\n",
              "    }\n",
              "\n",
              "    [theme=dark] .colab-df-convert:hover {\n",
              "      background-color: #434B5C;\n",
              "      box-shadow: 0px 1px 3px 1px rgba(0, 0, 0, 0.15);\n",
              "      filter: drop-shadow(0px 1px 2px rgba(0, 0, 0, 0.3));\n",
              "      fill: #FFFFFF;\n",
              "    }\n",
              "  </style>\n",
              "\n",
              "      <script>\n",
              "        const buttonEl =\n",
              "          document.querySelector('#df-2f70f9be-8c49-4ba5-af40-951a02eb6720 button.colab-df-convert');\n",
              "        buttonEl.style.display =\n",
              "          google.colab.kernel.accessAllowed ? 'block' : 'none';\n",
              "\n",
              "        async function convertToInteractive(key) {\n",
              "          const element = document.querySelector('#df-2f70f9be-8c49-4ba5-af40-951a02eb6720');\n",
              "          const dataTable =\n",
              "            await google.colab.kernel.invokeFunction('convertToInteractive',\n",
              "                                                     [key], {});\n",
              "          if (!dataTable) return;\n",
              "\n",
              "          const docLinkHtml = 'Like what you see? Visit the ' +\n",
              "            '<a target=\"_blank\" href=https://colab.research.google.com/notebooks/data_table.ipynb>data table notebook</a>'\n",
              "            + ' to learn more about interactive tables.';\n",
              "          element.innerHTML = '';\n",
              "          dataTable['output_type'] = 'display_data';\n",
              "          await google.colab.output.renderOutput(dataTable, element);\n",
              "          const docLink = document.createElement('div');\n",
              "          docLink.innerHTML = docLinkHtml;\n",
              "          element.appendChild(docLink);\n",
              "        }\n",
              "      </script>\n",
              "    </div>\n",
              "  </div>\n",
              "  "
            ]
          },
          "metadata": {},
          "execution_count": 72
        }
      ]
    },
    {
      "cell_type": "code",
      "source": [
        "df.sort_values('diagnosis', ascending=False)[:10]"
      ],
      "metadata": {
        "colab": {
          "base_uri": "https://localhost:8080/",
          "height": 362
        },
        "id": "oYV98VUeIPgA",
        "outputId": "05023188-d892-4693-bfed-efc10c5809bb"
      },
      "execution_count": 73,
      "outputs": [
        {
          "output_type": "execute_result",
          "data": {
            "text/plain": [
              "                    patient  \\\n",
              "2876  TCGA_DU_6407_19860514   \n",
              "1641  TCGA_CS_4944_20010208   \n",
              "1000  TCGA_DU_7018_19911220   \n",
              "999   TCGA_DU_7018_19911220   \n",
              "997   TCGA_DU_7018_19911220   \n",
              "2595  TCGA_FG_6690_20020226   \n",
              "995   TCGA_DU_7018_19911220   \n",
              "1644  TCGA_CS_4944_20010208   \n",
              "1645  TCGA_CS_4944_20010208   \n",
              "2992  TCGA_DU_6404_19850629   \n",
              "\n",
              "                                             image_path  \\\n",
              "2876  /content/lgg-mri-segmentation/kaggle_3m/TCGA_D...   \n",
              "1641  /content/lgg-mri-segmentation/kaggle_3m/TCGA_H...   \n",
              "1000  /content/lgg-mri-segmentation/kaggle_3m/TCGA_H...   \n",
              "999   /content/lgg-mri-segmentation/kaggle_3m/TCGA_D...   \n",
              "997   /content/lgg-mri-segmentation/kaggle_3m/TCGA_C...   \n",
              "2595  /content/lgg-mri-segmentation/kaggle_3m/TCGA_D...   \n",
              "995   /content/lgg-mri-segmentation/kaggle_3m/TCGA_C...   \n",
              "1644  /content/lgg-mri-segmentation/kaggle_3m/TCGA_H...   \n",
              "1645  /content/lgg-mri-segmentation/kaggle_3m/TCGA_H...   \n",
              "2992  /content/lgg-mri-segmentation/kaggle_3m/TCGA_D...   \n",
              "\n",
              "                                              mask_path  diagnosis  \n",
              "2876  /content/lgg-mri-segmentation/kaggle_3m/TCGA_D...          1  \n",
              "1641  /content/lgg-mri-segmentation/kaggle_3m/TCGA_H...          1  \n",
              "1000  /content/lgg-mri-segmentation/kaggle_3m/TCGA_H...          1  \n",
              "999   /content/lgg-mri-segmentation/kaggle_3m/TCGA_D...          1  \n",
              "997   /content/lgg-mri-segmentation/kaggle_3m/TCGA_C...          1  \n",
              "2595  /content/lgg-mri-segmentation/kaggle_3m/TCGA_D...          1  \n",
              "995   /content/lgg-mri-segmentation/kaggle_3m/TCGA_C...          1  \n",
              "1644  /content/lgg-mri-segmentation/kaggle_3m/TCGA_H...          1  \n",
              "1645  /content/lgg-mri-segmentation/kaggle_3m/TCGA_H...          1  \n",
              "2992  /content/lgg-mri-segmentation/kaggle_3m/TCGA_D...          1  "
            ],
            "text/html": [
              "\n",
              "  <div id=\"df-0f64f755-cb55-4518-b46a-55efc45be28d\">\n",
              "    <div class=\"colab-df-container\">\n",
              "      <div>\n",
              "<style scoped>\n",
              "    .dataframe tbody tr th:only-of-type {\n",
              "        vertical-align: middle;\n",
              "    }\n",
              "\n",
              "    .dataframe tbody tr th {\n",
              "        vertical-align: top;\n",
              "    }\n",
              "\n",
              "    .dataframe thead th {\n",
              "        text-align: right;\n",
              "    }\n",
              "</style>\n",
              "<table border=\"1\" class=\"dataframe\">\n",
              "  <thead>\n",
              "    <tr style=\"text-align: right;\">\n",
              "      <th></th>\n",
              "      <th>patient</th>\n",
              "      <th>image_path</th>\n",
              "      <th>mask_path</th>\n",
              "      <th>diagnosis</th>\n",
              "    </tr>\n",
              "  </thead>\n",
              "  <tbody>\n",
              "    <tr>\n",
              "      <th>2876</th>\n",
              "      <td>TCGA_DU_6407_19860514</td>\n",
              "      <td>/content/lgg-mri-segmentation/kaggle_3m/TCGA_D...</td>\n",
              "      <td>/content/lgg-mri-segmentation/kaggle_3m/TCGA_D...</td>\n",
              "      <td>1</td>\n",
              "    </tr>\n",
              "    <tr>\n",
              "      <th>1641</th>\n",
              "      <td>TCGA_CS_4944_20010208</td>\n",
              "      <td>/content/lgg-mri-segmentation/kaggle_3m/TCGA_H...</td>\n",
              "      <td>/content/lgg-mri-segmentation/kaggle_3m/TCGA_H...</td>\n",
              "      <td>1</td>\n",
              "    </tr>\n",
              "    <tr>\n",
              "      <th>1000</th>\n",
              "      <td>TCGA_DU_7018_19911220</td>\n",
              "      <td>/content/lgg-mri-segmentation/kaggle_3m/TCGA_H...</td>\n",
              "      <td>/content/lgg-mri-segmentation/kaggle_3m/TCGA_H...</td>\n",
              "      <td>1</td>\n",
              "    </tr>\n",
              "    <tr>\n",
              "      <th>999</th>\n",
              "      <td>TCGA_DU_7018_19911220</td>\n",
              "      <td>/content/lgg-mri-segmentation/kaggle_3m/TCGA_D...</td>\n",
              "      <td>/content/lgg-mri-segmentation/kaggle_3m/TCGA_D...</td>\n",
              "      <td>1</td>\n",
              "    </tr>\n",
              "    <tr>\n",
              "      <th>997</th>\n",
              "      <td>TCGA_DU_7018_19911220</td>\n",
              "      <td>/content/lgg-mri-segmentation/kaggle_3m/TCGA_C...</td>\n",
              "      <td>/content/lgg-mri-segmentation/kaggle_3m/TCGA_C...</td>\n",
              "      <td>1</td>\n",
              "    </tr>\n",
              "    <tr>\n",
              "      <th>2595</th>\n",
              "      <td>TCGA_FG_6690_20020226</td>\n",
              "      <td>/content/lgg-mri-segmentation/kaggle_3m/TCGA_D...</td>\n",
              "      <td>/content/lgg-mri-segmentation/kaggle_3m/TCGA_D...</td>\n",
              "      <td>1</td>\n",
              "    </tr>\n",
              "    <tr>\n",
              "      <th>995</th>\n",
              "      <td>TCGA_DU_7018_19911220</td>\n",
              "      <td>/content/lgg-mri-segmentation/kaggle_3m/TCGA_C...</td>\n",
              "      <td>/content/lgg-mri-segmentation/kaggle_3m/TCGA_C...</td>\n",
              "      <td>1</td>\n",
              "    </tr>\n",
              "    <tr>\n",
              "      <th>1644</th>\n",
              "      <td>TCGA_CS_4944_20010208</td>\n",
              "      <td>/content/lgg-mri-segmentation/kaggle_3m/TCGA_H...</td>\n",
              "      <td>/content/lgg-mri-segmentation/kaggle_3m/TCGA_H...</td>\n",
              "      <td>1</td>\n",
              "    </tr>\n",
              "    <tr>\n",
              "      <th>1645</th>\n",
              "      <td>TCGA_CS_4944_20010208</td>\n",
              "      <td>/content/lgg-mri-segmentation/kaggle_3m/TCGA_H...</td>\n",
              "      <td>/content/lgg-mri-segmentation/kaggle_3m/TCGA_H...</td>\n",
              "      <td>1</td>\n",
              "    </tr>\n",
              "    <tr>\n",
              "      <th>2992</th>\n",
              "      <td>TCGA_DU_6404_19850629</td>\n",
              "      <td>/content/lgg-mri-segmentation/kaggle_3m/TCGA_D...</td>\n",
              "      <td>/content/lgg-mri-segmentation/kaggle_3m/TCGA_D...</td>\n",
              "      <td>1</td>\n",
              "    </tr>\n",
              "  </tbody>\n",
              "</table>\n",
              "</div>\n",
              "      <button class=\"colab-df-convert\" onclick=\"convertToInteractive('df-0f64f755-cb55-4518-b46a-55efc45be28d')\"\n",
              "              title=\"Convert this dataframe to an interactive table.\"\n",
              "              style=\"display:none;\">\n",
              "        \n",
              "  <svg xmlns=\"http://www.w3.org/2000/svg\" height=\"24px\"viewBox=\"0 0 24 24\"\n",
              "       width=\"24px\">\n",
              "    <path d=\"M0 0h24v24H0V0z\" fill=\"none\"/>\n",
              "    <path d=\"M18.56 5.44l.94 2.06.94-2.06 2.06-.94-2.06-.94-.94-2.06-.94 2.06-2.06.94zm-11 1L8.5 8.5l.94-2.06 2.06-.94-2.06-.94L8.5 2.5l-.94 2.06-2.06.94zm10 10l.94 2.06.94-2.06 2.06-.94-2.06-.94-.94-2.06-.94 2.06-2.06.94z\"/><path d=\"M17.41 7.96l-1.37-1.37c-.4-.4-.92-.59-1.43-.59-.52 0-1.04.2-1.43.59L10.3 9.45l-7.72 7.72c-.78.78-.78 2.05 0 2.83L4 21.41c.39.39.9.59 1.41.59.51 0 1.02-.2 1.41-.59l7.78-7.78 2.81-2.81c.8-.78.8-2.07 0-2.86zM5.41 20L4 18.59l7.72-7.72 1.47 1.35L5.41 20z\"/>\n",
              "  </svg>\n",
              "      </button>\n",
              "      \n",
              "  <style>\n",
              "    .colab-df-container {\n",
              "      display:flex;\n",
              "      flex-wrap:wrap;\n",
              "      gap: 12px;\n",
              "    }\n",
              "\n",
              "    .colab-df-convert {\n",
              "      background-color: #E8F0FE;\n",
              "      border: none;\n",
              "      border-radius: 50%;\n",
              "      cursor: pointer;\n",
              "      display: none;\n",
              "      fill: #1967D2;\n",
              "      height: 32px;\n",
              "      padding: 0 0 0 0;\n",
              "      width: 32px;\n",
              "    }\n",
              "\n",
              "    .colab-df-convert:hover {\n",
              "      background-color: #E2EBFA;\n",
              "      box-shadow: 0px 1px 2px rgba(60, 64, 67, 0.3), 0px 1px 3px 1px rgba(60, 64, 67, 0.15);\n",
              "      fill: #174EA6;\n",
              "    }\n",
              "\n",
              "    [theme=dark] .colab-df-convert {\n",
              "      background-color: #3B4455;\n",
              "      fill: #D2E3FC;\n",
              "    }\n",
              "\n",
              "    [theme=dark] .colab-df-convert:hover {\n",
              "      background-color: #434B5C;\n",
              "      box-shadow: 0px 1px 3px 1px rgba(0, 0, 0, 0.15);\n",
              "      filter: drop-shadow(0px 1px 2px rgba(0, 0, 0, 0.3));\n",
              "      fill: #FFFFFF;\n",
              "    }\n",
              "  </style>\n",
              "\n",
              "      <script>\n",
              "        const buttonEl =\n",
              "          document.querySelector('#df-0f64f755-cb55-4518-b46a-55efc45be28d button.colab-df-convert');\n",
              "        buttonEl.style.display =\n",
              "          google.colab.kernel.accessAllowed ? 'block' : 'none';\n",
              "\n",
              "        async function convertToInteractive(key) {\n",
              "          const element = document.querySelector('#df-0f64f755-cb55-4518-b46a-55efc45be28d');\n",
              "          const dataTable =\n",
              "            await google.colab.kernel.invokeFunction('convertToInteractive',\n",
              "                                                     [key], {});\n",
              "          if (!dataTable) return;\n",
              "\n",
              "          const docLinkHtml = 'Like what you see? Visit the ' +\n",
              "            '<a target=\"_blank\" href=https://colab.research.google.com/notebooks/data_table.ipynb>data table notebook</a>'\n",
              "            + ' to learn more about interactive tables.';\n",
              "          element.innerHTML = '';\n",
              "          dataTable['output_type'] = 'display_data';\n",
              "          await google.colab.output.renderOutput(dataTable, element);\n",
              "          const docLink = document.createElement('div');\n",
              "          docLink.innerHTML = docLinkHtml;\n",
              "          element.appendChild(docLink);\n",
              "        }\n",
              "      </script>\n",
              "    </div>\n",
              "  </div>\n",
              "  "
            ]
          },
          "metadata": {},
          "execution_count": 73
        }
      ]
    },
    {
      "cell_type": "code",
      "source": [
        "df['diagnosis'].value_counts() / df.shape[0]"
      ],
      "metadata": {
        "colab": {
          "base_uri": "https://localhost:8080/"
        },
        "id": "7QDqGY7kIRE9",
        "outputId": "df20134a-182e-4cbd-89bb-6d42416854c3"
      },
      "execution_count": 74,
      "outputs": [
        {
          "output_type": "execute_result",
          "data": {
            "text/plain": [
              "0    0.650547\n",
              "1    0.349453\n",
              "Name: diagnosis, dtype: float64"
            ]
          },
          "metadata": {},
          "execution_count": 74
        }
      ]
    },
    {
      "cell_type": "code",
      "source": [
        "X_train, X_test = train_test_split(df, stratify=df['diagnosis'], test_size=0.15, random_state=42)\n",
        "X_train, X_valid = train_test_split(X_train, stratify=X_train['diagnosis'], test_size=0.15, random_state=42)\n",
        "\n",
        "X_train = X_train.reset_index(drop=True)\n",
        "X_test = X_test.reset_index(drop=True)\n",
        "X_valid = X_valid.reset_index(drop=True)\n",
        "\n",
        "print(X_train['diagnosis'].value_counts() / X_train.shape[0])\n",
        "print(X_valid['diagnosis'].value_counts() / X_valid.shape[0])\n",
        "print(X_test['diagnosis'].value_counts() / X_test.shape[0])"
      ],
      "metadata": {
        "colab": {
          "base_uri": "https://localhost:8080/"
        },
        "id": "Iyv9pdzJITQq",
        "outputId": "cdb51635-cf72-4032-903c-a01a75b5f14c"
      },
      "execution_count": 75,
      "outputs": [
        {
          "output_type": "stream",
          "name": "stdout",
          "text": [
            "0    0.650458\n",
            "1    0.349542\n",
            "Name: diagnosis, dtype: float64\n",
            "0    0.650699\n",
            "1    0.349301\n",
            "Name: diagnosis, dtype: float64\n",
            "0    0.650847\n",
            "1    0.349153\n",
            "Name: diagnosis, dtype: float64\n"
          ]
        }
      ]
    },
    {
      "cell_type": "code",
      "source": [
        "class MRISegmantation(Dataset):\n",
        "    def __init__(self, dataframe, transforms):\n",
        "        \n",
        "        self.dataframe = dataframe\n",
        "        self.transforms = transforms\n",
        "        \n",
        "    def __len__(self):\n",
        "        return self.dataframe.shape[0]\n",
        "    \n",
        "    def __getitem__(self, idx):\n",
        "#         image = cv2.imread(self.dataframe.iloc[idx, 1])\n",
        "#         mask = cv2.imread(self.dataframe.iloc[idx, 2], 0)\n",
        "        \n",
        "        image = Image.open(self.dataframe.iloc[idx, 1]).convert('RGB')\n",
        "        mask = Image.open(self.dataframe.iloc[idx, 2]).convert('L')\n",
        "    \n",
        "        seed = np.random.randint(2147483647)\n",
        "        random.seed(seed)\n",
        "        torch.manual_seed(seed)\n",
        "\n",
        "        image = self.transforms(image)\n",
        "        \n",
        "        random.seed(seed)\n",
        "        torch.manual_seed(seed)\n",
        "        \n",
        "        mask = self.transforms(mask)\n",
        "\n",
        "        return image, mask"
      ],
      "metadata": {
        "id": "DkBZi4c4IVGV"
      },
      "execution_count": 76,
      "outputs": []
    },
    {
      "cell_type": "code",
      "source": [
        "mean, std = 0.5, 0.5\n",
        "shape = 224\n",
        "\n",
        "transform = transforms.Compose([\n",
        "    transforms.Resize((shape, shape)),\n",
        "    transforms.RandomHorizontalFlip(),\n",
        "    transforms.RandomVerticalFlip(),\n",
        "    transforms.RandomRotation(90),\n",
        "    transforms.RandomAffine(degrees=15, translate=(0.1, 0.1), scale=(0.8, 0.8)),\n",
        "#     transforms.ToPILImage(),\n",
        "    transforms.ToTensor(),\n",
        "#     transforms.Normalize(mean=[mean], std=[std]),\n",
        "])\n",
        "\n",
        "# plt.imshow(transform) / show each transformation\n"
      ],
      "metadata": {
        "id": "8CzeULhVIYuG"
      },
      "execution_count": 77,
      "outputs": []
    },
    {
      "cell_type": "code",
      "source": [
        "batch_size = 16\n",
        "\n",
        "train_dataset = MRISegmantation(dataframe=X_train, transforms=transform)\n",
        "train_loader = DataLoader(train_dataset, batch_size=batch_size, shuffle=True, num_workers=0)\n",
        "\n",
        "valid_dataset = MRISegmantation(dataframe=X_valid, transforms=transform)\n",
        "valid_loader = DataLoader(valid_dataset, batch_size=batch_size, shuffle=True, num_workers=0)\n",
        "\n",
        "test_dataset = MRISegmantation(dataframe=X_test, transforms=transforms.Compose([\n",
        "    transforms.Resize((shape, shape)),\n",
        "    transforms.ToTensor(),\n",
        "]))\n",
        "test_loader = DataLoader(test_dataset, batch_size=batch_size, shuffle=False, num_workers=0)"
      ],
      "metadata": {
        "id": "M4TBviUhIaeV"
      },
      "execution_count": 78,
      "outputs": []
    },
    {
      "cell_type": "code",
      "source": [
        "def plot_example(loader, ax, shape):\n",
        "    images, target = next(iter(loader))\n",
        "    ind = np.random.choice(range(loader.batch_size))\n",
        "\n",
        "#     try:\n",
        "#         ind = random.choice([i for i in range(images.shape[0]) if np.max(target[i].permute(1, 2, 0).cpu().detach().numpy()) > 0])\n",
        "#     except IndexError:\n",
        "#         images, target = next(iter(loader))\n",
        "#         ind = random.choice([i for i in range(images.shape[0]) if np.max(target[i].permute(1, 2, 0).cpu().detach().numpy()) > 0])\n",
        "    \n",
        "    image = images[ind].permute(1, 2, 0)\n",
        "    target = target[ind].permute(1, 2, 0).reshape(shape, shape)\n",
        "    target = Image.fromarray(np.asarray(target * 255, dtype=np.uint8)).convert('RGB')\n",
        "    target = np.asarray(target)\n",
        "\n",
        "    ax.imshow(np.hstack([image, target]))\n",
        "    ax.set_title('Source / Target', fontsize=14)"
      ],
      "metadata": {
        "id": "QODP08PUIb-H"
      },
      "execution_count": 79,
      "outputs": []
    },
    {
      "cell_type": "code",
      "source": [
        "fig, axes = plt.subplots(nrows=5, ncols=4, figsize=(20, 15))\n",
        "\n",
        "for ax in axes.flatten():\n",
        "    plot_example(loader=test_loader, ax=ax, shape=shape)"
      ],
      "metadata": {
        "colab": {
          "base_uri": "https://localhost:8080/",
          "height": 878
        },
        "id": "ast5SerMId3m",
        "outputId": "148c686a-b0c3-42b7-9724-9396d1c7991b"
      },
      "execution_count": 80,
      "outputs": [
        {
          "output_type": "stream",
          "name": "stderr",
          "text": [
            "WARNING:matplotlib.image:Clipping input data to the valid range for imshow with RGB data ([0..1] for floats or [0..255] for integers).\n"
          ]
        },
        {
          "output_type": "display_data",
          "data": {
            "text/plain": [
              "<Figure size 1440x1080 with 20 Axes>"
            ],
            "image/png": "[encoded data removed]"
          },
          "metadata": {
            "needs_background": "light"
          }
        }
      ]
    },
    {
      "cell_type": "code",
      "source": [
        "def dice2(y_pred, y_true, eps=1e-7):\n",
        "#     intersect = (y_pred * y_true).sum()\n",
        "#     return 1 - 2 * (intersect + eps) / (y_pred.sum() + y_true.sum() + eps)\n",
        "\n",
        "    iflat = y_pred.view(-1)\n",
        "    tflat = y_true.view(-1)\n",
        "    intersection = (iflat * tflat).sum()\n",
        "    \n",
        "    return 1 - ((2. * intersection + eps) / (iflat.sum() + tflat.sum() + eps))"
      ],
      "metadata": {
        "id": "3wGPQyYXIfdz"
      },
      "execution_count": 81,
      "outputs": []
    },
    {
      "cell_type": "code",
      "source": [
        "def bce_dice(y_pred, y_true):\n",
        "    dice_loss = dice2(y_pred, y_true)\n",
        "    bce_score = nn.BCELoss()\n",
        "    bce_loss = bce_score(y_pred, y_true)\n",
        "    \n",
        "    return dice_loss + bce_loss\n",
        "#    return dice_loss"
      ],
      "metadata": {
        "id": "eg_ei5vmIine"
      },
      "execution_count": 86,
      "outputs": []
    },
    {
      "cell_type": "code",
      "source": [
        "x = torch.tensor([0., 0., 0., 1., 1., 1., 0., 0.])\n",
        "y = torch.tensor([0., 0., 1., 1., 1., 1., 1., 0.])\n",
        "dice2(x, x), dice2(x, y)"
      ],
      "metadata": {
        "id": "huX0v3sGIkHM"
      },
      "execution_count": null,
      "outputs": []
    },
    {
      "cell_type": "code",
      "source": [
        "def make_dirr(name):\n",
        "    try:\n",
        "        os.makedirs(name)\n",
        "    except FileExistsError:\n",
        "        pass"
      ],
      "metadata": {
        "id": "49KPLxmBImRy"
      },
      "execution_count": 83,
      "outputs": []
    },
    {
      "cell_type": "code",
      "source": [
        "def train_model(model, optimizer, epochs, scheduler, train_data_loader, valid_data_loader, early_stopping=5, checkpoint_dirr=f'./checkpoint{1}/'):\n",
        "    # loss metric\n",
        "    metrics = defaultdict(list)\n",
        "    best_loss = np.inf\n",
        "    \n",
        "    # for an early stop\n",
        "    early_count = 0\n",
        "    \n",
        "    # directory\n",
        "    make_dirr(checkpoint_dirr)\n",
        "    \n",
        "    for epoch in range(epochs):\n",
        "        model.train()\n",
        "        train_loss = 0\n",
        "        metric = 0\n",
        "        scheduler.step()\n",
        "        \n",
        "        with tqdm(train_data_loader, unit=\"batch\") as tepoch:\n",
        "            tepoch.set_description(f\"Epoch {epoch}\")\n",
        "            \n",
        "            for i, (images, target) in enumerate(tepoch):\n",
        "                # device optimization\n",
        "                images = images.to(device)\n",
        "                target = target.to(device) \n",
        "                \n",
        "                # in 64 bits\n",
        "#                 target = target.long()\n",
        "                \n",
        "                # zero out the gradient before backpropagation\n",
        "                optimizer.zero_grad()\n",
        "                \n",
        "                # prediction\n",
        "                preds = model(images)\n",
        "                \n",
        "                # loss function\n",
        "                loss = bce_dice(preds, target)\n",
        "                \n",
        "                # calculate the loss gradient\n",
        "                loss.backward()\n",
        "                \n",
        "                # update settings\n",
        "                optimizer.step()\n",
        "                \n",
        "                # measuring metrics\n",
        "                train_loss += loss.item()\n",
        "                \n",
        "                tepoch.set_postfix(loss=train_loss / (i + 1), lr=scheduler.get_lr()[0])\n",
        "                \n",
        "            metrics['loss'].append(train_loss / (i + 1))\n",
        "            \n",
        "        # eval mode\n",
        "        model.eval()\n",
        "        \n",
        "        sleep(0.1)\n",
        "\n",
        "        with torch.no_grad():\n",
        "            valid_loss = 0\n",
        "            \n",
        "            with tqdm(valid_data_loader, unit=\"batch\") as tepoch:\n",
        "                tepoch.set_description(f\"Epoch {epoch}\")\n",
        "\n",
        "                for i, valid_batch in enumerate(tepoch):\n",
        "                    valid_images, valid_target = valid_batch\n",
        "                    valid_images = valid_images.to(device)\n",
        "                    valid_target = valid_target.to(device)\n",
        "                    \n",
        "#                     valid_target = valid_target.long()\n",
        "\n",
        "                    valid_preds = model(valid_images)\n",
        "\n",
        "                    loss_valid = bce_dice(valid_preds, valid_target)\n",
        "\n",
        "                    valid_loss += loss_valid.item()\n",
        "\n",
        "                    tepoch.set_postfix(loss=valid_loss / (i + 1))\n",
        "\n",
        "                metrics['val_loss'].append(valid_loss / (i + 1))\n",
        "\n",
        "        sleep(0.1)\n",
        "        \n",
        "        if valid_loss < best_loss:\n",
        "            # resave\n",
        "            best_loss = valid_loss\n",
        "\n",
        "            # zero the counter\n",
        "            early_count = 0\n",
        "\n",
        "            # save model\n",
        "            torch.save(model.state_dict(), f'{checkpoint_dirr}epoch:{epoch}.pt')\n",
        "            print('best model saved')\n",
        "        else:\n",
        "            early_count += 1\n",
        "\n",
        "            if early_count >= early_stopping:\n",
        "                print(f\"Loss did not improve over {early_stopping} epochs => early stopping\")\n",
        "                break\n",
        "\n",
        "    return model, metrics, checkpoint_dirr"
      ],
      "metadata": {
        "id": "eLBCkj3mIp7p"
      },
      "execution_count": 87,
      "outputs": []
    },
    {
      "cell_type": "code",
      "source": [
        "# model to GPU\n",
        "model = UNETR().to(device)\n",
        "\n",
        "# optimizer\n",
        "optimizer = optim.Adam(model.parameters(), lr=0.12)\n",
        "\n",
        "# learning rate scheduler\n",
        "scheduler = MultiplicativeLR(optimizer, lr_lambda=lambda epoch: 0.9)\n",
        "\n",
        "# set epochs\n",
        "epochs = 100\n",
        "\n",
        "early_stopping = 8\n",
        "    \n",
        "model, losses, dirr = train_model(model=model, optimizer=optimizer, epochs=epochs, scheduler=scheduler, early_stopping=early_stopping,\n",
        "                                  train_data_loader=train_loader, valid_data_loader=valid_loader)"
      ],
      "metadata": {
        "colab": {
          "base_uri": "https://localhost:8080/",
          "height": 381
        },
        "id": "2H1XZ9iXIrrl",
        "outputId": "49dcab54-5ba9-418c-c116-7313889d005c"
      },
      "execution_count": 88,
      "outputs": [
        {
          "output_type": "stream",
          "name": "stderr",
          "text": [
            "Epoch 0:   0%|          | 0/178 [00:00<?, ?batch/s]\n"
          ]
        },
        {
          "output_type": "error",
          "ename": "OutOfMemoryError",
          "evalue": "ignored",
          "traceback": [
            "\u001b[0;31m---------------------------------------------------------------------------\u001b[0m",
            "\u001b[0;31mOutOfMemoryError\u001b[0m                          Traceback (most recent call last)",
            "\u001b[0;32m<ipython-input-88-9f3ad66063c7>\u001b[0m in \u001b[0;36m<module>\u001b[0;34m\u001b[0m\n\u001b[1;32m     13\u001b[0m \u001b[0mearly_stopping\u001b[0m \u001b[0;34m=\u001b[0m \u001b[0;36m8\u001b[0m\u001b[0;34m\u001b[0m\u001b[0;34m\u001b[0m\u001b[0m\n\u001b[1;32m     14\u001b[0m \u001b[0;34m\u001b[0m\u001b[0m\n\u001b[0;32m---> 15\u001b[0;31m model, losses, dirr = train_model(model=model, optimizer=optimizer, epochs=epochs, scheduler=scheduler, early_stopping=early_stopping,\n\u001b[0m\u001b[1;32m     16\u001b[0m                                   train_data_loader=train_loader, valid_data_loader=valid_loader)\n",
            "\u001b[0;32m<ipython-input-87-98de36dccd80>\u001b[0m in \u001b[0;36mtrain_model\u001b[0;34m(model, optimizer, epochs, scheduler, train_data_loader, valid_data_loader, early_stopping, checkpoint_dirr)\u001b[0m\n\u001b[1;32m     31\u001b[0m \u001b[0;34m\u001b[0m\u001b[0m\n\u001b[1;32m     32\u001b[0m                 \u001b[0;31m# prediction\u001b[0m\u001b[0;34m\u001b[0m\u001b[0;34m\u001b[0m\u001b[0;34m\u001b[0m\u001b[0m\n\u001b[0;32m---> 33\u001b[0;31m                 \u001b[0mpreds\u001b[0m \u001b[0;34m=\u001b[0m \u001b[0mmodel\u001b[0m\u001b[0;34m(\u001b[0m\u001b[0mimages\u001b[0m\u001b[0;34m)\u001b[0m\u001b[0;34m\u001b[0m\u001b[0;34m\u001b[0m\u001b[0m\n\u001b[0m\u001b[1;32m     34\u001b[0m \u001b[0;34m\u001b[0m\u001b[0m\n\u001b[1;32m     35\u001b[0m                 \u001b[0;31m# loss function\u001b[0m\u001b[0;34m\u001b[0m\u001b[0;34m\u001b[0m\u001b[0;34m\u001b[0m\u001b[0m\n",
            "\u001b[0;32m/usr/local/lib/python3.8/dist-packages/torch/nn/modules/module.py\u001b[0m in \u001b[0;36m_call_impl\u001b[0;34m(self, *input, **kwargs)\u001b[0m\n\u001b[1;32m   1192\u001b[0m         if not (self._backward_hooks or self._forward_hooks or self._forward_pre_hooks or _global_backward_hooks\n\u001b[1;32m   1193\u001b[0m                 or _global_forward_hooks or _global_forward_pre_hooks):\n\u001b[0;32m-> 1194\u001b[0;31m             \u001b[0;32mreturn\u001b[0m \u001b[0mforward_call\u001b[0m\u001b[0;34m(\u001b[0m\u001b[0;34m*\u001b[0m\u001b[0minput\u001b[0m\u001b[0;34m,\u001b[0m \u001b[0;34m**\u001b[0m\u001b[0mkwargs\u001b[0m\u001b[0;34m)\u001b[0m\u001b[0;34m\u001b[0m\u001b[0;34m\u001b[0m\u001b[0m\n\u001b[0m\u001b[1;32m   1195\u001b[0m         \u001b[0;31m# Do not call functions when jit is used\u001b[0m\u001b[0;34m\u001b[0m\u001b[0;34m\u001b[0m\u001b[0;34m\u001b[0m\u001b[0m\n\u001b[1;32m   1196\u001b[0m         \u001b[0mfull_backward_hooks\u001b[0m\u001b[0;34m,\u001b[0m \u001b[0mnon_full_backward_hooks\u001b[0m \u001b[0;34m=\u001b[0m \u001b[0;34m[\u001b[0m\u001b[0;34m]\u001b[0m\u001b[0;34m,\u001b[0m \u001b[0;34m[\u001b[0m\u001b[0;34m]\u001b[0m\u001b[0;34m\u001b[0m\u001b[0;34m\u001b[0m\u001b[0m\n",
            "\u001b[0;32m<ipython-input-28-e402ac5a3d5f>\u001b[0m in \u001b[0;36mforward\u001b[0;34m(self, x)\u001b[0m\n\u001b[1;32m    100\u001b[0m         \u001b[0mz3\u001b[0m \u001b[0;34m=\u001b[0m \u001b[0mself\u001b[0m\u001b[0;34m.\u001b[0m\u001b[0mdecoder3_upsampler\u001b[0m\u001b[0;34m(\u001b[0m\u001b[0mtorch\u001b[0m\u001b[0;34m.\u001b[0m\u001b[0mcat\u001b[0m\u001b[0;34m(\u001b[0m\u001b[0;34m[\u001b[0m\u001b[0mz3\u001b[0m\u001b[0;34m,\u001b[0m \u001b[0mz6\u001b[0m\u001b[0;34m]\u001b[0m\u001b[0;34m,\u001b[0m \u001b[0mdim\u001b[0m\u001b[0;34m=\u001b[0m\u001b[0;36m1\u001b[0m\u001b[0;34m)\u001b[0m\u001b[0;34m)\u001b[0m\u001b[0;34m\u001b[0m\u001b[0;34m\u001b[0m\u001b[0m\n\u001b[1;32m    101\u001b[0m         \u001b[0mz0\u001b[0m \u001b[0;34m=\u001b[0m \u001b[0mself\u001b[0m\u001b[0;34m.\u001b[0m\u001b[0mdecoder0\u001b[0m\u001b[0;34m(\u001b[0m\u001b[0mz0\u001b[0m\u001b[0;34m)\u001b[0m\u001b[0;34m\u001b[0m\u001b[0;34m\u001b[0m\u001b[0m\n\u001b[0;32m--> 102\u001b[0;31m         \u001b[0moutput\u001b[0m \u001b[0;34m=\u001b[0m \u001b[0mself\u001b[0m\u001b[0;34m.\u001b[0m\u001b[0mdecoder0_header\u001b[0m\u001b[0;34m(\u001b[0m\u001b[0mtorch\u001b[0m\u001b[0;34m.\u001b[0m\u001b[0mcat\u001b[0m\u001b[0;34m(\u001b[0m\u001b[0;34m[\u001b[0m\u001b[0mz0\u001b[0m\u001b[0;34m,\u001b[0m \u001b[0mz3\u001b[0m\u001b[0;34m]\u001b[0m\u001b[0;34m,\u001b[0m \u001b[0mdim\u001b[0m\u001b[0;34m=\u001b[0m\u001b[0;36m1\u001b[0m\u001b[0;34m)\u001b[0m\u001b[0;34m)\u001b[0m\u001b[0;34m\u001b[0m\u001b[0;34m\u001b[0m\u001b[0m\n\u001b[0m\u001b[1;32m    103\u001b[0m         \u001b[0;32mreturn\u001b[0m \u001b[0moutput\u001b[0m\u001b[0;34m\u001b[0m\u001b[0;34m\u001b[0m\u001b[0m\n",
            "\u001b[0;31mOutOfMemoryError\u001b[0m: CUDA out of memory. Tried to allocate 392.00 MiB (GPU 0; 14.75 GiB total capacity; 12.78 GiB already allocated; 288.81 MiB free; 13.40 GiB reserved in total by PyTorch) If reserved memory is >> allocated memory try setting max_split_size_mb to avoid fragmentation.  See documentation for Memory Management and PYTORCH_CUDA_ALLOC_CONF"
          ]
        }
      ]
    },
    {
      "cell_type": "code",
      "source": [
        "model.load_state_dict(torch.load(f\"{dirr}{[name for name in sorted(os.listdir(dirr)) if str(np.argmax(-np.array(losses['val_loss']))) in name][0]}\"))\n",
        "model.eval()"
      ],
      "metadata": {
        "id": "U5FDsiJ7IxQn"
      },
      "execution_count": null,
      "outputs": []
    },
    {
      "cell_type": "code",
      "source": [
        "def graph_plot(history, typ=False):\n",
        "    if typ:\n",
        "        for i in history.keys():\n",
        "            print(f'{i} = [{min(history[i])}; {max(history[i])}]\\n')\n",
        "    \n",
        "    epoch = len(history['loss'])\n",
        "    # на каждую: (train, val) + lr\n",
        "    size = len(history.keys()) // 2 + 1\n",
        "\n",
        "    ncols = 4\n",
        "    nrows = int(np.ceil(size / ncols))\n",
        "\n",
        "    \n",
        "    fig = plt.figure(figsize=(27, 4))\n",
        "    i = 1\n",
        "    for k in list(history.keys()):\n",
        "        if 'val' not in k:\n",
        "            fig.add_subplot(nrows, ncols, i)\n",
        "            plt.plot(history[k], marker='o', markersize=5)\n",
        "            if k != 'lr':\n",
        "                plt.plot(history['val_' + k], marker='o', markersize=5)\n",
        "            plt.title(k, fontsize=10)\n",
        "\n",
        "            plt.ylabel(k)\n",
        "            plt.xlabel('epoch')\n",
        "            plt.grid()\n",
        "\n",
        "            plt.yticks(fontsize=10, rotation=30)\n",
        "            plt.xticks(fontsize=10, rotation=30)\n",
        "            plt.legend(['train', 'valid'], loc='upper left', fontsize=10, title_fontsize=15)\n",
        "            i += 1\n",
        "#         plt.show()\n",
        "\n",
        "graph_plot(losses)"
      ],
      "metadata": {
        "id": "29URezj4I0Mt"
      },
      "execution_count": null,
      "outputs": []
    },
    {
      "cell_type": "code",
      "source": [
        "def plot_result(model, loader, ax, shape):\n",
        "    images, target = next(iter(loader))\n",
        "    ind = np.random.choice(range(loader.batch_size))\n",
        "#     try:\n",
        "#         ind = random.choice([i for i in range(images.shape[0]) if np.max(target[i].permute(1, 2, 0).cpu().detach().numpy()) > 0])\n",
        "#     except IndexError:\n",
        "#         images, target = next(iter(loader))\n",
        "#         ind = random.choice([i for i in range(images.shape[0]) if np.max(target[i].permute(1, 2, 0).cpu().detach().numpy()) > 0])\n",
        "\n",
        "    pred = model(images[ind].view(1, 3, shape, shape).to(device)).cpu().detach()[0].permute(1, 2, 0).reshape(shape, shape)\n",
        "    loss = dice2(model(images[ind].view(1, 3, shape, shape).to(device)), target[ind].to(device))\n",
        "    \n",
        "    image = images[ind].permute(1, 2, 0)\n",
        "    target = target[ind].permute(1, 2, 0).reshape(shape, shape)\n",
        "    target = Image.fromarray(np.asarray(target * 255, dtype=np.uint8)).convert('RGB')\n",
        "    pred = Image.fromarray(np.asarray(pred * 255, dtype=np.uint8)).convert('RGB')\n",
        "    \n",
        "    target = np.asarray(target)\n",
        "    pred = np.asarray(pred)\n",
        "    \n",
        "    ax.imshow(np.hstack([image, target, pred]))\n",
        "    ax.set_title(f'Source / Target / Prediction ; loss = {round(float(loss), 3)}', fontsize=14)"
      ],
      "metadata": {
        "id": "Vx9tPb0bI2MU"
      },
      "execution_count": null,
      "outputs": []
    },
    {
      "cell_type": "code",
      "source": [
        "fig, axes = plt.subplots(nrows=6, ncols=4, figsize=(30, 20))\n",
        "\n",
        "for ax in axes.flatten():\n",
        "    plot_result(model=model, loader=test_loader, shape=shape, ax=ax)"
      ],
      "metadata": {
        "id": "AUvChhspI48F"
      },
      "execution_count": null,
      "outputs": []
    },
    {
      "cell_type": "code",
      "source": [
        "loss = 0\n",
        "\n",
        "for (images, targets) in test_loader:\n",
        "    images = images.to(device)\n",
        "    pred = model(images).cpu().detach()\n",
        "    \n",
        "    for i, (image, target) in enumerate(zip(images, targets)):\n",
        "        loss += dice2(pred[i], targets[i])"
      ],
      "metadata": {
        "id": "PWExqkS0I6bx"
      },
      "execution_count": null,
      "outputs": []
    },
    {
      "cell_type": "code",
      "source": [
        "loss"
      ],
      "metadata": {
        "id": "b_OCMkK1I9kV"
      },
      "execution_count": null,
      "outputs": []
    },
    {
      "cell_type": "code",
      "source": [
        "loss / X_test.shape[0]"
      ],
      "metadata": {
        "id": "nnrhBRh8I_uJ"
      },
      "execution_count": null,
      "outputs": []
    },
    {
      "cell_type": "markdown",
      "source": [
        "# Toy Tensor"
      ],
      "metadata": {
        "id": "duDXbhyyNO3j"
      }
    },
    {
      "cell_type": "code",
      "source": [
        "a = torch.rand(2,2,3,4)"
      ],
      "metadata": {
        "id": "v3ozcePANQVF"
      },
      "execution_count": null,
      "outputs": []
    },
    {
      "cell_type": "code",
      "source": [
        "a.transpose(-1,-2).shape"
      ],
      "metadata": {
        "colab": {
          "base_uri": "https://localhost:8080/"
        },
        "id": "8DtJuhM_NUZe",
        "outputId": "5f996d62-3df3-41b5-8ec4-769fef68d637"
      },
      "execution_count": null,
      "outputs": [
        {
          "output_type": "execute_result",
          "data": {
            "text/plain": [
              "torch.Size([5, 2, 4, 3])"
            ]
          },
          "metadata": {},
          "execution_count": 12
        }
      ]
    },
    {
      "cell_type": "code",
      "source": [
        "b = a.flatten(2) # flatten last two dimensions\n",
        "b.shape"
      ],
      "metadata": {
        "colab": {
          "base_uri": "https://localhost:8080/"
        },
        "id": "6GMtxVNoNWmu",
        "outputId": "4463142f-c94b-4753-eb01-abeb6832108e"
      },
      "execution_count": null,
      "outputs": [
        {
          "output_type": "execute_result",
          "data": {
            "text/plain": [
              "torch.Size([5, 2, 12])"
            ]
          },
          "metadata": {},
          "execution_count": 13
        }
      ]
    },
    {
      "cell_type": "code",
      "source": [
        "x = torch.rand(32,3,224,224,12,64)\n",
        "q = torch.rand()\n",
        "k = torch.rand()\n",
        "v = torch.rand()"
      ],
      "metadata": {
        "id": "_E9eeP75N6zI"
      },
      "execution_count": null,
      "outputs": []
    },
    {
      "cell_type": "code",
      "source": [
        "# 768/12 = 64\n"
      ],
      "metadata": {
        "id": "xWq6LkCik0iW"
      },
      "execution_count": null,
      "outputs": []
    },
    {
      "cell_type": "code",
      "source": [
        "x = torch.rand(3, 32, 32)\n",
        "x_n = x.size()[:-1] + (12, 64)\n",
        "x = x.view(*x_n)\n"
      ],
      "metadata": {
        "colab": {
          "base_uri": "https://localhost:8080/",
          "height": 201
        },
        "id": "rnwVSQAzmjuN",
        "outputId": "6ff58caf-fa42-4ad0-fcbb-9308d687e1b9"
      },
      "execution_count": 5,
      "outputs": [
        {
          "output_type": "error",
          "ename": "RuntimeError",
          "evalue": "ignored",
          "traceback": [
            "\u001b[0;31m---------------------------------------------------------------------------\u001b[0m",
            "\u001b[0;31mRuntimeError\u001b[0m                              Traceback (most recent call last)",
            "\u001b[0;32m<ipython-input-5-a422a4ca8615>\u001b[0m in \u001b[0;36m<module>\u001b[0;34m\u001b[0m\n\u001b[1;32m      1\u001b[0m \u001b[0mx\u001b[0m \u001b[0;34m=\u001b[0m \u001b[0mtorch\u001b[0m\u001b[0;34m.\u001b[0m\u001b[0mrand\u001b[0m\u001b[0;34m(\u001b[0m\u001b[0;36m8\u001b[0m\u001b[0;34m,\u001b[0m\u001b[0;36m3\u001b[0m\u001b[0;34m,\u001b[0m \u001b[0;36m32\u001b[0m\u001b[0;34m,\u001b[0m \u001b[0;36m32\u001b[0m\u001b[0;34m)\u001b[0m\u001b[0;34m\u001b[0m\u001b[0;34m\u001b[0m\u001b[0m\n\u001b[1;32m      2\u001b[0m \u001b[0mx_n\u001b[0m \u001b[0;34m=\u001b[0m \u001b[0mx\u001b[0m\u001b[0;34m.\u001b[0m\u001b[0msize\u001b[0m\u001b[0;34m(\u001b[0m\u001b[0;34m)\u001b[0m\u001b[0;34m[\u001b[0m\u001b[0;34m:\u001b[0m\u001b[0;34m-\u001b[0m\u001b[0;36m1\u001b[0m\u001b[0;34m]\u001b[0m \u001b[0;34m+\u001b[0m \u001b[0;34m(\u001b[0m\u001b[0;36m12\u001b[0m\u001b[0;34m,\u001b[0m \u001b[0;36m64\u001b[0m\u001b[0;34m)\u001b[0m\u001b[0;34m\u001b[0m\u001b[0;34m\u001b[0m\u001b[0m\n\u001b[0;32m----> 3\u001b[0;31m \u001b[0mx\u001b[0m \u001b[0;34m=\u001b[0m \u001b[0mx\u001b[0m\u001b[0;34m.\u001b[0m\u001b[0mview\u001b[0m\u001b[0;34m(\u001b[0m\u001b[0;34m*\u001b[0m\u001b[0mx_n\u001b[0m\u001b[0;34m)\u001b[0m\u001b[0;34m\u001b[0m\u001b[0;34m\u001b[0m\u001b[0m\n\u001b[0m",
            "\u001b[0;31mRuntimeError\u001b[0m: shape '[8, 3, 32, 12, 64]' is invalid for input of size 24576"
          ]
        }
      ]
    },
    {
      "cell_type": "code",
      "source": [
        "rand_image_tensor = torch.randn(32, 3, 224, 224) # batch_size, color_channels, height, width\n",
        "rand_image_tensor.shape"
      ],
      "metadata": {
        "colab": {
          "base_uri": "https://localhost:8080/"
        },
        "id": "n755BpJHyFpJ",
        "outputId": "ceaa6213-e5ea-4359-a9cb-00ca47e2e6db"
      },
      "execution_count": 2,
      "outputs": [
        {
          "output_type": "execute_result",
          "data": {
            "text/plain": [
              "torch.Size([32, 3, 224, 224])"
            ]
          },
          "metadata": {},
          "execution_count": 2
        }
      ]
    },
    {
      "cell_type": "code",
      "source": [
        "# 1. Create a class which subclasses nn.Module\n",
        "class PatchEmbedding(nn.Module):\n",
        "    \"\"\"Turns a 2D input image into a 1D sequence learnable embedding vector.\n",
        "    \n",
        "    Args:\n",
        "        in_channels (int): Number of color channels for the input images. Defaults to 3.\n",
        "        patch_size (int): Size of patches to convert input image into. Defaults to 16.\n",
        "        embedding_dim (int): Size of embedding to turn image into. Defaults to 768.\n",
        "    \"\"\" \n",
        "    # 2. Initialize the class with appropriate variables\n",
        "    def __init__(self, \n",
        "                 in_channels:int=3,\n",
        "                 patch_size:int=16,\n",
        "                 embedding_dim:int=768):\n",
        "        super().__init__()\n",
        "\n",
        "        self.patch_size = patch_size\n",
        "        \n",
        "        # 3. Create a layer to turn an image into patches\n",
        "        self.patcher = nn.Conv2d(in_channels=in_channels, \n",
        "                                 out_channels=embedding_dim,\n",
        "                                 kernel_size=patch_size,\n",
        "                                 stride=patch_size,\n",
        "                                 padding=0) \n",
        "        # 224/16 => 14\n",
        " \n",
        "        # 4. Create a layer to flatten the patch feature maps into a single dimension\n",
        "        self.flatten = nn.Flatten(start_dim=2, # only flatten the feature map dimensions into a single vector\n",
        "                                  end_dim=3)\n",
        "        # (32,768, 14, 14) => (32,768,196)\n",
        "\n",
        "    # 5. Define the forward method \n",
        "    def forward(self, x):\n",
        "        # Create assertion to check that inputs are the correct shape\n",
        "        image_resolution = x.shape[-1]\n",
        "        assert image_resolution % self.patch_size == 0, f\"Input image size must be divisble by patch size, image shape: {image_resolution}, patch size: {self.patch_size}\"\n",
        "        \n",
        "        # Perform the forward pass\n",
        "        x_patched = self.patcher(x)\n",
        "        print(x_patched.shape)\n",
        "        x_flattened = self.flatten(x_patched) \n",
        "        print(x_flattened.shape)\n",
        "        # 6. Make sure the output shape has the right order \n",
        "        return x_flattened.permute(0, 2, 1) # adjust so the embedding is on the final dimension [batch_size, P^2•C, N] -> [batch_size, num_patches, P^2•C] # 32, 196, 768"
      ],
      "metadata": {
        "id": "C1A-VlsPwjw-"
      },
      "execution_count": 3,
      "outputs": []
    },
    {
      "cell_type": "code",
      "source": [
        "patch_embedding = PatchEmbedding(patch_size=16)\n",
        "patch_embedding_output = patch_embedding(rand_image_tensor)\n",
        "print(f\"Input shape: {rand_image_tensor.shape}\")\n",
        "print(f\"Output shape: {patch_embedding_output.shape} -> (batch_size, num_patches, embedding_dim)\")"
      ],
      "metadata": {
        "colab": {
          "base_uri": "https://localhost:8080/"
        },
        "id": "H7PYB-6FyQ89",
        "outputId": "2f523ac4-8af8-4daa-b0f7-4f965361d133"
      },
      "execution_count": 4,
      "outputs": [
        {
          "output_type": "stream",
          "name": "stdout",
          "text": [
            "torch.Size([32, 768, 14, 14])\n",
            "torch.Size([32, 768, 196])\n",
            "Input shape: torch.Size([32, 3, 224, 224])\n",
            "Output shape: torch.Size([32, 196, 768]) -> (batch_size, num_patches, embedding_dim)\n"
          ]
        }
      ]
    },
    {
      "cell_type": "code",
      "source": [
        "# (32,196,768)\n",
        "class SelfAttention(nn.Module):\n",
        "    def __init__(self, num_heads, embed_dim, dropout):\n",
        "        super().__init__()\n",
        "        self.num_attention_heads = num_heads #12\n",
        "        self.attention_head_size = int(embed_dim / num_heads) # 64\n",
        "        self.all_head_size = self.num_attention_heads * self.attention_head_size # 768\n",
        "\n",
        "        self.query = nn.Linear(embed_dim, self.all_head_size)\n",
        "        self.key = nn.Linear(embed_dim, self.all_head_size)\n",
        "        self.value = nn.Linear(embed_dim, self.all_head_size) #768,768\n",
        "\n",
        "        self.out = nn.Linear(embed_dim, embed_dim) # 768,768\n",
        "        self.attn_dropout = nn.Dropout(dropout)\n",
        "        self.proj_dropout = nn.Dropout(dropout)\n",
        "\n",
        "        self.softmax = nn.Softmax(dim=-1)\n",
        "\n",
        "        self.vis = False\n",
        "\n",
        "    def transpose_for_scores(self, x):\n",
        "        new_x_shape = x.size()[:-1] + (self.num_attention_heads, self.attention_head_size) # 32,196,768 => 32,196,12,64\n",
        "        x = x.view(*new_x_shape) # 32,196,12,64\n",
        "        return x.permute(0, 2, 1, 3) # 32, 12, 196, 64\n",
        "\n",
        "    def forward(self, hidden_states):\n",
        "        mixed_query_layer = self.query(hidden_states) # 32, 196, 768 \n",
        "        mixed_key_layer = self.key(hidden_states) # 32, 196, 768 \n",
        "        mixed_value_layer = self.value(hidden_states) # 32, 196, 768 \n",
        "\n",
        "        query_layer = self.transpose_for_scores(mixed_query_layer) # 32, 12, 196, 64\n",
        "        key_layer = self.transpose_for_scores(mixed_key_layer) # 32, 12, 196, 64\n",
        "        value_layer = self.transpose_for_scores(mixed_value_layer) # 32, 12, 196, 64\n",
        "\n",
        "        attention_scores = torch.matmul(query_layer, key_layer.transpose(-1, -2)) # 32, 12, 196, 64 @  32, 12, 64, 196 => 32, 12, 196, 196\n",
        "        attention_scores = attention_scores / math.sqrt(self.attention_head_size) # scale down\n",
        "        attention_probs = self.softmax(attention_scores) # normalize\n",
        "        weights = attention_probs if self.vis else None # ?\n",
        "        attention_probs = self.attn_dropout(attention_probs) # dropout, necassary?\n",
        "\n",
        "        context_layer = torch.matmul(attention_probs, value_layer) # 32, 12, 196, 196\n",
        "        context_layer = context_layer.permute(0, 2, 1, 3).contiguous()\n",
        "        new_context_layer_shape = context_layer.size()[:-2] + (self.all_head_size,)\n",
        "        context_layer = context_layer.view(*new_context_layer_shape)\n",
        "        attention_output = self.out(context_layer)\n",
        "        attention_output = self.proj_dropout(attention_output)\n",
        "        return attention_output, weights\n"
      ],
      "metadata": {
        "id": "72zT8yXqk0m6"
      },
      "execution_count": null,
      "outputs": []
    },
    {
      "cell_type": "code",
      "source": [
        "x = torch.rand(32, 12, 196, 64)\n",
        "b = x.transpose(-1,-2)\n",
        "c = x@b\n",
        "print(x.shape)\n",
        "print(b.shape)\n",
        "print(c.shape)"
      ],
      "metadata": {
        "colab": {
          "base_uri": "https://localhost:8080/"
        },
        "id": "IrlQQXKvwzTG",
        "outputId": "353bddd1-1bbe-4bc8-dd90-2d3d3b60b837"
      },
      "execution_count": 10,
      "outputs": [
        {
          "output_type": "stream",
          "name": "stdout",
          "text": [
            "torch.Size([32, 12, 196, 64])\n",
            "torch.Size([32, 12, 64, 196])\n",
            "torch.Size([32, 12, 196, 196])\n"
          ]
        }
      ]
    },
    {
      "cell_type": "code",
      "source": [
        "v = torch.rand(32,196,768)\n",
        "d = c@v\n",
        "d.shape"
      ],
      "metadata": {
        "colab": {
          "base_uri": "https://localhost:8080/",
          "height": 201
        },
        "id": "NpVzXYSI1-kk",
        "outputId": "feacb2da-9053-45c1-8be4-6d0b9f2e835a"
      },
      "execution_count": 13,
      "outputs": [
        {
          "output_type": "error",
          "ename": "RuntimeError",
          "evalue": "ignored",
          "traceback": [
            "\u001b[0;31m---------------------------------------------------------------------------\u001b[0m",
            "\u001b[0;31mRuntimeError\u001b[0m                              Traceback (most recent call last)",
            "\u001b[0;32m<ipython-input-13-a00f0dc721cb>\u001b[0m in \u001b[0;36m<module>\u001b[0;34m\u001b[0m\n\u001b[1;32m      1\u001b[0m \u001b[0mv\u001b[0m \u001b[0;34m=\u001b[0m \u001b[0mtorch\u001b[0m\u001b[0;34m.\u001b[0m\u001b[0mrand\u001b[0m\u001b[0;34m(\u001b[0m\u001b[0;36m32\u001b[0m\u001b[0;34m,\u001b[0m\u001b[0;36m768\u001b[0m\u001b[0;34m,\u001b[0m\u001b[0;36m196\u001b[0m\u001b[0;34m)\u001b[0m\u001b[0;34m\u001b[0m\u001b[0;34m\u001b[0m\u001b[0m\n\u001b[0;32m----> 2\u001b[0;31m \u001b[0md\u001b[0m \u001b[0;34m=\u001b[0m \u001b[0mc\u001b[0m\u001b[0;34m@\u001b[0m\u001b[0mv\u001b[0m\u001b[0;34m\u001b[0m\u001b[0;34m\u001b[0m\u001b[0m\n\u001b[0m\u001b[1;32m      3\u001b[0m \u001b[0md\u001b[0m\u001b[0;34m.\u001b[0m\u001b[0mshape\u001b[0m\u001b[0;34m\u001b[0m\u001b[0;34m\u001b[0m\u001b[0m\n",
            "\u001b[0;31mRuntimeError\u001b[0m: The size of tensor a (12) must match the size of tensor b (32) at non-singleton dimension 1"
          ]
        }
      ]
    },
    {
      "cell_type": "markdown",
      "source": [
        "# Train"
      ],
      "metadata": {
        "id": "eZNq-wFE33Ow"
      }
    },
    {
      "cell_type": "code",
      "source": [
        "import copy\n",
        "import torch\n",
        "import torch.nn as nn\n",
        "import torch.nn.functional as F\n",
        "import math\n",
        "\n",
        "\n",
        "class SingleDeconv3DBlock(nn.Module):\n",
        "    def __init__(self, in_planes, out_planes):\n",
        "        super().__init__()\n",
        "        self.block = nn.ConvTranspose3d(in_planes, out_planes, kernel_size=2, stride=2, padding=0, output_padding=0)\n",
        "\n",
        "    def forward(self, x):\n",
        "        return self.block(x)\n",
        "\n",
        "\n",
        "class SingleConv3DBlock(nn.Module):\n",
        "    def __init__(self, in_planes, out_planes, kernel_size):\n",
        "        super().__init__()\n",
        "        self.block = nn.Conv3d(in_planes, out_planes, kernel_size=kernel_size, stride=1,\n",
        "                               padding=((kernel_size - 1) // 2))\n",
        "\n",
        "    def forward(self, x):\n",
        "        return self.block(x)\n",
        "\n",
        "\n",
        "class Conv3DBlock(nn.Module):\n",
        "    def __init__(self, in_planes, out_planes, kernel_size=3):\n",
        "        super().__init__()\n",
        "        self.block = nn.Sequential(\n",
        "            SingleConv3DBlock(in_planes, out_planes, kernel_size),\n",
        "            nn.BatchNorm3d(out_planes),\n",
        "            nn.ReLU(True)\n",
        "        )\n",
        "\n",
        "    def forward(self, x):\n",
        "        return self.block(x)\n",
        "\n",
        "\n",
        "class Deconv3DBlock(nn.Module):\n",
        "    def __init__(self, in_planes, out_planes, kernel_size=3):\n",
        "        super().__init__()\n",
        "        self.block = nn.Sequential(\n",
        "            SingleDeconv3DBlock(in_planes, out_planes),\n",
        "            SingleConv3DBlock(out_planes, out_planes, kernel_size),\n",
        "            nn.BatchNorm3d(out_planes),\n",
        "            nn.ReLU(True)\n",
        "        )\n",
        "\n",
        "    def forward(self, x):\n",
        "        return self.block(x)\n",
        "\n",
        "\n",
        "class SelfAttention(nn.Module):\n",
        "    def __init__(self, num_heads, embed_dim, dropout):\n",
        "        super().__init__()\n",
        "        self.num_attention_heads = num_heads\n",
        "        self.attention_head_size = int(embed_dim / num_heads)\n",
        "        self.all_head_size = self.num_attention_heads * self.attention_head_size\n",
        "\n",
        "        self.query = nn.Linear(embed_dim, self.all_head_size)\n",
        "        self.key = nn.Linear(embed_dim, self.all_head_size)\n",
        "        self.value = nn.Linear(embed_dim, self.all_head_size)\n",
        "\n",
        "        self.out = nn.Linear(embed_dim, embed_dim)\n",
        "        self.attn_dropout = nn.Dropout(dropout)\n",
        "        self.proj_dropout = nn.Dropout(dropout)\n",
        "\n",
        "        self.softmax = nn.Softmax(dim=-1)\n",
        "\n",
        "        self.vis = False\n",
        "\n",
        "    def transpose_for_scores(self, x):\n",
        "        new_x_shape = x.size()[:-1] + (self.num_attention_heads, self.attention_head_size)\n",
        "        x = x.view(*new_x_shape)\n",
        "        return x.permute(0, 2, 1, 3)\n",
        "\n",
        "    def forward(self, hidden_states):\n",
        "        mixed_query_layer = self.query(hidden_states)\n",
        "        mixed_key_layer = self.key(hidden_states)\n",
        "        mixed_value_layer = self.value(hidden_states)\n",
        "\n",
        "        query_layer = self.transpose_for_scores(mixed_query_layer)\n",
        "        key_layer = self.transpose_for_scores(mixed_key_layer)\n",
        "        value_layer = self.transpose_for_scores(mixed_value_layer)\n",
        "\n",
        "        attention_scores = torch.matmul(query_layer, key_layer.transpose(-1, -2))\n",
        "        attention_scores = attention_scores / math.sqrt(self.attention_head_size)\n",
        "        attention_probs = self.softmax(attention_scores)\n",
        "        weights = attention_probs if self.vis else None\n",
        "        attention_probs = self.attn_dropout(attention_probs)\n",
        "\n",
        "        context_layer = torch.matmul(attention_probs, value_layer)\n",
        "        context_layer = context_layer.permute(0, 2, 1, 3).contiguous()\n",
        "        new_context_layer_shape = context_layer.size()[:-2] + (self.all_head_size,)\n",
        "        context_layer = context_layer.view(*new_context_layer_shape)\n",
        "        attention_output = self.out(context_layer)\n",
        "        attention_output = self.proj_dropout(attention_output)\n",
        "        return attention_output, weights\n",
        "\n",
        "\n",
        "class Mlp(nn.Module):\n",
        "    def __init__(self, in_features, act_layer=nn.GELU, drop=0.):\n",
        "        super().__init__()\n",
        "        self.fc1 = nn.Linear(in_features, in_features)\n",
        "        self.act = act_layer()\n",
        "        self.drop = nn.Dropout(drop)\n",
        "\n",
        "    def forward(self, x):\n",
        "        x = self.fc1()\n",
        "        x = self.act(x)\n",
        "        x = self.drop(x)\n",
        "        return x\n",
        "\n",
        "\n",
        "class PositionwiseFeedForward(nn.Module):\n",
        "    def __init__(self, d_model=786, d_ff=2048, dropout=0.1):\n",
        "        super().__init__()\n",
        "        # Torch linears have a `b` by default.\n",
        "        self.w_1 = nn.Linear(d_model, d_ff)\n",
        "        self.w_2 = nn.Linear(d_ff, d_model)\n",
        "        self.dropout = nn.Dropout(dropout)\n",
        "\n",
        "    def forward(self, x):\n",
        "        return self.w_2(self.dropout(F.relu(self.w_1(x))))\n",
        "\n",
        "\n",
        "class Embeddings(nn.Module):\n",
        "    def __init__(self, input_dim, embed_dim, cube_size, patch_size, dropout):\n",
        "        super().__init__()\n",
        "        self.n_patches = int((cube_size[0] * cube_size[1] * cube_size[2]) / (patch_size * patch_size * patch_size))\n",
        "        self.patch_size = patch_size\n",
        "        self.embed_dim = embed_dim\n",
        "        self.patch_embeddings = nn.Conv3d(in_channels=input_dim, out_channels=embed_dim,\n",
        "                                          kernel_size=patch_size, stride=patch_size)\n",
        "        self.position_embeddings = nn.Parameter(torch.zeros(1, self.n_patches, embed_dim))\n",
        "        self.dropout = nn.Dropout(dropout)\n",
        "\n",
        "    def forward(self, x):\n",
        "        x = self.patch_embeddings(x)\n",
        "        x = x.flatten(2)\n",
        "        x = x.transpose(-1, -2)\n",
        "        embeddings = x + self.position_embeddings\n",
        "        embeddings = self.dropout(embeddings)\n",
        "        return embeddings\n",
        "\n",
        "\n",
        "torch.Size([1, 8, 768])\n",
        "torch.Size([768, 4, 16, 16, 16])\n",
        "torch.Size([768])\n",
        "\n",
        "class TransformerBlock(nn.Module):\n",
        "    def __init__(self, embed_dim, num_heads, dropout, cube_size, patch_size):\n",
        "        super().__init__()\n",
        "        self.attention_norm = nn.LayerNorm(embed_dim, eps=1e-6)\n",
        "        self.mlp_norm = nn.LayerNorm(embed_dim, eps=1e-6)\n",
        "        self.mlp_dim = int((cube_size[0] * cube_size[1] * cube_size[2]) / (patch_size * patch_size * patch_size))\n",
        "        self.mlp = PositionwiseFeedForward(embed_dim, 2048)\n",
        "        self.attn = SelfAttention(num_heads, embed_dim, dropout)\n",
        "\n",
        "    def forward(self, x):\n",
        "        h = x\n",
        "        x = self.attention_norm(x)\n",
        "        x, weights = self.attn(x)\n",
        "        x = x + h\n",
        "        h = x\n",
        "\n",
        "        x = self.mlp_norm(x)\n",
        "        x = self.mlp(x)\n",
        "\n",
        "        x = x + h\n",
        "        return x, weights\n",
        "\n",
        "\n",
        "class Transformer(nn.Module):\n",
        "    def __init__(self, input_dim, embed_dim, cube_size, patch_size, num_heads, num_layers, dropout, extract_layers):\n",
        "        super().__init__()\n",
        "        self.embeddings = Embeddings(input_dim, embed_dim, cube_size, patch_size, dropout)\n",
        "        self.layer = nn.ModuleList()\n",
        "        self.encoder_norm = nn.LayerNorm(embed_dim, eps=1e-6)\n",
        "        self.extract_layers = extract_layers\n",
        "        for _ in range(num_layers):\n",
        "            layer = TransformerBlock(embed_dim, num_heads, dropout, cube_size, patch_size)\n",
        "            self.layer.append(copy.deepcopy(layer))\n",
        "\n",
        "    def forward(self, x):\n",
        "        extract_layers = []\n",
        "        hidden_states = self.embeddings(x)\n",
        "\n",
        "        for depth, layer_block in enumerate(self.layer):\n",
        "            hidden_states, _ = layer_block(hidden_states)\n",
        "            if depth + 1 in self.extract_layers:\n",
        "                extract_layers.append(hidden_states)\n",
        "\n",
        "        return extract_layers\n",
        "\n",
        "\n",
        "class UNETR(nn.Module):\n",
        "    def __init__(self, img_shape=(128, 128, 128), input_dim=4, output_dim=3, embed_dim=768, patch_size=16, num_heads=12, dropout=0.1):\n",
        "        super().__init__()\n",
        "        self.input_dim = input_dim\n",
        "        self.output_dim = output_dim\n",
        "        self.embed_dim = embed_dim\n",
        "        self.img_shape = img_shape\n",
        "        self.patch_size = patch_size\n",
        "        self.num_heads = num_heads\n",
        "        self.dropout = dropout\n",
        "        self.num_layers = 12\n",
        "        self.ext_layers = [3, 6, 9, 12]\n",
        "\n",
        "        self.patch_dim = [int(x / patch_size) for x in img_shape]\n",
        "\n",
        "        # Transformer Encoder\n",
        "        self.transformer = \\\n",
        "            Transformer(\n",
        "                input_dim,  # 4\n",
        "                embed_dim,  # 768\n",
        "                img_shape,  # 32\n",
        "                patch_size, # 8\n",
        "                num_heads, # 12\n",
        "                self.num_layers, # 12\n",
        "                dropout, # 0.1\n",
        "                self.ext_layers # [3, 6, 9, 12]\n",
        "            )\n",
        "\n",
        "        # U-Net Decoder\n",
        "        self.decoder0 = \\\n",
        "            nn.Sequential(\n",
        "                Conv3DBlock(input_dim, 32, 3), # (b,w,h,d,4) => (w,h,d,32)\n",
        "                Conv3DBlock(32, 64, 3) # (w,h,d,32) => (w,h,d,64)\n",
        "            )\n",
        "\n",
        "        self.decoder3 = \\\n",
        "            nn.Sequential(\n",
        "                Deconv3DBlock(embed_dim, 512), # (w,h,d,768) => (w,h,d,512)\n",
        "                Deconv3DBlock(512, 256), # (w,h,d,512) => (w,h,d,256)\n",
        "                Deconv3DBlock(256, 128) # (w,h,d,256) => (w,h,d,128)\n",
        "            )\n",
        "\n",
        "        self.decoder6 = \\\n",
        "            nn.Sequential(\n",
        "                Deconv3DBlock(embed_dim, 512), # (w,h,d,768) => (w,h,d,512)\n",
        "                Deconv3DBlock(512, 256), # (w,h,d,512) => (w,h,d,256)\n",
        "            )\n",
        "\n",
        "        self.decoder9 = \\\n",
        "            Deconv3DBlock(embed_dim, 512)  # (w,h,d,768) => (w,h,d,512)\n",
        "\n",
        "        self.decoder12_upsampler = \\\n",
        "            SingleDeconv3DBlock(embed_dim, 512)  # (w,h,d,768) => (w,h,d,512)\n",
        "\n",
        "        self.decoder9_upsampler = \\\n",
        "            nn.Sequential(\n",
        "                Conv3DBlock(1024, 512), # (w,h,d,1024) => (w,h,d,512) ## 1024 because of concat\n",
        "                Conv3DBlock(512, 512), # (w,h,d,512) => (w,h,d,512)\n",
        "                Conv3DBlock(512, 512), # (w,h,d,512) => (w,h,d,512)\n",
        "                SingleDeconv3DBlock(512, 256) # (w,h,d,512) => (w,h,d,256)\n",
        "            )\n",
        "\n",
        "        self.decoder6_upsampler = \\\n",
        "            nn.Sequential(\n",
        "                Conv3DBlock(512, 256), # (w,h,d,512) => (w,h,d,256)\n",
        "                Conv3DBlock(256, 256), # (w,h,d,256) => (w,h,d,256)\n",
        "                SingleDeconv3DBlock(256, 128) # (w,h,d,256) => (w,h,d,128)\n",
        "            )\n",
        "\n",
        "        self.decoder3_upsampler = \\\n",
        "            nn.Sequential(\n",
        "                Conv3DBlock(256, 128),  # (w,h,d,256) => (w,h,d,128)\n",
        "                Conv3DBlock(128, 128), # (w,h,d,128) => (w,h,d,128)\n",
        "                SingleDeconv3DBlock(128, 64) # (w,h,d,128) => (w,h,d,64)\n",
        "            )\n",
        "\n",
        "        self.decoder0_header = \\\n",
        "            nn.Sequential(\n",
        "                Conv3DBlock(128, 64), # (w,h,d,128) => (w,h,d,64)\n",
        "                Conv3DBlock(64, 64), # (w,h,d,64) => (w,h,d,64)\n",
        "                SingleConv3DBlock(64, output_dim, 1) # (w,h,d,64) => (w,h,d,output_dim)\n",
        "            )\n",
        "\n",
        "    def forward(self, x):\n",
        "        z = self.transformer(x) # (b,w*h*d,768)\n",
        "        z0, z3, z6, z9, z12 = x, *z\n",
        "        z3 = z3.transpose(-1, -2).view(-1, self.embed_dim, *self.patch_dim)\n",
        "        z6 = z6.transpose(-1, -2).view(-1, self.embed_dim, *self.patch_dim)\n",
        "        z9 = z9.transpose(-1, -2).view(-1, self.embed_dim, *self.patch_dim)\n",
        "        z12 = z12.transpose(-1, -2).view(-1, self.embed_dim, *self.patch_dim)\n",
        "\n",
        "        z12 = self.decoder12_upsampler(z12)\n",
        "        z9 = self.decoder9(z9)\n",
        "        z9 = self.decoder9_upsampler(torch.cat([z9, z12], dim=1))\n",
        "        z6 = self.decoder6(z6)\n",
        "        z6 = self.decoder6_upsampler(torch.cat([z6, z9], dim=1))\n",
        "        z3 = self.decoder3(z3)\n",
        "        z3 = self.decoder3_upsampler(torch.cat([z3, z6], dim=1))\n",
        "        z0 = self.decoder0(z0)\n",
        "        output = self.decoder0_header(torch.cat([z0, z3], dim=1))\n",
        "        return output"
      ],
      "metadata": {
        "id": "exiklIzc34p4"
      },
      "execution_count": null,
      "outputs": []
    },
    {
      "cell_type": "code",
      "source": [
        "x = torch.rand(1,4,32,32,32)"
      ],
      "metadata": {
        "id": "Tu2U1H95jNQc"
      },
      "execution_count": null,
      "outputs": []
    },
    {
      "cell_type": "code",
      "source": [
        "unetr = UNETR(img_shape=(32,32,32), input_dim=4, output_dim=3, embed_dim=768, patch_size=16, num_heads=12, dropout=0.1)\n",
        "y = unetr(x)\n",
        "y.shape"
      ],
      "metadata": {
        "colab": {
          "base_uri": "https://localhost:8080/"
        },
        "id": "w9YzUu9KjVo1",
        "outputId": "a5eea777-22fb-496d-82a1-4ce9aa9843df"
      },
      "execution_count": null,
      "outputs": [
        {
          "output_type": "execute_result",
          "data": {
            "text/plain": [
              "torch.Size([8, 3, 32, 32, 32])"
            ]
          },
          "metadata": {},
          "execution_count": 11
        }
      ]
    },
    {
      "cell_type": "code",
      "source": [
        "embeddings = Embeddings(patch_size=16, input_dim=4, cube_size=(32,32,32), embed_dim=768, dropout=0)\n",
        "y = embeddings(x)\n",
        "y.shape\n"
      ],
      "metadata": {
        "colab": {
          "base_uri": "https://localhost:8080/"
        },
        "id": "f0JLVRZIpZhO",
        "outputId": "4abe0478-552f-4897-e731-95da407294ed"
      },
      "execution_count": null,
      "outputs": [
        {
          "output_type": "execute_result",
          "data": {
            "text/plain": [
              "torch.Size([1, 8, 768])"
            ]
          },
          "metadata": {},
          "execution_count": 37
        }
      ]
    },
    {
      "cell_type": "code",
      "source": [
        "selfa = SelfAttention(num_heads=12, embed_dim=768, dropout=0)\n",
        "selfa = selfa(y)\n",
        "selfa[0].shape"
      ],
      "metadata": {
        "colab": {
          "base_uri": "https://localhost:8080/"
        },
        "id": "-SLlrsKmqT9N",
        "outputId": "2b0be829-3659-4a46-87df-6a661d0f4e55"
      },
      "execution_count": null,
      "outputs": [
        {
          "output_type": "execute_result",
          "data": {
            "text/plain": [
              "torch.Size([1, 8, 768])"
            ]
          },
          "metadata": {},
          "execution_count": 40
        }
      ]
    },
    {
      "cell_type": "code",
      "source": [
        "input_dim = 4\n",
        "x = Conv3DBlock(input_dim, 32, 3), # (b,w,h,d,4) => (w,h,d,32)\n",
        "x"
      ],
      "metadata": {
        "colab": {
          "base_uri": "https://localhost:8080/"
        },
        "id": "Nc6fiNk6tuZN",
        "outputId": "48ec25ea-0dc6-4961-81d2-7bfe1944a036"
      },
      "execution_count": null,
      "outputs": [
        {
          "output_type": "execute_result",
          "data": {
            "text/plain": [
              "(Conv3DBlock(\n",
              "   (block): Sequential(\n",
              "     (0): SingleConv3DBlock(\n",
              "       (block): Conv3d(4, 32, kernel_size=(3, 3, 3), stride=(1, 1, 1), padding=(1, 1, 1))\n",
              "     )\n",
              "     (1): BatchNorm3d(32, eps=1e-05, momentum=0.1, affine=True, track_running_stats=True)\n",
              "     (2): ReLU(inplace=True)\n",
              "   )\n",
              " ),)"
            ]
          },
          "metadata": {},
          "execution_count": 43
        }
      ]
    },
    {
      "cell_type": "code",
      "source": [
        "model = Embeddings(patch_size=16, input_dim=4, cube_size=(32,32,32), embed_dim=768, dropout=0)\n",
        "len(list(model.parameters()))"
      ],
      "metadata": {
        "colab": {
          "base_uri": "https://localhost:8080/"
        },
        "id": "lBsT8n7c3pWq",
        "outputId": "4cc60c11-e909-4618-e5c4-ba855df0afdc"
      },
      "execution_count": null,
      "outputs": [
        {
          "output_type": "execute_result",
          "data": {
            "text/plain": [
              "3"
            ]
          },
          "metadata": {},
          "execution_count": 61
        }
      ]
    },
    {
      "cell_type": "code",
      "source": [
        "for i in range(3):\n",
        "   print(list(model.parameters())[i].shape)"
      ],
      "metadata": {
        "colab": {
          "base_uri": "https://localhost:8080/"
        },
        "id": "HaCK_8hz5NMR",
        "outputId": "717bc2c3-4512-45be-aaee-ab9c325fce63"
      },
      "execution_count": null,
      "outputs": [
        {
          "output_type": "stream",
          "name": "stdout",
          "text": [
            "torch.Size([1, 8, 768])\n",
            "torch.Size([768, 4, 16, 16, 16])\n",
            "torch.Size([768])\n"
          ]
        }
      ]
    },
    {
      "cell_type": "markdown",
      "source": [
        "# UNET2D Test // Trash"
      ],
      "metadata": {
        "id": "e_bOVlt4z_om"
      }
    },
    {
      "cell_type": "code",
      "source": [
        "# If you are not working on Google Colab, please set the variable to False.\n",
        "\n",
        "colab = True\n",
        "\n",
        "if colab:\n",
        "  from google.colab import drive\n",
        "  drive.mount('/content/drive/')\n",
        "\n",
        "if colab:\n",
        "  import subprocess\n",
        "  from google.colab import files\n",
        "\n",
        "  bashCommand = \"pip install torch-summary dival\"\n",
        "  process = subprocess.Popen(bashCommand.split(), stdout=subprocess.PIPE)\n",
        "  output, error = process.communicate()\n",
        "\n",
        "import os\n",
        "import numpy as np\n",
        "import matplotlib.pyplot as plt\n",
        "import torch\n",
        "import torch.nn as nn\n",
        "import torchvision.transforms as transforms\n",
        "\n",
        "from tqdm import tqdm\n",
        "from torch.utils.data import Dataset, DataLoader\n",
        "from dival.measure import PSNR, SSIM\n",
        "from torchsummary import summary"
      ],
      "metadata": {
        "colab": {
          "base_uri": "https://localhost:8080/"
        },
        "id": "HouFLrPPz-7u",
        "outputId": "1e3558ae-31e3-4ad6-bf94-e2cc090a39bf"
      },
      "execution_count": null,
      "outputs": [
        {
          "output_type": "stream",
          "name": "stdout",
          "text": [
            "Mounted at /content/drive/\n"
          ]
        }
      ]
    },
    {
      "cell_type": "code",
      "source": [
        "if torch.cuda.is_available():\n",
        "    device = torch.device(\"cuda:0\")\n",
        "    print(\"Running on GPU\", torch.cuda.get_device_name(device))\n",
        "else:\n",
        "    device = torch.device(\"cpu\")\n",
        "    print(\"Running on CPU\")"
      ],
      "metadata": {
        "colab": {
          "base_uri": "https://localhost:8080/"
        },
        "id": "h52BnGIg0D7D",
        "outputId": "af34f757-921f-4731-83f1-dc84ab97e129"
      },
      "execution_count": null,
      "outputs": [
        {
          "output_type": "stream",
          "name": "stdout",
          "text": [
            "Running on GPU Tesla T4\n"
          ]
        }
      ]
    },
    {
      "cell_type": "code",
      "source": [
        "'''\n",
        "from torchvision import datasets\n",
        "train_data = datasets.FashionMNIST(\n",
        "    root='data',\n",
        "    train=True, \n",
        "    download=True,\n",
        "    transform=torchvision.transforms.ToTensor(),\n",
        "    target_transforms=None\n",
        ")\n",
        "\n",
        "test_data = datasets.FashionMNIST(\n",
        "    root='data',\n",
        "    train=False, \n",
        "    download=True,\n",
        "    transform=ToTensor(),\n",
        "    target_transforms=None\n",
        ")\n",
        "'''"
      ],
      "metadata": {
        "id": "sdwvnH3LJp2h"
      },
      "execution_count": null,
      "outputs": []
    },
    {
      "cell_type": "code",
      "source": [
        "'''\n",
        "# memory footprint support libraries/code\n",
        "!ln -sf /opt/bin/nvidia-smi /usr/bin/nvidia-smi\n",
        "!pip install gputil\n",
        "!pip install psutil\n",
        "!pip install humanize\n",
        "\n",
        "import psutil\n",
        "import humanize\n",
        "import os\n",
        "import GPUtil as GPU\n",
        "\n",
        "GPUs = GPU.getGPUs()\n",
        "# XXX: only one GPU on Colab and isn’t guaranteed\n",
        "gpu = GPUs[0]\n",
        "def printm():\n",
        "    process = psutil.Process(os.getpid())\n",
        "    print(\"Gen RAM Free: \" + humanize.naturalsize(psutil.virtual_memory().available), \" |     Proc size: \" + humanize.naturalsize(process.memory_info().rss))\n",
        "    print(\"GPU RAM Free: {0:.0f}MB | Used: {1:.0f}MB | Util {2:3.0f}% | Total     {3:.0f}MB\".format(gpu.memoryFree, gpu.memoryUsed, gpu.memoryUtil*100, gpu.memoryTotal))\n",
        "printm()\n",
        "'''"
      ],
      "metadata": {
        "id": "vGBSMNYqJs7u"
      },
      "execution_count": null,
      "outputs": []
    },
    {
      "cell_type": "code",
      "source": [
        "'''\n",
        "from going_modular.going_modular import engine\n",
        "\n",
        "# Train a pretrained ViT feature extractor\n",
        "optimizer = torch.optim.Adam(params=UNETR().parameters(),\n",
        "                             lr=1e-3)\n",
        "loss_fn = torch.nn.CrossEntropyLoss()\n",
        "\n",
        "set_seeds()\n",
        "model=UNETR()\n",
        "\n",
        "train_data = torch.utils.data.Dataloader(train_dataloader)\n",
        "test_data = torch.utils.data.Dataloader(test_dataloader)\n",
        "\n",
        "num_epochs = 10\n",
        "for epoch in range(num_epochs):\n",
        "    running_loss = 0.0\n",
        "    for i, data in enumerate(train_data, 0):\n",
        "        inputs, labels = data\n",
        "        optimizer.zero_grad()\n",
        "        outputs = model(inputs)\n",
        "        loss = loss_fn(outputs, labels)\n",
        "        loss.backward()\n",
        "        optimizer.step()\n",
        "        running_loss += loss.item()\n",
        "\n",
        "%%time\n",
        "# Building a training and testing loop\n",
        "torch.manual_seed(42) \n",
        "torch.cuda.manual_seed(42)\n",
        "\n",
        "epochs = 1000\n",
        "\n",
        "# Put data to target device\n",
        "X_train, y_train = X_train.to(device), y_train.to(device)\n",
        "X_test, y_test = X_test.to(device), y_test.to(device)\n",
        "\n",
        "# Building training and evaluation loop\n",
        "for epoch in range(epochs):\n",
        "  ### Training\n",
        "  model.train()\n",
        "\n",
        "  # Forward pass\n",
        "  y_logits = model(X_train).squeeze()\n",
        "  y_pred = torch.round(torch.sigmoid(y_logits)) # Turn logits -> pred probs -> pred labels\n",
        "\n",
        "  # Loss\n",
        "  loss = loss_fn(y_logits, y_train) # nn.BCEWithLogitsLoss expects raw logits as input\n",
        "\n",
        "  acc = accuracy_fn(y_true=y_train, y_pred=y_pred)\n",
        "\n",
        "  # optimzer zero grad\n",
        "  optimizer.zero_grad()\n",
        "\n",
        "  # backpropagation\n",
        "  loss.backward()\n",
        "\n",
        "  # optimizer step (gradient descent)\n",
        "  optimizer.step()\n",
        "\n",
        "  # Testing\n",
        "  model_0.eval()\n",
        "  with torch.inference_mode():\n",
        "    # Forward\n",
        "    test_logits = model_0(X_test).squeeze()\n",
        "    test_pred = torch.round(torch.sigmoid(test_logits))\n",
        "\n",
        "    # Test loss/acc\n",
        "    test_loss = loss_fn(test_logits, y_test)\n",
        "    test_acc = accuracy_fn(y_true=y_test, y_pred=test_pred)\n",
        "\n",
        "    if epoch % 10 == 0: \n",
        "      print(f'Epoch: {epoch} | Loss: {loss:.5f}, Acc: {acc:.2f}% | Test loss: {test_loss:.5f}, Test acc: {test_acc:.2f}%')\n",
        "'''"
      ],
      "metadata": {
        "id": "nA4OPh9MJvK1"
      },
      "execution_count": null,
      "outputs": []
    },
    {
      "cell_type": "code",
      "source": [
        "'''\n",
        "# Get 20% of the data\n",
        "data_20_percent_path = download_data(source=\"https://github.com/mrdbourke/pytorch-deep-learning/raw/main/data/pizza_steak_sushi_20_percent.zip\",\n",
        "                                     destination=\"pizza_steak_sushi_20_percent\")\n",
        "\n",
        "# Setup train and test directories\n",
        "train_dir_20_percent = data_20_percent_path / \"train\"\n",
        "# test_dir_20_percent = data_20_percent_path / \"test\" # don't need 20% test data as the model in 07. PyTorch Experiment Tracking section 7.3 tests on the 10% dataset not the 20%\n",
        "\n",
        "# Preprocess the data\n",
        "train_dataloader_20_percent, test_dataloader, class_names = data_setup.create_dataloaders(train_dir=train_dir_20_percent, \n",
        "                                                                                           test_dir=test_dir, # use 10% data for testing\n",
        "                                                                                          transform=torchvision.transforms.ToTensor(),\n",
        "                                                                                           batch_size=8)\n",
        "'''"
      ],
      "metadata": {
        "id": "rLOgb7kzJ2Du"
      },
      "execution_count": null,
      "outputs": []
    }
  ]
}